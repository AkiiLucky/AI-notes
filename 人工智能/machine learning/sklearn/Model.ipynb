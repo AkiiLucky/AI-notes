{
 "cells": [
  {
   "cell_type": "markdown",
   "metadata": {},
   "source": [
    "# 1. 数据的清洗处理 "
   ]
  },
  {
   "cell_type": "code",
   "execution_count": 1,
   "metadata": {},
   "outputs": [],
   "source": [
    "import pandas as pd\n",
    "import numpy as np"
   ]
  },
  {
   "cell_type": "code",
   "execution_count": 2,
   "metadata": {},
   "outputs": [
    {
     "data": {
      "text/html": [
       "<div>\n",
       "<style scoped>\n",
       "    .dataframe tbody tr th:only-of-type {\n",
       "        vertical-align: middle;\n",
       "    }\n",
       "\n",
       "    .dataframe tbody tr th {\n",
       "        vertical-align: top;\n",
       "    }\n",
       "\n",
       "    .dataframe thead th {\n",
       "        text-align: right;\n",
       "    }\n",
       "</style>\n",
       "<table border=\"1\" class=\"dataframe\">\n",
       "  <thead>\n",
       "    <tr style=\"text-align: right;\">\n",
       "      <th></th>\n",
       "      <th>user</th>\n",
       "      <th>proj</th>\n",
       "      <th>star</th>\n",
       "      <th>proj_page_link</th>\n",
       "      <th>about</th>\n",
       "      <th>Readme</th>\n",
       "      <th>fork</th>\n",
       "      <th>Releases</th>\n",
       "      <th>branches</th>\n",
       "      <th>Contributors</th>\n",
       "      <th>toptags</th>\n",
       "      <th>Languages</th>\n",
       "      <th>issues_open_num</th>\n",
       "      <th>issues_closed_num</th>\n",
       "      <th>pulls_open_num</th>\n",
       "      <th>pulls_closed_num</th>\n",
       "      <th>dependency</th>\n",
       "    </tr>\n",
       "  </thead>\n",
       "  <tbody>\n",
       "    <tr>\n",
       "      <th>0</th>\n",
       "      <td>tensorflow</td>\n",
       "      <td>tensorflow</td>\n",
       "      <td>160000</td>\n",
       "      <td>http://github.com/tensorflow/tensorflow</td>\n",
       "      <td>None</td>\n",
       "      <td>http://github.com/tensorflow/tensorflow/blob/m...</td>\n",
       "      <td>85600</td>\n",
       "      <td>146</td>\n",
       "      <td>44</td>\n",
       "      <td>3,003</td>\n",
       "      <td>[python, machine-learning, deep-neural-network...</td>\n",
       "      <td>[[C++, 62.1%], [Python, 24.9%], [MLIR, 3.7%], ...</td>\n",
       "      <td>2,903</td>\n",
       "      <td>30,171</td>\n",
       "      <td>183</td>\n",
       "      <td>18,737</td>\n",
       "      <td>[keras-applications, keras-preprocessing, abse...</td>\n",
       "    </tr>\n",
       "    <tr>\n",
       "      <th>1</th>\n",
       "      <td>mkdocs</td>\n",
       "      <td>mkdocs</td>\n",
       "      <td>13000</td>\n",
       "      <td>http://github.com/mkdocs/mkdocs</td>\n",
       "      <td>Project documentation with Markdown.</td>\n",
       "      <td>http://github.com/mkdocs/mkdocs/blob/master/RE...</td>\n",
       "      <td>1800</td>\n",
       "      <td>2</td>\n",
       "      <td>6</td>\n",
       "      <td>187</td>\n",
       "      <td>[python, markdown, static-site-generator, docu...</td>\n",
       "      <td>[[Python, 74.6%], [JavaScript, 18.7%], [HTML, ...</td>\n",
       "      <td>99</td>\n",
       "      <td>1,478</td>\n",
       "      <td>15</td>\n",
       "      <td>941</td>\n",
       "      <td>[click, ghp-import, importlib_metadata, jinja,...</td>\n",
       "    </tr>\n",
       "    <tr>\n",
       "      <th>2</th>\n",
       "      <td>leon-ai</td>\n",
       "      <td>leon</td>\n",
       "      <td>7900</td>\n",
       "      <td>http://github.com/leon-ai/leon</td>\n",
       "      <td>None</td>\n",
       "      <td>http://github.com/leon-ai/leon/blob/develop/RE...</td>\n",
       "      <td>686</td>\n",
       "      <td>0</td>\n",
       "      <td>7</td>\n",
       "      <td>15</td>\n",
       "      <td>[nodejs, python, bot, text-to-speech, automati...</td>\n",
       "      <td>[[JavaScript, 60.0%], [Python, 37.5%], [CSS, 1...</td>\n",
       "      <td>38</td>\n",
       "      <td>150</td>\n",
       "      <td>17</td>\n",
       "      <td>109</td>\n",
       "      <td>[acorn, axios, bl, dot-prop, elliptic, eslint-...</td>\n",
       "    </tr>\n",
       "  </tbody>\n",
       "</table>\n",
       "</div>"
      ],
      "text/plain": [
       "         user        proj    star                           proj_page_link  \\\n",
       "0  tensorflow  tensorflow  160000  http://github.com/tensorflow/tensorflow   \n",
       "1      mkdocs      mkdocs   13000          http://github.com/mkdocs/mkdocs   \n",
       "2     leon-ai        leon    7900           http://github.com/leon-ai/leon   \n",
       "\n",
       "                                  about  \\\n",
       "0                                  None   \n",
       "1  Project documentation with Markdown.   \n",
       "2                                  None   \n",
       "\n",
       "                                              Readme   fork  Releases  \\\n",
       "0  http://github.com/tensorflow/tensorflow/blob/m...  85600       146   \n",
       "1  http://github.com/mkdocs/mkdocs/blob/master/RE...   1800         2   \n",
       "2  http://github.com/leon-ai/leon/blob/develop/RE...    686         0   \n",
       "\n",
       "  branches Contributors                                            toptags  \\\n",
       "0       44        3,003  [python, machine-learning, deep-neural-network...   \n",
       "1        6          187  [python, markdown, static-site-generator, docu...   \n",
       "2        7           15  [nodejs, python, bot, text-to-speech, automati...   \n",
       "\n",
       "                                           Languages issues_open_num  \\\n",
       "0  [[C++, 62.1%], [Python, 24.9%], [MLIR, 3.7%], ...           2,903   \n",
       "1  [[Python, 74.6%], [JavaScript, 18.7%], [HTML, ...              99   \n",
       "2  [[JavaScript, 60.0%], [Python, 37.5%], [CSS, 1...              38   \n",
       "\n",
       "  issues_closed_num pulls_open_num pulls_closed_num  \\\n",
       "0            30,171            183           18,737   \n",
       "1             1,478             15              941   \n",
       "2               150             17              109   \n",
       "\n",
       "                                          dependency  \n",
       "0  [keras-applications, keras-preprocessing, abse...  \n",
       "1  [click, ghp-import, importlib_metadata, jinja,...  \n",
       "2  [acorn, axios, bl, dot-prop, elliptic, eslint-...  "
      ]
     },
     "execution_count": 2,
     "metadata": {},
     "output_type": "execute_result"
    }
   ],
   "source": [
    "df = pd.read_json('github2.jl', lines=True)\n",
    "df.head(3)"
   ]
  },
  {
   "cell_type": "code",
   "execution_count": 3,
   "metadata": {},
   "outputs": [
    {
     "name": "stdout",
     "output_type": "stream",
     "text": [
      "<class 'pandas.core.frame.DataFrame'>\n",
      "RangeIndex: 990 entries, 0 to 989\n",
      "Data columns (total 17 columns):\n",
      " #   Column             Non-Null Count  Dtype \n",
      "---  ------             --------------  ----- \n",
      " 0   user               990 non-null    object\n",
      " 1   proj               990 non-null    object\n",
      " 2   star               990 non-null    int64 \n",
      " 3   proj_page_link     990 non-null    object\n",
      " 4   about              765 non-null    object\n",
      " 5   Readme             990 non-null    object\n",
      " 6   fork               990 non-null    int64 \n",
      " 7   Releases           990 non-null    int64 \n",
      " 8   branches           990 non-null    object\n",
      " 9   Contributors       990 non-null    object\n",
      " 10  toptags            990 non-null    object\n",
      " 11  Languages          990 non-null    object\n",
      " 12  issues_open_num    990 non-null    object\n",
      " 13  issues_closed_num  990 non-null    object\n",
      " 14  pulls_open_num     990 non-null    object\n",
      " 15  pulls_closed_num   990 non-null    object\n",
      " 16  dependency         990 non-null    object\n",
      "dtypes: int64(3), object(14)\n",
      "memory usage: 131.6+ KB\n"
     ]
    }
   ],
   "source": [
    "df.info()"
   ]
  },
  {
   "cell_type": "code",
   "execution_count": 4,
   "metadata": {},
   "outputs": [
    {
     "data": {
      "text/plain": [
       "user                   0\n",
       "proj                   0\n",
       "star                   0\n",
       "proj_page_link         0\n",
       "about                225\n",
       "Readme                 0\n",
       "fork                   0\n",
       "Releases               0\n",
       "branches               0\n",
       "Contributors           0\n",
       "toptags                0\n",
       "Languages              0\n",
       "issues_open_num        0\n",
       "issues_closed_num      0\n",
       "pulls_open_num         0\n",
       "pulls_closed_num       0\n",
       "dependency             0\n",
       "dtype: int64"
      ]
     },
     "execution_count": 4,
     "metadata": {},
     "output_type": "execute_result"
    }
   ],
   "source": [
    "df.isnull().sum()"
   ]
  },
  {
   "cell_type": "code",
   "execution_count": 5,
   "metadata": {},
   "outputs": [],
   "source": [
    "df[\"pulls_closed_num\"] = df[\"pulls_closed_num\"].map(lambda x: int(x.replace(\",\", \"\")))\n",
    "df[\"pulls_open_num\"] = df[\"pulls_open_num\"].map(lambda x: int(x.replace(\",\", \"\")))\n",
    "df[\"issues_closed_num\"] = df[\"issues_closed_num\"].map(lambda x: int(x.replace(\",\", \"\")))\n",
    "df[\"issues_open_num\"] = df[\"issues_open_num\"].map(lambda x: int(x.replace(\",\", \"\")))\n",
    "df[\"branches\"] = df[\"branches\"].map(lambda x: int(x.replace(\",\", \"\")))"
   ]
  },
  {
   "cell_type": "code",
   "execution_count": 6,
   "metadata": {},
   "outputs": [],
   "source": [
    "def str_to_num(str):  #去掉逗号和加号\n",
    "    if str:\n",
    "        str = str.strip()\n",
    "        return int(str.replace(\",\", \"\").replace(\"+\", \"\")) \n",
    "    else:\n",
    "        return 0\n",
    "\n",
    "df[\"Contributors\"] = df[\"Contributors\"].map(lambda x:str_to_num(x))"
   ]
  },
  {
   "cell_type": "code",
   "execution_count": 7,
   "metadata": {},
   "outputs": [],
   "source": [
    "df[\"toptags\"] = df[\"toptags\"].map(lambda x: \" \".join(x))\n",
    "df[\"dependency\"] = df[\"dependency\"].map(lambda x: \" \".join(x))"
   ]
  },
  {
   "cell_type": "code",
   "execution_count": 8,
   "metadata": {},
   "outputs": [],
   "source": [
    "def transform(str):   #去掉标点符号\n",
    "    if not str:\n",
    "        return \" \"\n",
    "    lst = list(str)\n",
    "    for i in range(len(lst)):\n",
    "        if not lst[i].isalpha() and not lst[i].isdigit():\n",
    "            lst[i] = \" \"\n",
    "    res = \"\".join(lst)\n",
    "    return res"
   ]
  },
  {
   "cell_type": "code",
   "execution_count": 9,
   "metadata": {},
   "outputs": [],
   "source": [
    "df[\"about\"] = df[\"about\"].map(lambda x: transform(x))"
   ]
  },
  {
   "cell_type": "code",
   "execution_count": 10,
   "metadata": {},
   "outputs": [
    {
     "name": "stdout",
     "output_type": "stream",
     "text": [
      "<class 'pandas.core.frame.DataFrame'>\n",
      "RangeIndex: 990 entries, 0 to 989\n",
      "Data columns (total 17 columns):\n",
      " #   Column             Non-Null Count  Dtype \n",
      "---  ------             --------------  ----- \n",
      " 0   user               990 non-null    object\n",
      " 1   proj               990 non-null    object\n",
      " 2   star               990 non-null    int64 \n",
      " 3   proj_page_link     990 non-null    object\n",
      " 4   about              990 non-null    object\n",
      " 5   Readme             990 non-null    object\n",
      " 6   fork               990 non-null    int64 \n",
      " 7   Releases           990 non-null    int64 \n",
      " 8   branches           990 non-null    int64 \n",
      " 9   Contributors       990 non-null    int64 \n",
      " 10  toptags            990 non-null    object\n",
      " 11  Languages          990 non-null    object\n",
      " 12  issues_open_num    990 non-null    int64 \n",
      " 13  issues_closed_num  990 non-null    int64 \n",
      " 14  pulls_open_num     990 non-null    int64 \n",
      " 15  pulls_closed_num   990 non-null    int64 \n",
      " 16  dependency         990 non-null    object\n",
      "dtypes: int64(9), object(8)\n",
      "memory usage: 131.6+ KB\n"
     ]
    }
   ],
   "source": [
    "df.info()"
   ]
  },
  {
   "cell_type": "markdown",
   "metadata": {},
   "source": [
    "# 2. 数据的统计分析"
   ]
  },
  {
   "cell_type": "code",
   "execution_count": 11,
   "metadata": {},
   "outputs": [
    {
     "data": {
      "text/html": [
       "<div>\n",
       "<style scoped>\n",
       "    .dataframe tbody tr th:only-of-type {\n",
       "        vertical-align: middle;\n",
       "    }\n",
       "\n",
       "    .dataframe tbody tr th {\n",
       "        vertical-align: top;\n",
       "    }\n",
       "\n",
       "    .dataframe thead th {\n",
       "        text-align: right;\n",
       "    }\n",
       "</style>\n",
       "<table border=\"1\" class=\"dataframe\">\n",
       "  <thead>\n",
       "    <tr style=\"text-align: right;\">\n",
       "      <th></th>\n",
       "      <th>proj</th>\n",
       "      <th>star</th>\n",
       "      <th>about</th>\n",
       "      <th>fork</th>\n",
       "      <th>Releases</th>\n",
       "      <th>branches</th>\n",
       "      <th>Contributors</th>\n",
       "      <th>toptags</th>\n",
       "      <th>issues_open_num</th>\n",
       "      <th>issues_closed_num</th>\n",
       "      <th>pulls_open_num</th>\n",
       "      <th>pulls_closed_num</th>\n",
       "      <th>dependency</th>\n",
       "    </tr>\n",
       "  </thead>\n",
       "  <tbody>\n",
       "    <tr>\n",
       "      <th>0</th>\n",
       "      <td>tensorflow</td>\n",
       "      <td>160000</td>\n",
       "      <td></td>\n",
       "      <td>85600</td>\n",
       "      <td>146</td>\n",
       "      <td>44</td>\n",
       "      <td>3003</td>\n",
       "      <td>python machine-learning deep-neural-networks d...</td>\n",
       "      <td>2903</td>\n",
       "      <td>30171</td>\n",
       "      <td>183</td>\n",
       "      <td>18737</td>\n",
       "      <td>keras-applications keras-preprocessing abseil-...</td>\n",
       "    </tr>\n",
       "    <tr>\n",
       "      <th>1</th>\n",
       "      <td>mkdocs</td>\n",
       "      <td>13000</td>\n",
       "      <td>Project documentation with Markdown</td>\n",
       "      <td>1800</td>\n",
       "      <td>2</td>\n",
       "      <td>6</td>\n",
       "      <td>187</td>\n",
       "      <td>python markdown static-site-generator document...</td>\n",
       "      <td>99</td>\n",
       "      <td>1478</td>\n",
       "      <td>15</td>\n",
       "      <td>941</td>\n",
       "      <td>click ghp-import importlib_metadata jinja mark...</td>\n",
       "    </tr>\n",
       "    <tr>\n",
       "      <th>2</th>\n",
       "      <td>leon</td>\n",
       "      <td>7900</td>\n",
       "      <td></td>\n",
       "      <td>686</td>\n",
       "      <td>0</td>\n",
       "      <td>7</td>\n",
       "      <td>15</td>\n",
       "      <td>nodejs python bot text-to-speech automation pr...</td>\n",
       "      <td>38</td>\n",
       "      <td>150</td>\n",
       "      <td>17</td>\n",
       "      <td>109</td>\n",
       "      <td>acorn axios bl dot-prop elliptic eslint-utils ...</td>\n",
       "    </tr>\n",
       "  </tbody>\n",
       "</table>\n",
       "</div>"
      ],
      "text/plain": [
       "         proj    star                                 about   fork  Releases  \\\n",
       "0  tensorflow  160000                                        85600       146   \n",
       "1      mkdocs   13000  Project documentation with Markdown    1800         2   \n",
       "2        leon    7900                                          686         0   \n",
       "\n",
       "   branches  Contributors                                            toptags  \\\n",
       "0        44          3003  python machine-learning deep-neural-networks d...   \n",
       "1         6           187  python markdown static-site-generator document...   \n",
       "2         7            15  nodejs python bot text-to-speech automation pr...   \n",
       "\n",
       "   issues_open_num  issues_closed_num  pulls_open_num  pulls_closed_num  \\\n",
       "0             2903              30171             183             18737   \n",
       "1               99               1478              15               941   \n",
       "2               38                150              17               109   \n",
       "\n",
       "                                          dependency  \n",
       "0  keras-applications keras-preprocessing abseil-...  \n",
       "1  click ghp-import importlib_metadata jinja mark...  \n",
       "2  acorn axios bl dot-prop elliptic eslint-utils ...  "
      ]
     },
     "execution_count": 11,
     "metadata": {},
     "output_type": "execute_result"
    }
   ],
   "source": [
    "df.drop(columns=[\"proj_page_link\",\"user\",\"Readme\",\"Languages\"], inplace=True)   #去掉几个不太好分析的列\n",
    "df.head(3)"
   ]
  },
  {
   "cell_type": "code",
   "execution_count": 12,
   "metadata": {},
   "outputs": [
    {
     "data": {
      "text/html": [
       "<div>\n",
       "<style scoped>\n",
       "    .dataframe tbody tr th:only-of-type {\n",
       "        vertical-align: middle;\n",
       "    }\n",
       "\n",
       "    .dataframe tbody tr th {\n",
       "        vertical-align: top;\n",
       "    }\n",
       "\n",
       "    .dataframe thead th {\n",
       "        text-align: right;\n",
       "    }\n",
       "</style>\n",
       "<table border=\"1\" class=\"dataframe\">\n",
       "  <thead>\n",
       "    <tr style=\"text-align: right;\">\n",
       "      <th></th>\n",
       "      <th>proj</th>\n",
       "      <th>about</th>\n",
       "      <th>toptags</th>\n",
       "      <th>dependency</th>\n",
       "    </tr>\n",
       "  </thead>\n",
       "  <tbody>\n",
       "    <tr>\n",
       "      <th>0</th>\n",
       "      <td>tensorflow</td>\n",
       "      <td></td>\n",
       "      <td>python machine-learning deep-neural-networks d...</td>\n",
       "      <td>keras-applications keras-preprocessing abseil-...</td>\n",
       "    </tr>\n",
       "    <tr>\n",
       "      <th>1</th>\n",
       "      <td>mkdocs</td>\n",
       "      <td>Project documentation with Markdown</td>\n",
       "      <td>python markdown static-site-generator document...</td>\n",
       "      <td>click ghp-import importlib_metadata jinja mark...</td>\n",
       "    </tr>\n",
       "    <tr>\n",
       "      <th>2</th>\n",
       "      <td>leon</td>\n",
       "      <td></td>\n",
       "      <td>nodejs python bot text-to-speech automation pr...</td>\n",
       "      <td>acorn axios bl dot-prop elliptic eslint-utils ...</td>\n",
       "    </tr>\n",
       "    <tr>\n",
       "      <th>3</th>\n",
       "      <td>visidata</td>\n",
       "      <td>A terminal spreadsheet multitool for discoveri...</td>\n",
       "      <td>python cli tsv json csv reconciliation sqlite ...</td>\n",
       "      <td>datapackage dnslib dpkt h5py mapbox-vector-til...</td>\n",
       "    </tr>\n",
       "    <tr>\n",
       "      <th>4</th>\n",
       "      <td>elasticsearch-dsl-py</td>\n",
       "      <td></td>\n",
       "      <td>python search elasticsearch</td>\n",
       "      <td>elasticsearch-py ipaddress dateutil six</td>\n",
       "    </tr>\n",
       "    <tr>\n",
       "      <th>...</th>\n",
       "      <td>...</td>\n",
       "      <td>...</td>\n",
       "      <td>...</td>\n",
       "      <td>...</td>\n",
       "    </tr>\n",
       "    <tr>\n",
       "      <th>985</th>\n",
       "      <td>thefuck</td>\n",
       "      <td>Magnificent app which corrects your previous c...</td>\n",
       "      <td>python shell</td>\n",
       "      <td>flake8 python-mock pexpect pypandoc pytest pyt...</td>\n",
       "    </tr>\n",
       "    <tr>\n",
       "      <th>986</th>\n",
       "      <td>awesome-python</td>\n",
       "      <td>A curated list of awesome Python frameworks  l...</td>\n",
       "      <td>python awesome python-library collections pyth...</td>\n",
       "      <td>mkdocs mkdocs-material</td>\n",
       "    </tr>\n",
       "    <tr>\n",
       "      <th>987</th>\n",
       "      <td>Python</td>\n",
       "      <td></td>\n",
       "      <td>python education algorithm practice interview ...</td>\n",
       "      <td>beautifulsoup fake-useragent keras lxml matplo...</td>\n",
       "    </tr>\n",
       "    <tr>\n",
       "      <th>988</th>\n",
       "      <td>CS-Notes</td>\n",
       "      <td></td>\n",
       "      <td>python java computer-science algorithm leetcod...</td>\n",
       "      <td>chai gulp gulp-concat gulp-header gulp-rename ...</td>\n",
       "    </tr>\n",
       "    <tr>\n",
       "      <th>989</th>\n",
       "      <td>system-design-primer</td>\n",
       "      <td>Learn how to design large scale systems  Prep ...</td>\n",
       "      <td>python design development programming web syst...</td>\n",
       "      <td></td>\n",
       "    </tr>\n",
       "  </tbody>\n",
       "</table>\n",
       "<p>990 rows × 4 columns</p>\n",
       "</div>"
      ],
      "text/plain": [
       "                     proj                                              about  \\\n",
       "0              tensorflow                                                      \n",
       "1                  mkdocs               Project documentation with Markdown    \n",
       "2                    leon                                                      \n",
       "3                visidata  A terminal spreadsheet multitool for discoveri...   \n",
       "4    elasticsearch-dsl-py                                                      \n",
       "..                    ...                                                ...   \n",
       "985               thefuck  Magnificent app which corrects your previous c...   \n",
       "986        awesome-python  A curated list of awesome Python frameworks  l...   \n",
       "987                Python                                                      \n",
       "988              CS-Notes                                                      \n",
       "989  system-design-primer  Learn how to design large scale systems  Prep ...   \n",
       "\n",
       "                                               toptags  \\\n",
       "0    python machine-learning deep-neural-networks d...   \n",
       "1    python markdown static-site-generator document...   \n",
       "2    nodejs python bot text-to-speech automation pr...   \n",
       "3    python cli tsv json csv reconciliation sqlite ...   \n",
       "4                          python search elasticsearch   \n",
       "..                                                 ...   \n",
       "985                                       python shell   \n",
       "986  python awesome python-library collections pyth...   \n",
       "987  python education algorithm practice interview ...   \n",
       "988  python java computer-science algorithm leetcod...   \n",
       "989  python design development programming web syst...   \n",
       "\n",
       "                                            dependency  \n",
       "0    keras-applications keras-preprocessing abseil-...  \n",
       "1    click ghp-import importlib_metadata jinja mark...  \n",
       "2    acorn axios bl dot-prop elliptic eslint-utils ...  \n",
       "3    datapackage dnslib dpkt h5py mapbox-vector-til...  \n",
       "4              elasticsearch-py ipaddress dateutil six  \n",
       "..                                                 ...  \n",
       "985  flake8 python-mock pexpect pypandoc pytest pyt...  \n",
       "986                             mkdocs mkdocs-material  \n",
       "987  beautifulsoup fake-useragent keras lxml matplo...  \n",
       "988  chai gulp gulp-concat gulp-header gulp-rename ...  \n",
       "989                                                     \n",
       "\n",
       "[990 rows x 4 columns]"
      ]
     },
     "execution_count": 12,
     "metadata": {},
     "output_type": "execute_result"
    }
   ],
   "source": [
    "df.select_dtypes(include=[\"object\"])  #所有字符列"
   ]
  },
  {
   "cell_type": "code",
   "execution_count": 13,
   "metadata": {},
   "outputs": [
    {
     "data": {
      "text/html": [
       "<div>\n",
       "<style scoped>\n",
       "    .dataframe tbody tr th:only-of-type {\n",
       "        vertical-align: middle;\n",
       "    }\n",
       "\n",
       "    .dataframe tbody tr th {\n",
       "        vertical-align: top;\n",
       "    }\n",
       "\n",
       "    .dataframe thead th {\n",
       "        text-align: right;\n",
       "    }\n",
       "</style>\n",
       "<table border=\"1\" class=\"dataframe\">\n",
       "  <thead>\n",
       "    <tr style=\"text-align: right;\">\n",
       "      <th></th>\n",
       "      <th>star</th>\n",
       "      <th>fork</th>\n",
       "      <th>Releases</th>\n",
       "      <th>branches</th>\n",
       "      <th>Contributors</th>\n",
       "      <th>issues_open_num</th>\n",
       "      <th>issues_closed_num</th>\n",
       "      <th>pulls_open_num</th>\n",
       "      <th>pulls_closed_num</th>\n",
       "    </tr>\n",
       "  </thead>\n",
       "  <tbody>\n",
       "    <tr>\n",
       "      <th>0</th>\n",
       "      <td>160000</td>\n",
       "      <td>85600</td>\n",
       "      <td>146</td>\n",
       "      <td>44</td>\n",
       "      <td>3003</td>\n",
       "      <td>2903</td>\n",
       "      <td>30171</td>\n",
       "      <td>183</td>\n",
       "      <td>18737</td>\n",
       "    </tr>\n",
       "    <tr>\n",
       "      <th>1</th>\n",
       "      <td>13000</td>\n",
       "      <td>1800</td>\n",
       "      <td>2</td>\n",
       "      <td>6</td>\n",
       "      <td>187</td>\n",
       "      <td>99</td>\n",
       "      <td>1478</td>\n",
       "      <td>15</td>\n",
       "      <td>941</td>\n",
       "    </tr>\n",
       "    <tr>\n",
       "      <th>2</th>\n",
       "      <td>7900</td>\n",
       "      <td>686</td>\n",
       "      <td>0</td>\n",
       "      <td>7</td>\n",
       "      <td>15</td>\n",
       "      <td>38</td>\n",
       "      <td>150</td>\n",
       "      <td>17</td>\n",
       "      <td>109</td>\n",
       "    </tr>\n",
       "    <tr>\n",
       "      <th>3</th>\n",
       "      <td>4400</td>\n",
       "      <td>173</td>\n",
       "      <td>31</td>\n",
       "      <td>15</td>\n",
       "      <td>46</td>\n",
       "      <td>27</td>\n",
       "      <td>756</td>\n",
       "      <td>4</td>\n",
       "      <td>289</td>\n",
       "    </tr>\n",
       "    <tr>\n",
       "      <th>4</th>\n",
       "      <td>3300</td>\n",
       "      <td>707</td>\n",
       "      <td>2</td>\n",
       "      <td>16</td>\n",
       "      <td>117</td>\n",
       "      <td>81</td>\n",
       "      <td>1110</td>\n",
       "      <td>11</td>\n",
       "      <td>325</td>\n",
       "    </tr>\n",
       "    <tr>\n",
       "      <th>...</th>\n",
       "      <td>...</td>\n",
       "      <td>...</td>\n",
       "      <td>...</td>\n",
       "      <td>...</td>\n",
       "      <td>...</td>\n",
       "      <td>...</td>\n",
       "      <td>...</td>\n",
       "      <td>...</td>\n",
       "      <td>...</td>\n",
       "    </tr>\n",
       "    <tr>\n",
       "      <th>985</th>\n",
       "      <td>64200</td>\n",
       "      <td>3000</td>\n",
       "      <td>16</td>\n",
       "      <td>2</td>\n",
       "      <td>172</td>\n",
       "      <td>180</td>\n",
       "      <td>429</td>\n",
       "      <td>42</td>\n",
       "      <td>558</td>\n",
       "    </tr>\n",
       "    <tr>\n",
       "      <th>986</th>\n",
       "      <td>104000</td>\n",
       "      <td>20000</td>\n",
       "      <td>0</td>\n",
       "      <td>2</td>\n",
       "      <td>392</td>\n",
       "      <td>11</td>\n",
       "      <td>191</td>\n",
       "      <td>185</td>\n",
       "      <td>1393</td>\n",
       "    </tr>\n",
       "    <tr>\n",
       "      <th>987</th>\n",
       "      <td>120000</td>\n",
       "      <td>32299</td>\n",
       "      <td>0</td>\n",
       "      <td>15</td>\n",
       "      <td>727</td>\n",
       "      <td>26</td>\n",
       "      <td>778</td>\n",
       "      <td>162</td>\n",
       "      <td>4226</td>\n",
       "    </tr>\n",
       "    <tr>\n",
       "      <th>988</th>\n",
       "      <td>140000</td>\n",
       "      <td>44800</td>\n",
       "      <td>0</td>\n",
       "      <td>1</td>\n",
       "      <td>231</td>\n",
       "      <td>78</td>\n",
       "      <td>431</td>\n",
       "      <td>37</td>\n",
       "      <td>526</td>\n",
       "    </tr>\n",
       "    <tr>\n",
       "      <th>989</th>\n",
       "      <td>147000</td>\n",
       "      <td>27100</td>\n",
       "      <td>0</td>\n",
       "      <td>2</td>\n",
       "      <td>110</td>\n",
       "      <td>128</td>\n",
       "      <td>58</td>\n",
       "      <td>122</td>\n",
       "      <td>255</td>\n",
       "    </tr>\n",
       "  </tbody>\n",
       "</table>\n",
       "<p>990 rows × 9 columns</p>\n",
       "</div>"
      ],
      "text/plain": [
       "       star   fork  Releases  branches  Contributors  issues_open_num  \\\n",
       "0    160000  85600       146        44          3003             2903   \n",
       "1     13000   1800         2         6           187               99   \n",
       "2      7900    686         0         7            15               38   \n",
       "3      4400    173        31        15            46               27   \n",
       "4      3300    707         2        16           117               81   \n",
       "..      ...    ...       ...       ...           ...              ...   \n",
       "985   64200   3000        16         2           172              180   \n",
       "986  104000  20000         0         2           392               11   \n",
       "987  120000  32299         0        15           727               26   \n",
       "988  140000  44800         0         1           231               78   \n",
       "989  147000  27100         0         2           110              128   \n",
       "\n",
       "     issues_closed_num  pulls_open_num  pulls_closed_num  \n",
       "0                30171             183             18737  \n",
       "1                 1478              15               941  \n",
       "2                  150              17               109  \n",
       "3                  756               4               289  \n",
       "4                 1110              11               325  \n",
       "..                 ...             ...               ...  \n",
       "985                429              42               558  \n",
       "986                191             185              1393  \n",
       "987                778             162              4226  \n",
       "988                431              37               526  \n",
       "989                 58             122               255  \n",
       "\n",
       "[990 rows x 9 columns]"
      ]
     },
     "execution_count": 13,
     "metadata": {},
     "output_type": "execute_result"
    }
   ],
   "source": [
    "df.select_dtypes(include=[\"int\"])   #所有数值列"
   ]
  },
  {
   "cell_type": "markdown",
   "metadata": {},
   "source": [
    "## 进行数值类型的数据统计"
   ]
  },
  {
   "cell_type": "code",
   "execution_count": 14,
   "metadata": {},
   "outputs": [
    {
     "data": {
      "text/html": [
       "<div>\n",
       "<style scoped>\n",
       "    .dataframe tbody tr th:only-of-type {\n",
       "        vertical-align: middle;\n",
       "    }\n",
       "\n",
       "    .dataframe tbody tr th {\n",
       "        vertical-align: top;\n",
       "    }\n",
       "\n",
       "    .dataframe thead th {\n",
       "        text-align: right;\n",
       "    }\n",
       "</style>\n",
       "<table border=\"1\" class=\"dataframe\">\n",
       "  <thead>\n",
       "    <tr style=\"text-align: right;\">\n",
       "      <th></th>\n",
       "      <th>star</th>\n",
       "      <th>fork</th>\n",
       "      <th>Releases</th>\n",
       "      <th>branches</th>\n",
       "      <th>Contributors</th>\n",
       "      <th>issues_open_num</th>\n",
       "      <th>issues_closed_num</th>\n",
       "      <th>pulls_open_num</th>\n",
       "      <th>pulls_closed_num</th>\n",
       "    </tr>\n",
       "  </thead>\n",
       "  <tbody>\n",
       "    <tr>\n",
       "      <th>count</th>\n",
       "      <td>990.000000</td>\n",
       "      <td>990.000000</td>\n",
       "      <td>990.000000</td>\n",
       "      <td>990.000000</td>\n",
       "      <td>990.000000</td>\n",
       "      <td>990.000000</td>\n",
       "      <td>990.000000</td>\n",
       "      <td>990.000000</td>\n",
       "      <td>990.000000</td>\n",
       "    </tr>\n",
       "    <tr>\n",
       "      <th>mean</th>\n",
       "      <td>7247.676768</td>\n",
       "      <td>1583.515152</td>\n",
       "      <td>23.659596</td>\n",
       "      <td>25.691919</td>\n",
       "      <td>125.983838</td>\n",
       "      <td>165.524242</td>\n",
       "      <td>883.437374</td>\n",
       "      <td>29.514141</td>\n",
       "      <td>1112.034343</td>\n",
       "    </tr>\n",
       "    <tr>\n",
       "      <th>std</th>\n",
       "      <td>12057.422002</td>\n",
       "      <td>3972.486056</td>\n",
       "      <td>65.532279</td>\n",
       "      <td>228.977370</td>\n",
       "      <td>294.321505</td>\n",
       "      <td>401.457780</td>\n",
       "      <td>2233.700028</td>\n",
       "      <td>145.633310</td>\n",
       "      <td>3832.401825</td>\n",
       "    </tr>\n",
       "    <tr>\n",
       "      <th>min</th>\n",
       "      <td>1800.000000</td>\n",
       "      <td>36.000000</td>\n",
       "      <td>0.000000</td>\n",
       "      <td>1.000000</td>\n",
       "      <td>0.000000</td>\n",
       "      <td>0.000000</td>\n",
       "      <td>0.000000</td>\n",
       "      <td>0.000000</td>\n",
       "      <td>0.000000</td>\n",
       "    </tr>\n",
       "    <tr>\n",
       "      <th>25%</th>\n",
       "      <td>2500.000000</td>\n",
       "      <td>357.000000</td>\n",
       "      <td>0.000000</td>\n",
       "      <td>2.000000</td>\n",
       "      <td>15.000000</td>\n",
       "      <td>14.000000</td>\n",
       "      <td>60.000000</td>\n",
       "      <td>2.000000</td>\n",
       "      <td>41.000000</td>\n",
       "    </tr>\n",
       "    <tr>\n",
       "      <th>50%</th>\n",
       "      <td>3800.000000</td>\n",
       "      <td>668.000000</td>\n",
       "      <td>6.000000</td>\n",
       "      <td>5.000000</td>\n",
       "      <td>46.000000</td>\n",
       "      <td>51.500000</td>\n",
       "      <td>259.000000</td>\n",
       "      <td>7.000000</td>\n",
       "      <td>200.000000</td>\n",
       "    </tr>\n",
       "    <tr>\n",
       "      <th>75%</th>\n",
       "      <td>7500.000000</td>\n",
       "      <td>1500.000000</td>\n",
       "      <td>25.000000</td>\n",
       "      <td>14.000000</td>\n",
       "      <td>119.000000</td>\n",
       "      <td>148.000000</td>\n",
       "      <td>807.250000</td>\n",
       "      <td>20.000000</td>\n",
       "      <td>704.500000</td>\n",
       "    </tr>\n",
       "    <tr>\n",
       "      <th>max</th>\n",
       "      <td>160000.000000</td>\n",
       "      <td>85600.000000</td>\n",
       "      <td>924.000000</td>\n",
       "      <td>6948.000000</td>\n",
       "      <td>5000.000000</td>\n",
       "      <td>6935.000000</td>\n",
       "      <td>30171.000000</td>\n",
       "      <td>3138.000000</td>\n",
       "      <td>59579.000000</td>\n",
       "    </tr>\n",
       "  </tbody>\n",
       "</table>\n",
       "</div>"
      ],
      "text/plain": [
       "                star          fork    Releases     branches  Contributors  \\\n",
       "count     990.000000    990.000000  990.000000   990.000000    990.000000   \n",
       "mean     7247.676768   1583.515152   23.659596    25.691919    125.983838   \n",
       "std     12057.422002   3972.486056   65.532279   228.977370    294.321505   \n",
       "min      1800.000000     36.000000    0.000000     1.000000      0.000000   \n",
       "25%      2500.000000    357.000000    0.000000     2.000000     15.000000   \n",
       "50%      3800.000000    668.000000    6.000000     5.000000     46.000000   \n",
       "75%      7500.000000   1500.000000   25.000000    14.000000    119.000000   \n",
       "max    160000.000000  85600.000000  924.000000  6948.000000   5000.000000   \n",
       "\n",
       "       issues_open_num  issues_closed_num  pulls_open_num  pulls_closed_num  \n",
       "count       990.000000         990.000000      990.000000        990.000000  \n",
       "mean        165.524242         883.437374       29.514141       1112.034343  \n",
       "std         401.457780        2233.700028      145.633310       3832.401825  \n",
       "min           0.000000           0.000000        0.000000          0.000000  \n",
       "25%          14.000000          60.000000        2.000000         41.000000  \n",
       "50%          51.500000         259.000000        7.000000        200.000000  \n",
       "75%         148.000000         807.250000       20.000000        704.500000  \n",
       "max        6935.000000       30171.000000     3138.000000      59579.000000  "
      ]
     },
     "execution_count": 14,
     "metadata": {},
     "output_type": "execute_result"
    }
   ],
   "source": [
    "df.select_dtypes(include=[\"int\"]).describe() "
   ]
  },
  {
   "cell_type": "markdown",
   "metadata": {
    "tags": []
   },
   "source": [
    "## 查看数值类型数据的相关性矩阵"
   ]
  },
  {
   "cell_type": "code",
   "execution_count": 15,
   "metadata": {},
   "outputs": [],
   "source": [
    "import seaborn as sns\n",
    "import matplotlib.pyplot as plt\n",
    "%matplotlib inline"
   ]
  },
  {
   "cell_type": "code",
   "execution_count": 16,
   "metadata": {},
   "outputs": [
    {
     "data": {
      "text/plain": [
       "<AxesSubplot:>"
      ]
     },
     "execution_count": 16,
     "metadata": {},
     "output_type": "execute_result"
    },
    {
     "data": {
      "image/png": "[encoded data removed]",
      "text/plain": [
       "<Figure size 720x720 with 2 Axes>"
      ]
     },
     "metadata": {
      "needs_background": "light"
     },
     "output_type": "display_data"
    }
   ],
   "source": [
    "plt.figure(figsize=(10,10))\n",
    "sns.heatmap(df.corr(), annot=True)"
   ]
  },
  {
   "cell_type": "markdown",
   "metadata": {},
   "source": [
    "# 3. 特征矩阵和预估向量的创建"
   ]
  },
  {
   "cell_type": "markdown",
   "metadata": {},
   "source": [
    "## (1) 字符字段转换成特征向量"
   ]
  },
  {
   "cell_type": "markdown",
   "metadata": {},
   "source": [
    "#### 提取toptags列的词频向量"
   ]
  },
  {
   "cell_type": "code",
   "execution_count": 17,
   "metadata": {},
   "outputs": [],
   "source": [
    "from sklearn.feature_extraction.text import CountVectorizer"
   ]
  },
  {
   "cell_type": "code",
   "execution_count": 18,
   "metadata": {},
   "outputs": [],
   "source": [
    "cv_toptags = CountVectorizer(max_features=100)    #提取词频前100的文本特征"
   ]
  },
  {
   "cell_type": "code",
   "execution_count": 19,
   "metadata": {},
   "outputs": [],
   "source": [
    "toptags_feature = cv_toptags.fit_transform(df[\"toptags\"]).toarray()"
   ]
  },
  {
   "cell_type": "code",
   "execution_count": 20,
   "metadata": {},
   "outputs": [
    {
     "data": {
      "text/plain": [
       "(990, 100)"
      ]
     },
     "execution_count": 20,
     "metadata": {},
     "output_type": "execute_result"
    }
   ],
   "source": [
    "toptags_feature.shape"
   ]
  },
  {
   "cell_type": "markdown",
   "metadata": {},
   "source": [
    "#### 提取about列的词频向量"
   ]
  },
  {
   "cell_type": "code",
   "execution_count": 21,
   "metadata": {},
   "outputs": [
    {
     "data": {
      "text/plain": [
       "(990, 100)"
      ]
     },
     "execution_count": 21,
     "metadata": {},
     "output_type": "execute_result"
    }
   ],
   "source": [
    "cv_about = CountVectorizer(max_features=100)\n",
    "about_feature = cv_about.fit_transform(df[\"about\"]).toarray()\n",
    "about_feature.shape"
   ]
  },
  {
   "cell_type": "markdown",
   "metadata": {},
   "source": [
    "### 根据所有项目的项目名和依赖项构造每个项目的被依赖次数列"
   ]
  },
  {
   "cell_type": "code",
   "execution_count": 22,
   "metadata": {},
   "outputs": [],
   "source": [
    "cv_dep = CountVectorizer()"
   ]
  },
  {
   "cell_type": "code",
   "execution_count": 23,
   "metadata": {},
   "outputs": [
    {
     "data": {
      "text/plain": [
       "<990x3815 sparse matrix of type '<class 'numpy.int64'>'\n",
       "\twith 19058 stored elements in Compressed Sparse Row format>"
      ]
     },
     "execution_count": 23,
     "metadata": {},
     "output_type": "execute_result"
    }
   ],
   "source": [
    "cv_dep.fit_transform(df[\"dependency\"])"
   ]
  },
  {
   "cell_type": "code",
   "execution_count": 24,
   "metadata": {
    "tags": []
   },
   "outputs": [],
   "source": [
    "dic_dep = cv_dep.vocabulary_     #词频索引字典"
   ]
  },
  {
   "cell_type": "code",
   "execution_count": 25,
   "metadata": {},
   "outputs": [],
   "source": [
    "df[\"cv_depeds\"] = 0   #初始化"
   ]
  },
  {
   "cell_type": "code",
   "execution_count": 26,
   "metadata": {},
   "outputs": [
    {
     "name": "stderr",
     "output_type": "stream",
     "text": [
      "C:\\Users\\Sion\\AppData\\Local\\Temp/ipykernel_6524/1324575717.py:3: SettingWithCopyWarning: \n",
      "A value is trying to be set on a copy of a slice from a DataFrame\n",
      "\n",
      "See the caveats in the documentation: https://pandas.pydata.org/pandas-docs/stable/user_guide/indexing.html#returning-a-view-versus-a-copy\n",
      "  df[\"cv_depeds\"][i] = dic_dep[df[\"proj\"][i]]\n"
     ]
    },
    {
     "data": {
      "text/plain": [
       "0      3384\n",
       "1      2091\n",
       "2         0\n",
       "3         0\n",
       "4         0\n",
       "       ... \n",
       "985       0\n",
       "986       0\n",
       "987       0\n",
       "988       0\n",
       "989       0\n",
       "Name: cv_depeds, Length: 990, dtype: int64"
      ]
     },
     "execution_count": 26,
     "metadata": {},
     "output_type": "execute_result"
    }
   ],
   "source": [
    "for i in range(len(df[\"cv_depeds\"])):  #统计每个项目的被依赖次数\n",
    "    if df[\"proj\"][i] in dic_dep:\n",
    "        df[\"cv_depeds\"][i] = dic_dep[df[\"proj\"][i]]\n",
    "        \n",
    "df[\"cv_depeds\"]"
   ]
  },
  {
   "cell_type": "code",
   "execution_count": 27,
   "metadata": {},
   "outputs": [
    {
     "data": {
      "text/plain": [
       "442.8424242424242"
      ]
     },
     "execution_count": 27,
     "metadata": {},
     "output_type": "execute_result"
    }
   ],
   "source": [
    "mean_depeds = df[\"cv_depeds\"].mean()  #均值\n",
    "mean_depeds "
   ]
  },
  {
   "cell_type": "code",
   "execution_count": 28,
   "metadata": {},
   "outputs": [
    {
     "data": {
      "text/plain": [
       "0      3384.000000\n",
       "1      2091.000000\n",
       "2       442.842424\n",
       "3       442.842424\n",
       "4       442.842424\n",
       "          ...     \n",
       "985     442.842424\n",
       "986     442.842424\n",
       "987     442.842424\n",
       "988     442.842424\n",
       "989     442.842424\n",
       "Name: cv_depeds, Length: 990, dtype: float64"
      ]
     },
     "execution_count": 28,
     "metadata": {},
     "output_type": "execute_result"
    }
   ],
   "source": [
    "def fill(x, a):\n",
    "    if x == 0:\n",
    "        x = a\n",
    "    return x\n",
    "\n",
    "df[\"cv_depeds\"] = df[\"cv_depeds\"].map(lambda x:fill(x, mean_depeds))  #用均值填充空项\n",
    "df[\"cv_depeds\"]"
   ]
  },
  {
   "cell_type": "markdown",
   "metadata": {},
   "source": [
    "## (2) 数值字段转换成特征向量"
   ]
  },
  {
   "cell_type": "code",
   "execution_count": 29,
   "metadata": {},
   "outputs": [],
   "source": [
    "num_columns = [\"fork\",\"Releases\",\"branches\",\"Contributors\",\"issues_open_num\",\n",
    "               \"issues_closed_num\",\"pulls_open_num\",\"pulls_closed_num\",\"cv_depeds\"] #数值列(加了被依赖次数列）"
   ]
  },
  {
   "cell_type": "code",
   "execution_count": 30,
   "metadata": {},
   "outputs": [],
   "source": [
    "from sklearn.preprocessing import StandardScaler"
   ]
  },
  {
   "cell_type": "code",
   "execution_count": 31,
   "metadata": {},
   "outputs": [],
   "source": [
    "standardScaler = StandardScaler()"
   ]
  },
  {
   "cell_type": "code",
   "execution_count": 32,
   "metadata": {},
   "outputs": [
    {
     "data": {
      "text/plain": [
       "array([[21.16028814,  1.867816  ,  0.07999626, ...,  1.05445269,\n",
       "         4.60125913,  3.12219576],\n",
       "       [ 0.05452361, -0.33068503, -0.08604288, ..., -0.09971261,\n",
       "        -0.04465106,  1.56566837],\n",
       "       [-0.22604706, -0.36121976, -0.08167343, ..., -0.08597255,\n",
       "        -0.26185702, -0.41840155],\n",
       "       ...,\n",
       "       [ 7.73596409, -0.36121976, -0.04671782, ...,  0.91018203,\n",
       "         0.812947  , -0.41840155],\n",
       "       [10.88445052, -0.36121976, -0.10789013, ...,  0.05142808,\n",
       "        -0.15299297, -0.41840155],\n",
       "       [ 6.42655037, -0.36121976, -0.10352068, ...,  0.63538077,\n",
       "        -0.22374155, -0.41840155]])"
      ]
     },
     "execution_count": 32,
     "metadata": {},
     "output_type": "execute_result"
    }
   ],
   "source": [
    "num_features = standardScaler.fit_transform(df[num_columns])\n",
    "num_features"
   ]
  },
  {
   "cell_type": "code",
   "execution_count": 33,
   "metadata": {},
   "outputs": [
    {
     "data": {
      "text/plain": [
       "(990, 9)"
      ]
     },
     "execution_count": 33,
     "metadata": {},
     "output_type": "execute_result"
    }
   ],
   "source": [
    "num_features.shape"
   ]
  },
  {
   "cell_type": "code",
   "execution_count": 34,
   "metadata": {},
   "outputs": [],
   "source": [
    "standardScaler = StandardScaler()"
   ]
  },
  {
   "cell_type": "code",
   "execution_count": 35,
   "metadata": {},
   "outputs": [],
   "source": [
    "toptags_feature = standardScaler.fit_transform(toptags_feature)\n",
    "about_feature = standardScaler.fit_transform(toptags_feature)"
   ]
  },
  {
   "cell_type": "code",
   "execution_count": 36,
   "metadata": {},
   "outputs": [
    {
     "data": {
      "text/plain": [
       "(990, 100)"
      ]
     },
     "execution_count": 36,
     "metadata": {},
     "output_type": "execute_result"
    }
   ],
   "source": [
    "toptags_feature.shape"
   ]
  },
  {
   "cell_type": "code",
   "execution_count": 37,
   "metadata": {},
   "outputs": [
    {
     "data": {
      "text/plain": [
       "(990, 100)"
      ]
     },
     "execution_count": 37,
     "metadata": {},
     "output_type": "execute_result"
    }
   ],
   "source": [
    "about_feature.shape"
   ]
  },
  {
   "cell_type": "markdown",
   "metadata": {},
   "source": [
    "## 构建 X 和 Y"
   ]
  },
  {
   "cell_type": "code",
   "execution_count": 38,
   "metadata": {},
   "outputs": [],
   "source": [
    "X = np.hstack([num_features,toptags_feature,about_feature])\n",
    "y = np.array(df[\"star\"])"
   ]
  },
  {
   "cell_type": "markdown",
   "metadata": {},
   "source": [
    "# 4. 模型训练"
   ]
  },
  {
   "cell_type": "markdown",
   "metadata": {},
   "source": [
    "## 数据集划分"
   ]
  },
  {
   "cell_type": "code",
   "execution_count": 39,
   "metadata": {},
   "outputs": [],
   "source": [
    "from sklearn.model_selection import train_test_split"
   ]
  },
  {
   "cell_type": "code",
   "execution_count": 40,
   "metadata": {},
   "outputs": [],
   "source": [
    "X_train, X_test, y_train, y_test = train_test_split(X, y, test_size=0.2)  # 20%作为测试集，80%作为训练集"
   ]
  },
  {
   "cell_type": "code",
   "execution_count": 41,
   "metadata": {},
   "outputs": [
    {
     "data": {
      "text/plain": [
       "((792, 209), (198, 209), (792,), (198,))"
      ]
     },
     "execution_count": 41,
     "metadata": {},
     "output_type": "execute_result"
    }
   ],
   "source": [
    "X_train.shape, X_test.shape, y_train.shape, y_test.shape"
   ]
  },
  {
   "cell_type": "markdown",
   "metadata": {},
   "source": [
    "### 随机森林模型"
   ]
  },
  {
   "cell_type": "code",
   "execution_count": 42,
   "metadata": {},
   "outputs": [],
   "source": [
    "from sklearn.ensemble import  RandomForestRegressor\n",
    "from sklearn.metrics import accuracy_score"
   ]
  },
  {
   "cell_type": "code",
   "execution_count": 43,
   "metadata": {},
   "outputs": [],
   "source": [
    "random_model = RandomForestRegressor(n_estimators=300, random_state=42, n_jobs=-1)"
   ]
  },
  {
   "cell_type": "code",
   "execution_count": 44,
   "metadata": {},
   "outputs": [
    {
     "data": {
      "text/plain": [
       "RandomForestRegressor(n_estimators=300, n_jobs=-1, random_state=42)"
      ]
     },
     "execution_count": 44,
     "metadata": {},
     "output_type": "execute_result"
    }
   ],
   "source": [
    "random_model.fit(X_train, y_train)"
   ]
  },
  {
   "cell_type": "code",
   "execution_count": 45,
   "metadata": {},
   "outputs": [
    {
     "data": {
      "text/plain": [
       "0.9583353342803427"
      ]
     },
     "execution_count": 45,
     "metadata": {},
     "output_type": "execute_result"
    }
   ],
   "source": [
    "random_model.score(X_train, y_train)"
   ]
  },
  {
   "cell_type": "code",
   "execution_count": 46,
   "metadata": {},
   "outputs": [
    {
     "data": {
      "text/plain": [
       "0.7462140254971743"
      ]
     },
     "execution_count": 46,
     "metadata": {},
     "output_type": "execute_result"
    }
   ],
   "source": [
    "random_model.score(X_test, y_test)"
   ]
  },
  {
   "cell_type": "code",
   "execution_count": 47,
   "metadata": {},
   "outputs": [
    {
     "data": {
      "text/plain": [
       "array([ 24006.        ,   2333.66666667,   6455.66666667,   2261.        ,\n",
       "         6415.66666667,   3591.        ,  11126.33333333,   9402.33333333,\n",
       "         2715.33333333,   4106.33333333,   3137.33333333,  14807.66666667,\n",
       "         4095.66666667,   4188.        ,   3061.33333333,   3273.        ,\n",
       "         8333.        ,   3075.        ,   4974.        ,   2728.66666667,\n",
       "         2332.33333333,   6678.66666667,   3381.66666667,  13253.33333333,\n",
       "         4781.33333333,   3080.33333333,   3028.33333333,  13763.        ,\n",
       "         7269.        ,   8046.33333333,   2408.33333333,   4264.        ,\n",
       "         3310.66666667,   9596.33333333,   3820.        ,   2528.        ,\n",
       "         7450.        ,   4489.        ,   5153.66666667,   3023.66666667,\n",
       "         6135.        ,   2483.66666667,   3707.33333333,   8298.        ,\n",
       "         4782.        ,   2464.33333333,  14506.33333333,   4627.33333333,\n",
       "         2586.33333333,   4382.        ,   9422.33333333,   4114.        ,\n",
       "         2660.66666667,   9136.        ,   5407.66666667,   2711.33333333,\n",
       "        37726.66666667,   6470.        ,   2966.33333333,  12725.        ,\n",
       "         2472.66666667,   2601.33333333,   6106.33333333,   3171.66666667,\n",
       "         3764.66666667,   4212.66666667,   4713.33333333,   7436.        ,\n",
       "        13834.        ,   3145.66666667,   3579.33333333,   7705.66666667,\n",
       "         2500.        ,   5148.33333333,   3278.        ,  20307.66666667,\n",
       "         4344.33333333,   2939.        ,   3515.66666667,   2501.33333333,\n",
       "         4404.66666667,  27374.33333333,  22824.        ,   7572.33333333,\n",
       "         5376.66666667,   3692.66666667,   2460.66666667,   2556.33333333,\n",
       "         5837.33333333,   4892.        ,   9056.        ,  35155.66666667,\n",
       "        12386.66666667,  17847.33333333,   7026.33333333,   5502.33333333,\n",
       "         2959.66666667,   5545.66666667,   4494.66666667,   6173.66666667,\n",
       "         2708.33333333,   4280.        ,   8861.66666667,   2654.33333333,\n",
       "         4218.33333333,   9654.66666667,   2291.        ,   3801.33333333,\n",
       "        20775.        ,  19686.        ,   3261.33333333,   4055.33333333,\n",
       "        23432.        ,  11847.33333333,   4518.        ,   8608.33333333,\n",
       "        21242.        ,   6028.        ,  16395.66666667,   2442.33333333,\n",
       "         5169.66666667,   2733.        ,   3249.66666667,   5314.66666667,\n",
       "         3180.66666667,  10063.66666667,   6955.66666667,   2692.66666667,\n",
       "        10465.        ,  14141.33333333,   7963.        ,  10325.        ,\n",
       "         3089.        ,   5773.        ,   6743.66666667,   2920.66666667,\n",
       "         3721.66666667,   6013.33333333,   2760.33333333,   3005.        ,\n",
       "         6072.66666667,   4909.33333333,   3802.33333333,   5920.33333333,\n",
       "         7324.33333333,   3311.66666667,   4190.33333333,   3323.        ,\n",
       "         5496.        ,   5740.        ,   2864.33333333,   4058.        ,\n",
       "         4176.33333333,   3253.        ,   8606.33333333,   6211.        ,\n",
       "         2946.        ,   2655.66666667,   3118.        ,   4525.33333333,\n",
       "         6406.33333333,   3759.        ,   4995.33333333,   2611.66666667,\n",
       "       105581.        ,   4254.        ,   4079.33333333,   5266.66666667,\n",
       "         2714.        ,   2557.        ,   5290.        ,   2683.        ,\n",
       "         4538.        ,   5196.        ,   8297.        ,   2858.33333333,\n",
       "        15676.33333333,   5150.66666667,   4210.33333333,   4279.        ,\n",
       "         2799.        ,   5469.        ,   6909.        ,   4776.66666667,\n",
       "         3170.        ,   3159.33333333,   7322.        ,   4161.33333333,\n",
       "         9651.66666667,   2984.66666667,   2716.33333333,   2865.33333333,\n",
       "         4835.66666667,  15829.        ,   9382.        ,   3078.33333333,\n",
       "         5758.        ,   3264.33333333])"
      ]
     },
     "execution_count": 47,
     "metadata": {},
     "output_type": "execute_result"
    }
   ],
   "source": [
    "random_model.predict(X_test)"
   ]
  },
  {
   "cell_type": "markdown",
   "metadata": {},
   "source": [
    "### 线性回归模型"
   ]
  },
  {
   "cell_type": "code",
   "execution_count": 48,
   "metadata": {},
   "outputs": [],
   "source": [
    "from sklearn.linear_model import LinearRegression"
   ]
  },
  {
   "cell_type": "code",
   "execution_count": 49,
   "metadata": {},
   "outputs": [],
   "source": [
    "lr_model = LinearRegression()"
   ]
  },
  {
   "cell_type": "code",
   "execution_count": 50,
   "metadata": {},
   "outputs": [
    {
     "data": {
      "text/plain": [
       "LinearRegression()"
      ]
     },
     "execution_count": 50,
     "metadata": {},
     "output_type": "execute_result"
    }
   ],
   "source": [
    "lr_model.fit(X_train, y_train)"
   ]
  },
  {
   "cell_type": "code",
   "execution_count": 51,
   "metadata": {},
   "outputs": [
    {
     "data": {
      "text/plain": [
       "0.8413163331359812"
      ]
     },
     "execution_count": 51,
     "metadata": {},
     "output_type": "execute_result"
    }
   ],
   "source": [
    "lr_model.score(X_train, y_train)"
   ]
  },
  {
   "cell_type": "code",
   "execution_count": 52,
   "metadata": {},
   "outputs": [
    {
     "data": {
      "text/plain": [
       "0.6348104882774324"
      ]
     },
     "execution_count": 52,
     "metadata": {},
     "output_type": "execute_result"
    }
   ],
   "source": [
    "lr_model.score(X_test, y_test)"
   ]
  },
  {
   "cell_type": "code",
   "execution_count": 53,
   "metadata": {
    "tags": []
   },
   "outputs": [
    {
     "data": {
      "text/plain": [
       "array([18756.15613539,  2939.26551039,  5513.45301039,  3499.32801039,\n",
       "        5575.71863539,  -101.87120836,  8849.31238539,  6862.70301039,\n",
       "        6015.64051039,  3395.89051039,  4464.92176039,  9499.20301039,\n",
       "        3304.17957289,  7039.61198475,  3056.14051039,  3911.57801039,\n",
       "       12717.60144789,  3256.42176039,  6121.79676039,  3024.82801039,\n",
       "        3586.01551039,  9118.39051039,  4904.32801039, 13562.76551039,\n",
       "        4163.51551039, 13267.20301039,  4628.14051039, 18796.85535414,\n",
       "       13894.76551039,  5986.82801039,  3023.26551039,  2070.78113539,\n",
       "        4660.67176039, 10825.90613539,  4461.34363539,  7117.89051039,\n",
       "        1099.56238539,  7185.31238539,  4941.64832289,  3017.82801039,\n",
       "        1570.51551039,  4426.68738539,  4744.14051039,  5707.25769789,\n",
       "        7946.39051039,  2789.57801039, 12864.51551039,  5709.95301039,\n",
       "        3970.45301039,  3018.19519789,  7840.57801039,  2726.20301039,\n",
       "        3118.82801039, 10841.67957289,  1998.30457289,  3963.07801039,\n",
       "       28014.73426039,  8294.42176039,  2439.99207289, 10317.89051039,\n",
       "        3493.76551039,  3002.32801039,  6777.89051039,   554.42957289,\n",
       "        4156.65613539,  7634.01551039, 30941.32410414,  5981.07801039,\n",
       "       12533.76551039,  5748.09363539,  3552.07801039,  7203.65613539,\n",
       "        2971.89051039,  4024.94519789,  7048.99988539, 14279.98426039,\n",
       "        3445.67176039,  4192.76551039,  2342.34363539,  2786.51551039,\n",
       "        4643.73426039, 28722.76551039, 12788.68738539, 11806.26551039,\n",
       "         870.57019789,  4082.32801039,  2934.52332289,  2414.30457289,\n",
       "       19946.95301039,  6506.01551039,  9904.20301039, 34254.28113539,\n",
       "       24238.65222914, 13714.89832289,  5483.49988539,  5481.74988539,\n",
       "        5518.99988539,  9416.76551039,  -809.85948961,  9108.29676039,\n",
       "        4254.02604725,  1453.07801039,  6687.51551039,  3473.01551039,\n",
       "        4934.38660414, 11271.39051039,  3080.01551039,  4655.01551039,\n",
       "       11983.08582289, 19542.32801039,  2572.32801039,  5553.89051039,\n",
       "       19351.95301039,  9755.07801039,  6253.98426039,  1065.72644789,\n",
       "       19987.19533778,  7560.23426039, 23069.89051039,  3566.24207289,\n",
       "        4459.39051039,  3294.13269789,  3635.13269789,  5707.57801039,\n",
       "        8733.04285414, 11432.07410414,  3858.48426039,  4954.23426039,\n",
       "        6771.39832289, 13561.51551039,  6071.99988539,  6774.63660414,\n",
       "        -250.40364025,  7198.89051039,  5797.45301039,  4746.76551039,\n",
       "        5701.14051039,  4944.26551039,  2667.42176039,  1704.60926039,\n",
       "        1838.76551039,  2010.78113539,  9651.42176039,  1762.26551039,\n",
       "        4203.51551039,  3995.82801039,  3754.45301039,  4786.11979725,\n",
       "        6902.53113539,  7615.44519789,  5223.79676039,  4657.20301039,\n",
       "        7084.57801039,  5467.78894789,  9066.07801039,  6073.84363539,\n",
       "        2025.45301039,  2591.51551039,  9297.03113539,  9139.76551039,\n",
       "        4769.23426039,  3393.05457289, -7539.67198961,  3623.57801039,\n",
       "       89688.51551039,  3050.80457289,  3720.82801039,  7022.64051039,\n",
       "        2677.17176039,  2122.89051039,  7802.87488539,  5306.89051039,\n",
       "        4447.51551039,  3602.45301039,  7230.07801039,  1298.70301039,\n",
       "        8666.54676039,  4356.64051039,  3142.98426039,  6400.82801039,\n",
       "        3304.76551039,  6182.89051039, 10530.02722914,  3146.42176039,\n",
       "        1864.21472914,  2226.69519789, 16439.03113539,  5091.32801039,\n",
       "       10792.32410414,  2498.20301039,  3312.21082289,  3228.99207289,\n",
       "       -2039.42198961,  7544.34754164,  7920.79676039,  -474.19542711,\n",
       "        4387.82801039,  6508.67957289])"
      ]
     },
     "execution_count": 53,
     "metadata": {},
     "output_type": "execute_result"
    }
   ],
   "source": [
    "lr_model.predict(X_test)"
   ]
  },
  {
   "cell_type": "code",
   "execution_count": 54,
   "metadata": {},
   "outputs": [
    {
     "data": {
      "text/plain": [
       "array([ 1.03572422e+04,  5.19439483e+02,  1.13101064e+03,  6.58950168e+02,\n",
       "       -2.14167423e+02, -1.77308920e+03, -3.56047401e+02,  2.71262547e+02,\n",
       "        4.41689006e+02, -3.14864124e+15, -9.65945386e+14,  2.29690065e+14,\n",
       "        1.92602612e+14,  2.24119835e+14, -1.49843906e+14,  3.56421108e+14,\n",
       "        2.23420049e+14, -9.64973474e+14, -1.86392650e+14, -4.02574016e+14,\n",
       "       -7.85084613e+14,  2.95667876e+14,  2.27899991e+14, -2.24116321e+15,\n",
       "       -6.59441135e+14,  8.65310422e+14, -4.00962874e+14,  4.47937299e+14,\n",
       "        4.87528286e+14, -1.70036241e+14,  9.90487871e+14,  1.24921764e+15,\n",
       "       -9.52287396e+14, -3.76032254e+14,  1.30210855e+15, -7.62429567e+14,\n",
       "       -1.97436439e+14,  5.50418795e+14,  4.65951052e+14, -3.53906562e+14,\n",
       "        1.06514335e+15, -6.05734709e+13,  1.02279131e+15,  3.79779220e+14,\n",
       "        3.08728924e+14,  1.22881183e+15, -6.08633986e+13, -1.14491172e+15,\n",
       "       -2.79304793e+14, -1.04525761e+14, -9.51744729e+14, -7.81579907e+14,\n",
       "       -2.81061605e+14, -9.45747753e+14, -1.60167084e+14,  7.90650383e+14,\n",
       "        2.85593670e+14, -3.47848675e+14, -1.52713905e+14, -1.65568072e+15,\n",
       "       -5.56801494e+14, -2.17410303e+14,  4.84586029e+14, -1.80612300e+14,\n",
       "        1.37840377e+14, -5.52200282e+14,  4.25001218e+14, -3.60268659e+15,\n",
       "        1.51125925e+15, -1.15344024e+15,  1.28544950e+14,  1.11671259e+14,\n",
       "       -1.17159351e+15, -2.44958077e+14, -3.96308764e+14, -5.29965000e+14,\n",
       "        1.32767266e+15,  1.59726949e+14,  9.61690364e+13,  3.06141380e+14,\n",
       "       -3.39060836e+14, -3.79360761e+14, -9.63346907e+14,  6.47756276e+13,\n",
       "       -1.55392693e+14,  1.59335644e+14,  1.79123411e+14, -2.63687559e+14,\n",
       "       -3.26051877e+14,  1.04566950e+15,  8.49870726e+14,  1.31474088e+13,\n",
       "       -6.27538067e+13,  4.08113849e+14,  2.67377811e+14,  1.24662040e+13,\n",
       "        2.76453700e+13, -3.18273847e+14, -1.88634217e+14, -5.05604202e+13,\n",
       "       -2.91803062e+14, -1.47626357e+14, -2.09519408e+13,  3.52452418e+14,\n",
       "       -1.69109034e+14, -5.09602005e+14, -4.54689323e+13, -1.01169178e+14,\n",
       "        5.30157757e+14,  3.14864124e+15,  9.65945386e+14, -2.29690065e+14,\n",
       "       -1.92602612e+14, -2.24119835e+14,  1.49843906e+14, -3.56421108e+14,\n",
       "       -2.23420049e+14,  9.64973474e+14,  1.86392650e+14,  4.02574016e+14,\n",
       "        7.85084613e+14, -2.95667876e+14, -2.27899991e+14,  2.24116321e+15,\n",
       "        6.59441135e+14, -8.65310422e+14,  4.00962874e+14, -4.47937299e+14,\n",
       "       -4.87528286e+14,  1.70036241e+14, -9.90487871e+14, -1.24921764e+15,\n",
       "        9.52287396e+14,  3.76032254e+14, -1.30210855e+15,  7.62429567e+14,\n",
       "        1.97436439e+14, -5.50418795e+14, -4.65951052e+14,  3.53906562e+14,\n",
       "       -1.06514335e+15,  6.05734709e+13, -1.02279131e+15, -3.79779220e+14,\n",
       "       -3.08728924e+14, -1.22881183e+15,  6.08633986e+13,  1.14491172e+15,\n",
       "        2.79304793e+14,  1.04525761e+14,  9.51744729e+14,  7.81579907e+14,\n",
       "        2.81061605e+14,  9.45747753e+14,  1.60167084e+14, -7.90650383e+14,\n",
       "       -2.85593670e+14,  3.47848675e+14,  1.52713905e+14,  1.65568072e+15,\n",
       "        5.56801494e+14,  2.17410303e+14, -4.84586029e+14,  1.80612300e+14,\n",
       "       -1.37840377e+14,  5.52200282e+14, -4.25001218e+14,  3.60268659e+15,\n",
       "       -1.51125925e+15,  1.15344024e+15, -1.28544950e+14, -1.11671259e+14,\n",
       "        1.17159351e+15,  2.44958077e+14,  3.96308764e+14,  5.29965000e+14,\n",
       "       -1.32767266e+15, -1.59726949e+14, -9.61690364e+13, -3.06141380e+14,\n",
       "        3.39060836e+14,  3.79360761e+14,  9.63346907e+14, -6.47756276e+13,\n",
       "        1.55392693e+14, -1.59335644e+14, -1.79123411e+14,  2.63687559e+14,\n",
       "        3.26051877e+14, -1.04566950e+15, -8.49870726e+14, -1.31474089e+13,\n",
       "        6.27538067e+13, -4.08113849e+14, -2.67377811e+14, -1.24662040e+13,\n",
       "       -2.76453700e+13,  3.18273847e+14,  1.88634217e+14,  5.05604202e+13,\n",
       "        2.91803062e+14,  1.47626357e+14,  2.09519408e+13, -3.52452418e+14,\n",
       "        1.69109034e+14,  5.09602005e+14,  4.54689323e+13,  1.01169178e+14,\n",
       "       -5.30157757e+14])"
      ]
     },
     "execution_count": 54,
     "metadata": {},
     "output_type": "execute_result"
    }
   ],
   "source": [
    "lr_model.coef_  # w 值"
   ]
  },
  {
   "cell_type": "code",
   "execution_count": 55,
   "metadata": {},
   "outputs": [
    {
     "data": {
      "text/plain": [
       "7181.445549242424"
      ]
     },
     "execution_count": 55,
     "metadata": {},
     "output_type": "execute_result"
    }
   ],
   "source": [
    "lr_model.intercept_  # 截距 b"
   ]
  },
  {
   "cell_type": "code",
   "execution_count": 56,
   "metadata": {},
   "outputs": [
    {
     "data": {
      "image/png": "[encoded data removed]",
      "text/plain": [
       "<Figure size 432x288 with 1 Axes>"
      ]
     },
     "metadata": {
      "needs_background": "light"
     },
     "output_type": "display_data"
    }
   ],
   "source": [
    "plt.scatter(X_test[:,0], lr_model.predict(X_test))   #复刻数与收藏数的线性关系\n",
    "plt.show()"
   ]
  },
  {
   "cell_type": "code",
   "execution_count": null,
   "metadata": {},
   "outputs": [],
   "source": []
  }
 ],
 "metadata": {
  "kernelspec": {
   "display_name": "Python 3 (ipykernel)",
   "language": "python",
   "name": "python3"
  },
  "language_info": {
   "codemirror_mode": {
    "name": "ipython",
    "version": 3
   },
   "file_extension": ".py",
   "mimetype": "text/x-python",
   "name": "python",
   "nbconvert_exporter": "python",
   "pygments_lexer": "ipython3",
   "version": "3.8.8"
  }
 },
 "nbformat": 4,
 "nbformat_minor": 4
}
