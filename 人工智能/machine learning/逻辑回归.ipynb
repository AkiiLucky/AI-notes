{
 "cells": [
  {
   "cell_type": "markdown",
   "metadata": {},
   "source": [
    "# 逻辑回归\n",
    "## 用于解决二分类问题"
   ]
  },
  {
   "cell_type": "code",
   "execution_count": 1,
   "metadata": {},
   "outputs": [],
   "source": [
    "m = 100     #样本数\n",
    "n = 10      #特征维度"
   ]
  },
  {
   "cell_type": "code",
   "execution_count": 2,
   "metadata": {},
   "outputs": [],
   "source": [
    "import numpy as np\n",
    "X = np.random.rand(m,n)                     #输入变量 m*n\n",
    "Y = np.random.randint(0,2,size=(m,1))       #标签 m*1\n",
    "w = np.random.rand(n,1)                     #可学习参数 n*1"
   ]
  },
  {
   "cell_type": "code",
   "execution_count": 3,
   "metadata": {},
   "outputs": [],
   "source": [
    "def sigmoid(z):     #激活函数\n",
    "    return 1/(1 + np.exp(-z))"
   ]
  },
  {
   "cell_type": "code",
   "execution_count": 4,
   "metadata": {},
   "outputs": [],
   "source": [
    "def J(X, Y, w):     #代价函数\n",
    "    m = len(X)\n",
    "    sum = 0\n",
    "    for i in range(m):\n",
    "        z = X[i] @ w\n",
    "        sum += Y[i]*np.log(sigmoid(z))+(1-Y[i])*np.log(1-sigmoid(z))\n",
    "    return sum / -m"
   ]
  },
  {
   "cell_type": "code",
   "execution_count": 5,
   "metadata": {},
   "outputs": [],
   "source": [
    "def compute_gradient(X, Y, w):  #计算梯度\n",
    "    m = len(X)\n",
    "    z = X @ w\n",
    "    dw = X.T@(sigmoid(z)-Y) / m\n",
    "    return dw"
   ]
  },
  {
   "cell_type": "code",
   "execution_count": 6,
   "metadata": {},
   "outputs": [],
   "source": [
    "lr = 0.01   #学习率\n",
    "cost = []\n",
    "for i in range(1000):   #梯度下降法迭代\n",
    "    w = w - lr*compute_gradient(X,Y,w)\n",
    "    cost.append(J(X,Y,w))"
   ]
  },
  {
   "cell_type": "code",
   "execution_count": 7,
   "metadata": {},
   "outputs": [
    {
     "data": {
      "text/plain": [
       "[<matplotlib.lines.Line2D at 0x1dd17088d90>]"
      ]
     },
     "execution_count": 7,
     "metadata": {},
     "output_type": "execute_result"
    },
    {
     "data": {
      "image/png": "[encoded data removed]",
      "text/plain": [
       "<Figure size 432x288 with 1 Axes>"
      ]
     },
     "metadata": {
      "needs_background": "light"
     },
     "output_type": "display_data"
    }
   ],
   "source": [
    "import matplotlib.pyplot as plt\n",
    "plt.xlabel('iters') #迭代次数\n",
    "plt.ylabel('J(w)')  #经验损失\n",
    "plt.plot(cost)"
   ]
  }
 ],
 "metadata": {
  "interpreter": {
   "hash": "17b37b9aefa325967b7341133c8e40cd84094e257b12161d8f1fa097016e52eb"
  },
  "kernelspec": {
   "display_name": "Python 3.8.8 ('base')",
   "language": "python",
   "name": "python3"
  },
  "language_info": {
   "codemirror_mode": {
    "name": "ipython",
    "version": 3
   },
   "file_extension": ".py",
   "mimetype": "text/x-python",
   "name": "python",
   "nbconvert_exporter": "python",
   "pygments_lexer": "ipython3",
   "version": "3.8.8"
  },
  "orig_nbformat": 4
 },
 "nbformat": 4,
 "nbformat_minor": 2
}
