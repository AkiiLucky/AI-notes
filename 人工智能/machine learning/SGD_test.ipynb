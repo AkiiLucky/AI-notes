{
 "cells": [
  {
   "cell_type": "markdown",
   "metadata": {},
   "source": [
    "# 线性回归\n",
    "## 随机梯度下降 SGD"
   ]
  },
  {
   "cell_type": "markdown",
   "metadata": {},
   "source": [
    "$第1步，准备训练集 D = \\{(x,y)\\}$"
   ]
  },
  {
   "cell_type": "code",
   "execution_count": 1,
   "metadata": {},
   "outputs": [],
   "source": [
    "m = 200     #样本数\n",
    "n = 10      #特征维度"
   ]
  },
  {
   "cell_type": "code",
   "execution_count": 2,
   "metadata": {},
   "outputs": [],
   "source": [
    "import numpy as np\n",
    "x = np.random.rand(m,n)     #输入变量\n",
    "y = np.random.rand(m,1)     #标签 "
   ]
  },
  {
   "cell_type": "markdown",
   "metadata": {},
   "source": [
    "$第2步，随机初始化(w_0,w_1,...,w_n)$"
   ]
  },
  {
   "cell_type": "code",
   "execution_count": 3,
   "metadata": {},
   "outputs": [],
   "source": [
    "w = np.random.rand(1,n)"
   ]
  },
  {
   "cell_type": "markdown",
   "metadata": {},
   "source": [
    "$第3步，从D中选择b个训练样本，计算并累积各样本的梯度$"
   ]
  },
  {
   "cell_type": "code",
   "execution_count": 4,
   "metadata": {},
   "outputs": [],
   "source": [
    "b = 10       #每批训练b个样本\n",
    "lr = 0.001   #学习率"
   ]
  },
  {
   "cell_type": "code",
   "execution_count": 5,
   "metadata": {},
   "outputs": [],
   "source": [
    "def L(w,x_i,y_i,i):   #平方和损失函数\n",
    "    return ((w.dot(x_i)-y_i)**2) / 2"
   ]
  },
  {
   "cell_type": "code",
   "execution_count": 6,
   "metadata": {},
   "outputs": [],
   "source": [
    "def J(w,x,y):     #经验损失，即目标函数，要让它尽可能的小\n",
    "    m = len(x)\n",
    "    sum = 0\n",
    "    for i in range(m):\n",
    "        sum += L(w,x[i],y[i],i)\n",
    "    return sum / m"
   ]
  },
  {
   "cell_type": "code",
   "execution_count": 7,
   "metadata": {},
   "outputs": [],
   "source": [
    "def dJ(w,x_i,y_i,j):  #梯度\n",
    "    return (w.dot(x_i) - y_i) * x_i[j]"
   ]
  },
  {
   "cell_type": "code",
   "execution_count": 8,
   "metadata": {},
   "outputs": [],
   "source": [
    "def dJ_SGD(w,x,y,b):    #随机梯度下降\n",
    "    m = len(x)\n",
    "    n = len(w)\n",
    "    banchs = np.random.randint(0,m,size=b)  #从m个样本中随机选b个\n",
    "    for j in range(n):  \n",
    "        dJ_all = []         \n",
    "        for i in banchs:  #计算b个训练样本的平均梯度\n",
    "            dJ_all.append(dJ(w,x[i],y[i],j))\n",
    "        aver_dJ_all = np.average(dJ_all)\n",
    "        w[j] = w[j] - lr*aver_dJ_all    #更新w\n",
    "    return w"
   ]
  },
  {
   "cell_type": "markdown",
   "metadata": {},
   "source": [
    "$第4步，更新参数，直至模型收敛$"
   ]
  },
  {
   "cell_type": "code",
   "execution_count": 9,
   "metadata": {},
   "outputs": [
    {
     "name": "stdout",
     "output_type": "stream",
     "text": [
      "[2.68574182]\n",
      "[1.77424826]\n",
      "[1.14855607]\n",
      "[0.76273731]\n",
      "[0.50864126]\n",
      "[0.3485989]\n",
      "[0.25128998]\n",
      "[0.18348115]\n",
      "[0.14217448]\n",
      "[0.11533108]\n",
      "模型已收敛\n"
     ]
    }
   ],
   "source": [
    "cost = []\n",
    "for i in range(10000) :  #J(w)小于0.1时，认为模型收敛\n",
    "    w = dJ_SGD(w,x,y,b) \n",
    "    cost.append(J(w,x,y))\n",
    "    if i % 100 == 0:\n",
    "        print(J(w,x,y))\n",
    "    if J(w,x,y) < 0.1 :\n",
    "        print('模型已收敛')\n",
    "        break"
   ]
  },
  {
   "cell_type": "code",
   "execution_count": 10,
   "metadata": {},
   "outputs": [
    {
     "data": {
      "text/plain": [
       "[<matplotlib.lines.Line2D at 0x25892278df0>]"
      ]
     },
     "execution_count": 10,
     "metadata": {},
     "output_type": "execute_result"
    },
    {
     "data": {
      "image/png": "[encoded data removed]",
      "text/plain": [
       "<Figure size 432x288 with 1 Axes>"
      ]
     },
     "metadata": {
      "needs_background": "light"
     },
     "output_type": "display_data"
    }
   ],
   "source": [
    "import matplotlib.pyplot as plt\n",
    "plt.xlabel('iters') #迭代次数\n",
    "plt.ylabel('J(w)')  #经验损失\n",
    "plt.plot(cost)"
   ]
  },
  {
   "cell_type": "code",
   "execution_count": null,
   "metadata": {},
   "outputs": [],
   "source": []
  }
 ],
 "metadata": {
  "interpreter": {
   "hash": "17b37b9aefa325967b7341133c8e40cd84094e257b12161d8f1fa097016e52eb"
  },
  "kernelspec": {
   "display_name": "Python 3.8.8 ('base')",
   "language": "python",
   "name": "python3"
  },
  "language_info": {
   "codemirror_mode": {
    "name": "ipython",
    "version": 3
   },
   "file_extension": ".py",
   "mimetype": "text/x-python",
   "name": "python",
   "nbconvert_exporter": "python",
   "pygments_lexer": "ipython3",
   "version": "3.8.8"
  },
  "orig_nbformat": 4
 },
 "nbformat": 4,
 "nbformat_minor": 2
}
