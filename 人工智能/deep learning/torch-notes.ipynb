{
 "cells": [
  {
   "cell_type": "code",
   "execution_count": 1,
   "id": "7963438d-caf0-4d82-91e7-764e2ddc9f9d",
   "metadata": {},
   "outputs": [],
   "source": [
    "import torch"
   ]
  },
  {
   "cell_type": "markdown",
   "id": "0f576d6b-7748-41ce-8b3c-9b84ec2a1608",
   "metadata": {
    "tags": []
   },
   "source": [
    "# tensor 基础"
   ]
  },
  {
   "cell_type": "code",
   "execution_count": 2,
   "id": "7bb01353-98bb-4c4f-a8e3-3887ae024532",
   "metadata": {},
   "outputs": [],
   "source": [
    "x = torch.tensor([1,2])\n",
    "y = torch.tensor([3,4])"
   ]
  },
  {
   "cell_type": "code",
   "execution_count": 3,
   "id": "4cc26c5c-8b50-47af-b154-df0aba137697",
   "metadata": {},
   "outputs": [
    {
     "data": {
      "text/plain": [
       "tensor([1, 2])"
      ]
     },
     "execution_count": 3,
     "metadata": {},
     "output_type": "execute_result"
    }
   ],
   "source": [
    "x"
   ]
  },
  {
   "cell_type": "code",
   "execution_count": 4,
   "id": "dfc43c3c-4243-405a-8cbf-66c9b3d5489d",
   "metadata": {},
   "outputs": [
    {
     "data": {
      "text/plain": [
       "tensor([4, 6])"
      ]
     },
     "execution_count": 4,
     "metadata": {},
     "output_type": "execute_result"
    }
   ],
   "source": [
    "z=x.add(y)\n",
    "z"
   ]
  },
  {
   "cell_type": "code",
   "execution_count": 5,
   "id": "5b9581e2-ad2b-4d71-99f1-79cdda5b9c29",
   "metadata": {},
   "outputs": [
    {
     "data": {
      "text/plain": [
       "tensor([1, 2, 3, 4, 5, 6])"
      ]
     },
     "execution_count": 5,
     "metadata": {},
     "output_type": "execute_result"
    }
   ],
   "source": [
    "torch.tensor([1,2,3,4,5,6])"
   ]
  },
  {
   "cell_type": "code",
   "execution_count": 6,
   "id": "71ffdac5-5d69-4e24-ac0b-a7ac255b54a4",
   "metadata": {},
   "outputs": [
    {
     "data": {
      "text/plain": [
       "tensor([[1, 2, 3],\n",
       "        [4, 5, 6]])"
      ]
     },
     "execution_count": 6,
     "metadata": {},
     "output_type": "execute_result"
    }
   ],
   "source": [
    "t = torch.tensor([[1,2,3],[4,5,6]])\n",
    "t"
   ]
  },
  {
   "cell_type": "code",
   "execution_count": 7,
   "id": "50842f99-f1f2-483d-a693-cc8cf85c89b7",
   "metadata": {},
   "outputs": [
    {
     "data": {
      "text/plain": [
       "True"
      ]
     },
     "execution_count": 7,
     "metadata": {},
     "output_type": "execute_result"
    }
   ],
   "source": [
    "torch.is_tensor(t)"
   ]
  },
  {
   "cell_type": "code",
   "execution_count": 8,
   "id": "42904e89-923a-4126-9e7e-85d91d32c842",
   "metadata": {},
   "outputs": [
    {
     "data": {
      "text/plain": [
       "torch.Size([2, 3])"
      ]
     },
     "execution_count": 8,
     "metadata": {},
     "output_type": "execute_result"
    }
   ],
   "source": [
    "t.size()"
   ]
  },
  {
   "cell_type": "code",
   "execution_count": 9,
   "id": "d765ec19-f785-4baa-b9ed-6d06fd18eb3d",
   "metadata": {},
   "outputs": [
    {
     "data": {
      "text/plain": [
       "6"
      ]
     },
     "execution_count": 9,
     "metadata": {},
     "output_type": "execute_result"
    }
   ],
   "source": [
    "t.numel()"
   ]
  },
  {
   "cell_type": "code",
   "execution_count": 10,
   "id": "d5b26717-c465-4332-bc16-77f65427de38",
   "metadata": {},
   "outputs": [
    {
     "data": {
      "text/plain": [
       "tensor([[0.0000e+00, 0.0000e+00, 1.7091e-04],\n",
       "        [6.6644e-10, 3.2774e-09, 5.2305e+22]])"
      ]
     },
     "execution_count": 10,
     "metadata": {},
     "output_type": "execute_result"
    }
   ],
   "source": [
    "torch.Tensor(t.size())"
   ]
  },
  {
   "cell_type": "code",
   "execution_count": 11,
   "id": "b16d8156-f3a0-4a4a-8492-cab24163bb61",
   "metadata": {},
   "outputs": [
    {
     "data": {
      "text/plain": [
       "tensor([[0., 0., 0.],\n",
       "        [0., 0., 0.]])"
      ]
     },
     "execution_count": 11,
     "metadata": {},
     "output_type": "execute_result"
    }
   ],
   "source": [
    "torch.Tensor(2,3)"
   ]
  },
  {
   "cell_type": "code",
   "execution_count": 12,
   "id": "d5923622-2559-4553-a167-f38a6f3c41c2",
   "metadata": {},
   "outputs": [
    {
     "data": {
      "text/plain": [
       "tensor([[0., 0., 0.],\n",
       "        [0., 0., 0.]])"
      ]
     },
     "execution_count": 12,
     "metadata": {},
     "output_type": "execute_result"
    }
   ],
   "source": [
    "torch.zeros(2,3)"
   ]
  },
  {
   "cell_type": "code",
   "execution_count": 13,
   "id": "ee22490f-a96d-4b71-816a-a705eaa163d6",
   "metadata": {},
   "outputs": [
    {
     "data": {
      "text/plain": [
       "tensor([[1., 0., 0.],\n",
       "        [0., 1., 0.],\n",
       "        [0., 0., 1.]])"
      ]
     },
     "execution_count": 13,
     "metadata": {},
     "output_type": "execute_result"
    }
   ],
   "source": [
    "torch.eye(3,3)"
   ]
  },
  {
   "cell_type": "code",
   "execution_count": 14,
   "id": "5da511d3-00b7-4f01-bb56-2e9408ab3675",
   "metadata": {},
   "outputs": [
    {
     "data": {
      "text/plain": [
       "array([1, 2, 3, 4, 5, 6])"
      ]
     },
     "execution_count": 14,
     "metadata": {},
     "output_type": "execute_result"
    }
   ],
   "source": [
    "# numpy 转换为 tensor\n",
    "import numpy as np\n",
    "\n",
    "x = np.array([1,2,3,4,5,6])\n",
    "x"
   ]
  },
  {
   "cell_type": "code",
   "execution_count": 15,
   "id": "9726bd22-135b-4970-b54b-7f2e4802a541",
   "metadata": {
    "tags": []
   },
   "outputs": [
    {
     "data": {
      "text/plain": [
       "tensor([1, 2, 3, 4, 5, 6], dtype=torch.int32)"
      ]
     },
     "execution_count": 15,
     "metadata": {},
     "output_type": "execute_result"
    }
   ],
   "source": [
    "y = torch.from_numpy(x)\n",
    "y"
   ]
  },
  {
   "cell_type": "code",
   "execution_count": 16,
   "id": "43443308-0fcd-4222-9453-821f9a6edfb4",
   "metadata": {},
   "outputs": [
    {
     "data": {
      "text/plain": [
       "tensor([ 1.,  2.,  3.,  4.,  5.,  6.,  7.,  8.,  9., 10.])"
      ]
     },
     "execution_count": 16,
     "metadata": {},
     "output_type": "execute_result"
    }
   ],
   "source": [
    "# 切分\n",
    "torch.linspace(1, 10, steps=10)"
   ]
  },
  {
   "cell_type": "code",
   "execution_count": 17,
   "id": "8dc5414f-d320-4a07-b4e6-b17a548e7aaf",
   "metadata": {},
   "outputs": [
    {
     "data": {
      "text/plain": [
       "tensor([0.0364, 0.9067, 0.8331, 0.5748, 0.4662, 0.4606, 0.7319, 0.7254, 0.9476,\n",
       "        0.7779])"
      ]
     },
     "execution_count": 17,
     "metadata": {},
     "output_type": "execute_result"
    }
   ],
   "source": [
    "# 均匀分布 值在 0 到 1 之间\n",
    "torch.rand(10)"
   ]
  },
  {
   "cell_type": "code",
   "execution_count": 18,
   "id": "ad01447b-4ff1-4354-8719-b17297e024a7",
   "metadata": {},
   "outputs": [
    {
     "data": {
      "text/plain": [
       "tensor([ 0.0064, -0.4390, -2.0277,  0.0791, -1.3219, -0.2282, -1.2291,  0.9787,\n",
       "         0.1158,  0.2936])"
      ]
     },
     "execution_count": 18,
     "metadata": {},
     "output_type": "execute_result"
    }
   ],
   "source": [
    "# 正态分布 均值为 0 方差为 1\n",
    "torch.randn(10)"
   ]
  },
  {
   "cell_type": "code",
   "execution_count": 19,
   "id": "119a05ed-cda3-4060-b889-63aa492238c0",
   "metadata": {},
   "outputs": [
    {
     "data": {
      "text/plain": [
       "tensor([5, 1, 7, 6, 2, 3, 8, 9, 0, 4])"
      ]
     },
     "execution_count": 19,
     "metadata": {},
     "output_type": "execute_result"
    }
   ],
   "source": [
    "# 选择随机数 \n",
    "torch.randperm(10) # 0 ~ 10"
   ]
  },
  {
   "cell_type": "code",
   "execution_count": 20,
   "id": "1b2e64dc-40d9-4c4d-a4cf-17096053184a",
   "metadata": {},
   "outputs": [
    {
     "data": {
      "text/plain": [
       "tensor([20, 25, 30, 35, 40, 45])"
      ]
     },
     "execution_count": 20,
     "metadata": {},
     "output_type": "execute_result"
    }
   ],
   "source": [
    "# 生成一个区间的数\n",
    "torch.arange(20, 50, 5)"
   ]
  },
  {
   "cell_type": "code",
   "execution_count": 21,
   "id": "f89077ef-ccff-4cd6-84d7-19f7b3b9d467",
   "metadata": {},
   "outputs": [
    {
     "data": {
      "text/plain": [
       "tensor([[17, 58, 35],\n",
       "        [19, 11,  7],\n",
       "        [84, 54,  7]])"
      ]
     },
     "execution_count": 21,
     "metadata": {},
     "output_type": "execute_result"
    }
   ],
   "source": [
    "# 获取行或列的最小值和最大值索引\n",
    "x = torch.randint(1, 99, (3, 3))\n",
    "x"
   ]
  },
  {
   "cell_type": "code",
   "execution_count": 22,
   "id": "da4ff9c6-78e3-4c6d-9f4c-c5759589ec59",
   "metadata": {},
   "outputs": [
    {
     "data": {
      "text/plain": [
       "tensor([0, 1, 1])"
      ]
     },
     "execution_count": 22,
     "metadata": {},
     "output_type": "execute_result"
    }
   ],
   "source": [
    "torch.argmin(x, dim=0) # dim=0 表示第 0 列"
   ]
  },
  {
   "cell_type": "code",
   "execution_count": 23,
   "id": "71e7b1cb-a17a-4337-a32b-617b0cea4a91",
   "metadata": {},
   "outputs": [
    {
     "data": {
      "text/plain": [
       "tensor([2, 0, 0])"
      ]
     },
     "execution_count": 23,
     "metadata": {},
     "output_type": "execute_result"
    }
   ],
   "source": [
    "torch.argmax(x, dim=0) "
   ]
  },
  {
   "cell_type": "code",
   "execution_count": 24,
   "id": "e02b4ffb-2183-4f33-b05f-f31a1e9e1355",
   "metadata": {},
   "outputs": [
    {
     "data": {
      "text/plain": [
       "tensor([[7, 3, 1],\n",
       "        [5, 9, 8]])"
      ]
     },
     "execution_count": 24,
     "metadata": {},
     "output_type": "execute_result"
    }
   ],
   "source": [
    "# 连接\n",
    "x = torch.randint(1, 10, (2, 3))\n",
    "x"
   ]
  },
  {
   "cell_type": "code",
   "execution_count": 25,
   "id": "5834ed65-0ff6-470f-bb3c-7b9b5a02fc1f",
   "metadata": {},
   "outputs": [
    {
     "data": {
      "text/plain": [
       "tensor([[7, 3, 1],\n",
       "        [5, 9, 8],\n",
       "        [7, 3, 1],\n",
       "        [5, 9, 8]])"
      ]
     },
     "execution_count": 25,
     "metadata": {},
     "output_type": "execute_result"
    }
   ],
   "source": [
    "torch.cat((x, x))"
   ]
  },
  {
   "cell_type": "code",
   "execution_count": 26,
   "id": "4e94d08d-2038-4075-a708-03f540ade94e",
   "metadata": {},
   "outputs": [
    {
     "data": {
      "text/plain": [
       "tensor([[7, 3, 1, 7, 3, 1],\n",
       "        [5, 9, 8, 5, 9, 8]])"
      ]
     },
     "execution_count": 26,
     "metadata": {},
     "output_type": "execute_result"
    }
   ],
   "source": [
    "torch.cat((x, x), dim=1) # 1 是横轴"
   ]
  },
  {
   "cell_type": "code",
   "execution_count": 27,
   "id": "68bd7e02-4473-4514-b15d-fab6ec4b7089",
   "metadata": {},
   "outputs": [
    {
     "data": {
      "text/plain": [
       "tensor([[4, 9, 5],\n",
       "        [3, 1, 8],\n",
       "        [8, 6, 1]])"
      ]
     },
     "execution_count": 27,
     "metadata": {},
     "output_type": "execute_result"
    }
   ],
   "source": [
    "# chunk 切块\n",
    "a = torch.randint(1, 10, (3, 3))\n",
    "a"
   ]
  },
  {
   "cell_type": "code",
   "execution_count": 28,
   "id": "fc0e0365-2cdf-4830-aabc-acc6ce21bc23",
   "metadata": {},
   "outputs": [
    {
     "data": {
      "text/plain": [
       "(tensor([[4, 9, 5],\n",
       "         [3, 1, 8]]),\n",
       " tensor([[8, 6, 1]]))"
      ]
     },
     "execution_count": 28,
     "metadata": {},
     "output_type": "execute_result"
    }
   ],
   "source": [
    "torch.chunk(a, 2, 0) # 0 代表横向 , 2 代表第 2 行"
   ]
  },
  {
   "cell_type": "code",
   "execution_count": 29,
   "id": "f6a7ff74-ca1e-444e-9ab3-517949bf6049",
   "metadata": {},
   "outputs": [
    {
     "data": {
      "text/plain": [
       "(tensor([[4, 9],\n",
       "         [3, 1],\n",
       "         [8, 6]]),\n",
       " tensor([[5],\n",
       "         [8],\n",
       "         [1]]))"
      ]
     },
     "execution_count": 29,
     "metadata": {},
     "output_type": "execute_result"
    }
   ],
   "source": [
    "torch.chunk(a, 2, 1) # 1 代表纵向 , 2 代表第 2 列"
   ]
  },
  {
   "cell_type": "code",
   "execution_count": 30,
   "id": "1355aa8f-741a-4a43-9605-aaad49efa3ea",
   "metadata": {},
   "outputs": [
    {
     "data": {
      "text/plain": [
       "tensor([[ 1.0445, -1.3311,  0.6677,  0.4142],\n",
       "        [ 0.1061,  0.7436,  1.3387, -1.0328],\n",
       "        [-0.1138,  0.4055, -0.1847,  1.2030],\n",
       "        [-1.0385,  0.9894,  0.6939, -0.1367]])"
      ]
     },
     "execution_count": 30,
     "metadata": {},
     "output_type": "execute_result"
    }
   ],
   "source": [
    "# index_select  根据索引选择\n",
    "x = torch.randn(4, 4)\n",
    "x"
   ]
  },
  {
   "cell_type": "code",
   "execution_count": 31,
   "id": "efd40a7e-8a45-4a1d-8d5e-a270419bd459",
   "metadata": {},
   "outputs": [
    {
     "data": {
      "text/plain": [
       "tensor([[ 1.0445, -1.3311,  0.6677,  0.4142],\n",
       "        [-0.1138,  0.4055, -0.1847,  1.2030]])"
      ]
     },
     "execution_count": 31,
     "metadata": {},
     "output_type": "execute_result"
    }
   ],
   "source": [
    "indices = torch.tensor([0, 2])\n",
    "torch.index_select(x, 0, indices) # 输出第 0 行和第 2 行"
   ]
  },
  {
   "cell_type": "code",
   "execution_count": 32,
   "id": "3501439e-6936-4b16-8efd-71d8ca94f811",
   "metadata": {},
   "outputs": [
    {
     "data": {
      "text/plain": [
       "(tensor([0, 1, 2]), tensor([3, 4, 5]), tensor([6]))"
      ]
     },
     "execution_count": 32,
     "metadata": {},
     "output_type": "execute_result"
    }
   ],
   "source": [
    "# split 切分\n",
    "x = torch.tensor([0,1,2,3,4,5,6])\n",
    "torch.split(x, 3)"
   ]
  },
  {
   "cell_type": "code",
   "execution_count": 33,
   "id": "782bc919-c773-41f6-a75e-cb8a17b4cfb8",
   "metadata": {},
   "outputs": [
    {
     "data": {
      "text/plain": [
       "tensor([[1, 2],\n",
       "        [3, 4]])"
      ]
     },
     "execution_count": 33,
     "metadata": {},
     "output_type": "execute_result"
    }
   ],
   "source": [
    "# .t 和 .transpose 转置\n",
    "x = torch.tensor([[1,2],[3,4]])\n",
    "x"
   ]
  },
  {
   "cell_type": "code",
   "execution_count": 34,
   "id": "2db47f0b-439a-4ed3-b3f7-e5362e656178",
   "metadata": {},
   "outputs": [
    {
     "data": {
      "text/plain": [
       "tensor([[1, 3],\n",
       "        [2, 4]])"
      ]
     },
     "execution_count": 34,
     "metadata": {},
     "output_type": "execute_result"
    }
   ],
   "source": [
    "x.t()"
   ]
  },
  {
   "cell_type": "code",
   "execution_count": 35,
   "id": "09fd024b-8151-4cb7-be5c-a12cf0d86036",
   "metadata": {},
   "outputs": [
    {
     "data": {
      "text/plain": [
       "tensor([[1, 3],\n",
       "        [2, 4]])"
      ]
     },
     "execution_count": 35,
     "metadata": {},
     "output_type": "execute_result"
    }
   ],
   "source": [
    "x.transpose(1,0)"
   ]
  },
  {
   "cell_type": "code",
   "execution_count": 36,
   "id": "af8eb5d8-052f-4fbd-96ec-0a12c17aed85",
   "metadata": {},
   "outputs": [
    {
     "data": {
      "text/plain": [
       "tensor([[1, 2],\n",
       "        [3, 4]])"
      ]
     },
     "execution_count": 36,
     "metadata": {},
     "output_type": "execute_result"
    }
   ],
   "source": [
    "# tensor 运算\n",
    "x = torch.tensor([[1,2],[3,4]])\n",
    "x"
   ]
  },
  {
   "cell_type": "code",
   "execution_count": 37,
   "id": "fd771209-08f4-4820-ace4-3ebc24039f48",
   "metadata": {},
   "outputs": [
    {
     "data": {
      "text/plain": [
       "tensor([[2, 3],\n",
       "        [4, 5]])"
      ]
     },
     "execution_count": 37,
     "metadata": {},
     "output_type": "execute_result"
    }
   ],
   "source": [
    "torch.add(x, 1)"
   ]
  },
  {
   "cell_type": "code",
   "execution_count": 38,
   "id": "992c54ff-9482-4048-8e25-b2d233f50267",
   "metadata": {},
   "outputs": [
    {
     "data": {
      "text/plain": [
       "tensor([[2, 4],\n",
       "        [6, 8]])"
      ]
     },
     "execution_count": 38,
     "metadata": {},
     "output_type": "execute_result"
    }
   ],
   "source": [
    "torch.mul(x,2)"
   ]
  },
  {
   "cell_type": "markdown",
   "id": "c6724455-32df-4422-b16f-4637a94de9ba",
   "metadata": {
    "tags": []
   },
   "source": [
    "# autograd 自动求导"
   ]
  },
  {
   "cell_type": "code",
   "execution_count": 39,
   "id": "03fe7da7-550b-478b-a312-9a899d6d57af",
   "metadata": {},
   "outputs": [],
   "source": [
    "a = torch.tensor(2.0, requires_grad=True)\n",
    "b = torch.tensor(3.0, requires_grad=True)"
   ]
  },
  {
   "cell_type": "code",
   "execution_count": 40,
   "id": "4c1b6077-4fc5-45de-8b75-7ca02cbdd170",
   "metadata": {},
   "outputs": [
    {
     "data": {
      "text/plain": [
       "tensor(6., grad_fn=<MulBackward0>)"
      ]
     },
     "execution_count": 40,
     "metadata": {},
     "output_type": "execute_result"
    }
   ],
   "source": [
    "c = a*b\n",
    "c"
   ]
  },
  {
   "cell_type": "code",
   "execution_count": 41,
   "id": "68c4dedc-d242-4bf0-afcc-e90173fcd08a",
   "metadata": {},
   "outputs": [],
   "source": [
    "c.backward() #求导"
   ]
  },
  {
   "cell_type": "code",
   "execution_count": 42,
   "id": "2639e650-e53e-48ba-9940-039f8de5d810",
   "metadata": {},
   "outputs": [
    {
     "data": {
      "text/plain": [
       "tensor(3.)"
      ]
     },
     "execution_count": 42,
     "metadata": {},
     "output_type": "execute_result"
    }
   ],
   "source": [
    "a.grad  # c关于a的导数"
   ]
  },
  {
   "cell_type": "code",
   "execution_count": 43,
   "id": "93ac7ff2-cafe-451d-9487-06354f743418",
   "metadata": {},
   "outputs": [
    {
     "data": {
      "text/plain": [
       "tensor(2.)"
      ]
     },
     "execution_count": 43,
     "metadata": {},
     "output_type": "execute_result"
    }
   ],
   "source": [
    "b.grad  # c关于b的导数"
   ]
  },
  {
   "cell_type": "markdown",
   "id": "923150d9-efba-4cbb-bb65-2d0b8b4a0015",
   "metadata": {},
   "source": [
    "# 用autograd解决回归问题"
   ]
  },
  {
   "cell_type": "code",
   "execution_count": 44,
   "id": "d4d73ddc-a490-4bdd-b88d-2255c654c1af",
   "metadata": {},
   "outputs": [],
   "source": [
    "import torch as t\n",
    "%matplotlib inline\n",
    "from matplotlib import pyplot as plt"
   ]
  },
  {
   "cell_type": "code",
   "execution_count": 45,
   "id": "be56ac6e-150d-4718-b937-42e71bdfcb41",
   "metadata": {},
   "outputs": [],
   "source": [
    "t.manual_seed(10)\n",
    "dtype = t.float\n",
    "x = t.unsqueeze(torch.linspace(0,1,100),dim=1)"
   ]
  },
  {
   "cell_type": "code",
   "execution_count": 46,
   "id": "37ed183d-ea22-4a01-9d81-1eabcbef7e9e",
   "metadata": {},
   "outputs": [],
   "source": [
    "y = 3*x.pow(2) + 2 + 0.2*torch.rand(x.size())"
   ]
  },
  {
   "cell_type": "code",
   "execution_count": 47,
   "id": "b6fee04e-df30-4d94-96e4-46e3da240a2f",
   "metadata": {},
   "outputs": [
    {
     "data": {
      "image/png": "[encoded data removed]",
      "text/plain": [
       "<Figure size 432x288 with 1 Axes>"
      ]
     },
     "metadata": {
      "needs_background": "light"
     },
     "output_type": "display_data"
    }
   ],
   "source": [
    "plt.scatter(x.numpy(),y.numpy())\n",
    "plt.show()"
   ]
  },
  {
   "cell_type": "code",
   "execution_count": 48,
   "id": "324af861-c03a-4744-bdf3-0ec1ea9f93e6",
   "metadata": {},
   "outputs": [],
   "source": [
    "w = t.randn(1,1,dtype=dtype,requires_grad=True)\n",
    "b = t.zeros(1,1,dtype=dtype,requires_grad=True)"
   ]
  },
  {
   "cell_type": "code",
   "execution_count": 49,
   "id": "d200be40-a9c6-4d23-bc32-d785b89a5863",
   "metadata": {},
   "outputs": [],
   "source": [
    "lr = 0.001  #学习率\n",
    "\n",
    "for ii in range(800):\n",
    "    y_pred = x.pow(2).mm(w) + b\n",
    "    loss = 0.5 * (y_pred - y) ** 2\n",
    "    loss = loss.sum()\n",
    "    \n",
    "    loss.backward()\n",
    "    \n",
    "    with t.no_grad():\n",
    "        w -= lr * w.grad\n",
    "        b -= lr * b.grad\n",
    "        \n",
    "        w.grad.zero_()\n",
    "        b.grad.zero_()"
   ]
  },
  {
   "cell_type": "code",
   "execution_count": 50,
   "id": "f5a33674-25e8-46ed-92d1-19556e48dc76",
   "metadata": {},
   "outputs": [
    {
     "data": {
      "image/png": "[encoded data removed]",
      "text/plain": [
       "<Figure size 432x288 with 1 Axes>"
      ]
     },
     "metadata": {
      "needs_background": "light"
     },
     "output_type": "display_data"
    },
    {
     "name": "stdout",
     "output_type": "stream",
     "text": [
      "tensor([[2.9863]], requires_grad=True) tensor([[2.1025]], requires_grad=True)\n"
     ]
    }
   ],
   "source": [
    "plt.plot(x.numpy(), y_pred.detach().numpy(), 'r-', label='predict')\n",
    "plt.scatter(x.numpy(), y.numpy(), color='blue', marker='o', label='true')\n",
    "\n",
    "plt.xlim(0,1)\n",
    "plt.ylim(2,6)\n",
    "plt.legend()\n",
    "plt.show()\n",
    "\n",
    "print(w, b)"
   ]
  },
  {
   "cell_type": "markdown",
   "id": "423576d5-72f8-4b0f-bbae-1d1fb3ca85af",
   "metadata": {},
   "source": [
    "# 构建一个三层的网络结构"
   ]
  },
  {
   "cell_type": "code",
   "execution_count": 1,
   "id": "ff36ddca-46b2-4cdb-ac22-842e84fd1ad5",
   "metadata": {},
   "outputs": [],
   "source": [
    "from torch import nn\n",
    "\n",
    "# 设置超参数\n",
    "in_dim=1\n",
    "n_hidden_1=30\n",
    "n_hidden_2=60\n",
    "out_dim=1"
   ]
  },
  {
   "cell_type": "code",
   "execution_count": 5,
   "id": "4a3ca365-bd95-449d-b970-4ce1bdbb3ba0",
   "metadata": {},
   "outputs": [],
   "source": [
    "class Net(nn.Module):\n",
    "    def __init__(self, in_dim, n_hidden_1, n_hidden_2, out_dim):\n",
    "        super().__init__()\n",
    "        # 依次定义各网络层和激活函数\n",
    "        self.layer = nn.Sequential(\n",
    "            nn.Linear(in_dim, n_hidden_1),\n",
    "            nn.ReLU(True),\n",
    "            nn.Linear(n_hidden_1, n_hidden_2),\n",
    "            nn.ReLU(True),\n",
    "            # 最后一层不需要添加激活函数\n",
    "            nn.Linear(n_hidden_2, out_dim)\n",
    "        )\n",
    "    \n",
    "    # 定义正向传导函数\n",
    "    def forward(self, x):\n",
    "        x = self.layer(x)\n",
    "        return x\n"
   ]
  },
  {
   "cell_type": "markdown",
   "id": "120c2270-695b-4edd-b4d0-df070adf7ba7",
   "metadata": {},
   "source": [
    "# 优化方法"
   ]
  }
 ],
 "metadata": {
  "kernelspec": {
   "display_name": "Python 3 (ipykernel)",
   "language": "python",
   "name": "python3"
  },
  "language_info": {
   "codemirror_mode": {
    "name": "ipython",
    "version": 3
   },
   "file_extension": ".py",
   "mimetype": "text/x-python",
   "name": "python",
   "nbconvert_exporter": "python",
   "pygments_lexer": "ipython3",
   "version": "3.8.8"
  }
 },
 "nbformat": 4,
 "nbformat_minor": 5
}
