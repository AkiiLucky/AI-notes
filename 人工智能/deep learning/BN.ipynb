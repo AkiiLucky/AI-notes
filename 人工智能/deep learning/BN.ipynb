{
 "cells": [
  {
   "cell_type": "markdown",
   "metadata": {},
   "source": [
    "# Batch Normalization"
   ]
  },
  {
   "cell_type": "code",
   "execution_count": 96,
   "metadata": {},
   "outputs": [],
   "source": [
    "import torch \n",
    "import torchvision\n",
    "import torchvision.transforms as transforms\n",
    "from torch.utils.data import DataLoader\n",
    "import torch.nn.functional as F\n",
    "import torch.optim as optim\n",
    "from torch import nn\n",
    "import numpy as np\n",
    "import matplotlib.pyplot as plt\n",
    "%matplotlib inline"
   ]
  },
  {
   "cell_type": "code",
   "execution_count": 97,
   "metadata": {},
   "outputs": [],
   "source": [
    "train_batch_size = 100    #每批处理的训练集数据\n",
    "test_batch_size = 100     #每批处理的测试集数据\n",
    "learning_rate = 0.01      #学习率\n",
    "num_epoches = 40          #训练数据集的轮次"
   ]
  },
  {
   "cell_type": "code",
   "execution_count": 98,
   "metadata": {},
   "outputs": [],
   "source": [
    "transform = transforms.Compose([\n",
    "    transforms.ToTensor(),                                               # 归一化\n",
    "    transforms.Normalize((0.485, 0.456, 0.406), (0.229, 0.224, 0.225)),  # 标准化\n",
    "])"
   ]
  },
  {
   "cell_type": "code",
   "execution_count": 99,
   "metadata": {},
   "outputs": [
    {
     "name": "stdout",
     "output_type": "stream",
     "text": [
      "Files already downloaded and verified\n",
      "Files already downloaded and verified\n",
      "Dataset CIFAR10\n",
      "    Number of datapoints: 50000\n",
      "    Root location: datasets\n",
      "    Split: Train\n",
      "    StandardTransform\n",
      "Transform: Compose(\n",
      "               ToTensor()\n",
      "               Normalize(mean=(0.485, 0.456, 0.406), std=(0.229, 0.224, 0.225))\n",
      "           )\n",
      "Dataset CIFAR10\n",
      "    Number of datapoints: 10000\n",
      "    Root location: datasets\n",
      "    Split: Test\n",
      "    StandardTransform\n",
      "Transform: Compose(\n",
      "               ToTensor()\n",
      "               Normalize(mean=(0.485, 0.456, 0.406), std=(0.229, 0.224, 0.225))\n",
      "           )\n"
     ]
    }
   ],
   "source": [
    "train_valid_cifar10 = torchvision.datasets.CIFAR10(\n",
    "    root='datasets',\n",
    "    train=True,\n",
    "    download=True,\n",
    "    transform=transform\n",
    ")\n",
    "test_cifar10 = torchvision.datasets.CIFAR10(\n",
    "    root='datasets',\n",
    "    train=False,\n",
    "    download=True,\n",
    "    transform=transform\n",
    ")\n",
    "print(train_valid_cifar10)\n",
    "print(test_cifar10)"
   ]
  },
  {
   "cell_type": "code",
   "execution_count": 100,
   "metadata": {},
   "outputs": [],
   "source": [
    "#分割数据集\n",
    "lengths = [5000,len(train_valid_cifar10)-5000]\n",
    "valid_cifar10, train_cifar10 = torch.utils.data.random_split(train_valid_cifar10,lengths,generator=torch.Generator().manual_seed(0))"
   ]
  },
  {
   "cell_type": "code",
   "execution_count": 101,
   "metadata": {},
   "outputs": [],
   "source": [
    "#训练集\n",
    "train_loader = torch.utils.data.DataLoader(train_cifar10, batch_size=train_batch_size, shuffle=True)\n",
    "#验证集\n",
    "valid_loader = torch.utils.data.DataLoader(valid_cifar10, batch_size=train_batch_size, shuffle=True)\n",
    "#测试集\n",
    "test_loader = torch.utils.data.DataLoader(test_cifar10, batch_size=test_batch_size, shuffle=False)"
   ]
  },
  {
   "cell_type": "code",
   "execution_count": 102,
   "metadata": {},
   "outputs": [
    {
     "data": {
      "text/plain": [
       "torch.Size([3, 32, 32])"
      ]
     },
     "execution_count": 102,
     "metadata": {},
     "output_type": "execute_result"
    }
   ],
   "source": [
    "test_loader.dataset[0][0].shape"
   ]
  },
  {
   "cell_type": "code",
   "execution_count": 103,
   "metadata": {},
   "outputs": [
    {
     "data": {
      "text/plain": [
       "6.0"
      ]
     },
     "execution_count": 103,
     "metadata": {},
     "output_type": "execute_result"
    }
   ],
   "source": [
    "def out(w,k,s,p):\n",
    "    return (w-k+2*p)/s+1\n",
    "out(8,3,1,0)"
   ]
  },
  {
   "cell_type": "markdown",
   "metadata": {},
   "source": [
    "# 使用 BN"
   ]
  },
  {
   "cell_type": "code",
   "execution_count": 104,
   "metadata": {},
   "outputs": [],
   "source": [
    "def batch_norm(is_training, X, gamma, beta, moving_mean, moving_var, eps, momentum):\n",
    "    # 判断当前模式是训练模式还是预测模式\n",
    "    if not is_training:\n",
    "        # 预测模式下，直接使用传入的移动平均所得的均值和方差\n",
    "        X_hat = (X - moving_mean) / torch.sqrt(moving_var + eps)\n",
    "    else:\n",
    "        assert len(X.shape) in (2, 4)\n",
    "        if len(X.shape) == 2:\n",
    "            # 使用全连接层，计算特征维上的均值和方差\n",
    "            mean = X.mean(dim=0)\n",
    "            var = ((X - mean) ** 2).mean(dim=0)\n",
    "        else:\n",
    "            # 使用二维卷积层，计算通道维上（axis=1）的均值和方差\n",
    "            mean = X.mean(dim=0, keepdim=True).mean(dim=2, keepdim=True).mean(dim=3, keepdim=True)\n",
    "            var = ((X - mean) ** 2).mean(dim=0, keepdim=True).mean(dim=2, keepdim=True).mean(dim=3, keepdim=True)\n",
    "        # 训练模式下用当前的均值和方差做标准化\n",
    "        X_hat = (X - mean) / torch.sqrt(var + eps)\n",
    "        # 更新移动平均的均值和方差\n",
    "        moving_mean = momentum * moving_mean + (1.0 - momentum) * mean\n",
    "        moving_var = momentum * moving_var + (1.0 - momentum) * var\n",
    "    Y = gamma * X_hat + beta  \n",
    "    return Y, moving_mean, moving_var\n",
    "\n",
    "class BatchNorm2d(nn.Module):\n",
    "    def __init__(self, num_features, num_dims, momentum=0.9, eps=1e-5):\n",
    "        super().__init__()\n",
    "        if num_dims == 2:\n",
    "            shape = (1, num_features)\n",
    "        else:\n",
    "            shape = (1, num_features, 1, 1)\n",
    "        self.gamma = nn.Parameter(torch.ones(shape))    # 可学习参数\n",
    "        self.beta = nn.Parameter(torch.zeros(shape))    # 可学习参数\n",
    "        self.moving_mean = torch.zeros(shape)\n",
    "        self.moving_var = torch.ones(shape)\n",
    "        self.momentum = momentum\n",
    "        self.eps = eps      # 避免分母为零\n",
    "\n",
    "    def forward(self, X):\n",
    "        # 如果X不在显存上，将moving_mean和moving_var复制到X所在显存上\n",
    "        if self.moving_mean.device != X.device:\n",
    "            self.moving_mean = self.moving_mean.to(X.device)\n",
    "            self.moving_var = self.moving_var.to(X.device)\n",
    "        # 保存更新过的moving_mean和moving_var\n",
    "        Y, self.moving_mean, self.moving_var = batch_norm(self.training, X, self.gamma, \n",
    "        self.beta, self.moving_mean, self.moving_var, self.eps, self.momentum)\n",
    "        return Y"
   ]
  },
  {
   "cell_type": "code",
   "execution_count": 105,
   "metadata": {},
   "outputs": [],
   "source": [
    "class BNet(nn.Module):\n",
    "    def __init__(self,num_classes=10):\n",
    "        super(BNet,self).__init__()\n",
    "        self.features = nn.Sequential(  #打包\n",
    "            nn.Conv2d(3, 16, kernel_size=3, stride=1, padding=1),      # input[6, 32, 32]  output[16, 32, 32] \n",
    "            BatchNorm2d(16,num_dims=4),\n",
    "            nn.ReLU(inplace=True),      \n",
    "            nn.MaxPool2d(kernel_size=2),                              # output[16, 16, 16] \n",
    "            nn.Conv2d(16, 48, kernel_size=3, stride=1, padding=1),     # output[48, 16, 16]\n",
    "            BatchNorm2d(48,num_dims=4),\n",
    "            nn.ReLU(inplace=True),\n",
    "            nn.MaxPool2d(kernel_size=2),                              # output[16, 8, 8]\n",
    "            nn.Conv2d(48, 96, kernel_size=3, stride=1, padding=0),    # output[96, 6, 6]\n",
    "            BatchNorm2d(96,num_dims=4),\n",
    "            nn.ReLU(inplace=True),\n",
    "            nn.MaxPool2d(kernel_size=2)                               # output[96, 3, 3]\n",
    "        )\n",
    "        self.classifier = nn.Sequential(\n",
    "            nn.Linear(96*3*3,1024),\n",
    "            BatchNorm2d(1024,num_dims=2),\n",
    "            nn.ReLU(inplace=True),\n",
    "            nn.Linear(1024,128),\n",
    "            BatchNorm2d(128,num_dims=2),\n",
    "            nn.ReLU(inplace=True),\n",
    "            nn.Linear(128,num_classes),\n",
    "        )\n",
    "    def forward(self,x):\n",
    "        x = self.features(x)\n",
    "        x = torch.flatten(x, start_dim=1) \n",
    "        x = self.classifier(x)\n",
    "        return x"
   ]
  },
  {
   "cell_type": "code",
   "execution_count": 106,
   "metadata": {},
   "outputs": [
    {
     "name": "stdout",
     "output_type": "stream",
     "text": [
      "BNet(\n",
      "  (features): Sequential(\n",
      "    (0): Conv2d(3, 16, kernel_size=(3, 3), stride=(1, 1), padding=(1, 1))\n",
      "    (1): BatchNorm2d()\n",
      "    (2): ReLU(inplace=True)\n",
      "    (3): MaxPool2d(kernel_size=2, stride=2, padding=0, dilation=1, ceil_mode=False)\n",
      "    (4): Conv2d(16, 48, kernel_size=(3, 3), stride=(1, 1), padding=(1, 1))\n",
      "    (5): BatchNorm2d()\n",
      "    (6): ReLU(inplace=True)\n",
      "    (7): MaxPool2d(kernel_size=2, stride=2, padding=0, dilation=1, ceil_mode=False)\n",
      "    (8): Conv2d(48, 96, kernel_size=(3, 3), stride=(1, 1))\n",
      "    (9): BatchNorm2d()\n",
      "    (10): ReLU(inplace=True)\n",
      "    (11): MaxPool2d(kernel_size=2, stride=2, padding=0, dilation=1, ceil_mode=False)\n",
      "  )\n",
      "  (classifier): Sequential(\n",
      "    (0): Linear(in_features=864, out_features=1024, bias=True)\n",
      "    (1): BatchNorm2d()\n",
      "    (2): ReLU(inplace=True)\n",
      "    (3): Linear(in_features=1024, out_features=128, bias=True)\n",
      "    (4): BatchNorm2d()\n",
      "    (5): ReLU(inplace=True)\n",
      "    (6): Linear(in_features=128, out_features=10, bias=True)\n",
      "  )\n",
      ")\n"
     ]
    }
   ],
   "source": [
    "device = torch.device(\"cuda:0\" if torch.cuda.is_available() else \"cpu\")\n",
    "BN_model = BNet()\n",
    "BN_model = BN_model.to(device)\n",
    "print(BN_model)"
   ]
  },
  {
   "cell_type": "code",
   "execution_count": 107,
   "metadata": {},
   "outputs": [],
   "source": [
    "# 损失器\n",
    "criterion = nn.CrossEntropyLoss().to(device)\n",
    "# 优化器\n",
    "optimizer = optim.SGD(BN_model.parameters(), lr=learning_rate, momentum=0.9,weight_decay=0) "
   ]
  },
  {
   "cell_type": "code",
   "execution_count": 108,
   "metadata": {},
   "outputs": [],
   "source": [
    "BN_train_loss = []        \n",
    "BN_valid_loss = []  \n",
    "BN_test_loss = []\n",
    "BN_train_acc  = []    \n",
    "BN_valid_acc = [] \n",
    "BN_test_acc  = []   "
   ]
  },
  {
   "cell_type": "code",
   "execution_count": 109,
   "metadata": {},
   "outputs": [
    {
     "name": "stdout",
     "output_type": "stream",
     "text": [
      "epoch: 1\n",
      "训练集上的损失：0.009\n",
      "训练集上的准确率：0.699\n",
      "验证集上的损失：0.010\n",
      "验证集上的准确率：0.646\n",
      "测试集上的损失：0.010\n",
      "测试集上的准确率：0.659\n",
      "epoch: 2\n",
      "训练集上的损失：0.006\n",
      "训练集上的准确率：0.781\n",
      "验证集上的损失：0.008\n",
      "验证集上的准确率：0.706\n",
      "测试集上的损失：0.008\n",
      "测试集上的准确率：0.714\n",
      "epoch: 3\n",
      "训练集上的损失：0.005\n",
      "训练集上的准确率：0.829\n",
      "验证集上的损失：0.008\n",
      "验证集上的准确率：0.725\n",
      "测试集上的损失：0.008\n",
      "测试集上的准确率：0.726\n",
      "epoch: 4\n",
      "训练集上的损失：0.004\n",
      "训练集上的准确率：0.877\n",
      "验证集上的损失：0.008\n",
      "验证集上的准确率：0.737\n",
      "测试集上的损失：0.008\n",
      "测试集上的准确率：0.741\n",
      "epoch: 5\n",
      "训练集上的损失：0.003\n",
      "训练集上的准确率：0.897\n",
      "验证集上的损失：0.008\n",
      "验证集上的准确率：0.732\n",
      "测试集上的损失：0.008\n",
      "测试集上的准确率：0.736\n",
      "epoch: 6\n",
      "训练集上的损失：0.002\n",
      "训练集上的准确率：0.926\n",
      "验证集上的损失：0.008\n",
      "验证集上的准确率：0.752\n",
      "测试集上的损失：0.008\n",
      "测试集上的准确率：0.747\n",
      "epoch: 7\n",
      "训练集上的损失：0.002\n",
      "训练集上的准确率：0.945\n",
      "验证集上的损失：0.008\n",
      "验证集上的准确率：0.742\n",
      "测试集上的损失：0.009\n",
      "测试集上的准确率：0.745\n",
      "epoch: 8\n",
      "训练集上的损失：0.001\n",
      "训练集上的准确率：0.962\n",
      "验证集上的损失：0.009\n",
      "验证集上的准确率：0.752\n",
      "测试集上的损失：0.009\n",
      "测试集上的准确率：0.747\n",
      "epoch: 9\n",
      "训练集上的损失：0.001\n",
      "训练集上的准确率：0.962\n",
      "验证集上的损失：0.010\n",
      "验证集上的准确率：0.732\n",
      "测试集上的损失：0.010\n",
      "测试集上的准确率：0.742\n",
      "epoch: 10\n",
      "训练集上的损失：0.001\n",
      "训练集上的准确率：0.979\n",
      "验证集上的损失：0.010\n",
      "验证集上的准确率：0.753\n",
      "测试集上的损失：0.010\n",
      "测试集上的准确率：0.749\n",
      "epoch: 11\n",
      "训练集上的损失：0.001\n",
      "训练集上的准确率：0.982\n",
      "验证集上的损失：0.010\n",
      "验证集上的准确率：0.750\n",
      "测试集上的损失：0.010\n",
      "测试集上的准确率：0.754\n",
      "epoch: 12\n",
      "训练集上的损失：0.001\n",
      "训练集上的准确率：0.982\n",
      "验证集上的损失：0.011\n",
      "验证集上的准确率：0.747\n",
      "测试集上的损失：0.011\n",
      "测试集上的准确率：0.749\n",
      "epoch: 13\n",
      "训练集上的损失：0.000\n",
      "训练集上的准确率：0.989\n",
      "验证集上的损失：0.011\n",
      "验证集上的准确率：0.754\n",
      "测试集上的损失：0.011\n",
      "测试集上的准确率：0.753\n",
      "epoch: 14\n",
      "训练集上的损失：0.000\n",
      "训练集上的准确率：0.991\n",
      "验证集上的损失：0.011\n",
      "验证集上的准确率：0.751\n",
      "测试集上的损失：0.012\n",
      "测试集上的准确率：0.754\n",
      "epoch: 15\n",
      "训练集上的损失：0.000\n",
      "训练集上的准确率：0.991\n",
      "验证集上的损失：0.011\n",
      "验证集上的准确率：0.753\n",
      "测试集上的损失：0.012\n",
      "测试集上的准确率：0.752\n",
      "epoch: 16\n",
      "训练集上的损失：0.000\n",
      "训练集上的准确率：0.992\n",
      "验证集上的损失：0.012\n",
      "验证集上的准确率：0.750\n",
      "测试集上的损失：0.012\n",
      "测试集上的准确率：0.747\n",
      "epoch: 17\n",
      "训练集上的损失：0.000\n",
      "训练集上的准确率：0.995\n",
      "验证集上的损失：0.012\n",
      "验证集上的准确率：0.750\n",
      "测试集上的损失：0.012\n",
      "测试集上的准确率：0.749\n",
      "epoch: 18\n",
      "训练集上的损失：0.000\n",
      "训练集上的准确率：0.997\n",
      "验证集上的损失：0.012\n",
      "验证集上的准确率：0.758\n",
      "测试集上的损失：0.012\n",
      "测试集上的准确率：0.757\n",
      "epoch: 19\n",
      "训练集上的损失：0.000\n",
      "训练集上的准确率：0.997\n",
      "验证集上的损失：0.012\n",
      "验证集上的准确率：0.757\n",
      "测试集上的损失：0.013\n",
      "测试集上的准确率：0.756\n",
      "epoch: 20\n",
      "训练集上的损失：0.000\n",
      "训练集上的准确率：0.999\n",
      "验证集上的损失：0.012\n",
      "验证集上的准确率：0.763\n",
      "测试集上的损失：0.013\n",
      "测试集上的准确率：0.763\n",
      "epoch: 21\n",
      "训练集上的损失：0.000\n",
      "训练集上的准确率：0.999\n",
      "验证集上的损失：0.012\n",
      "验证集上的准确率：0.761\n",
      "测试集上的损失：0.013\n",
      "测试集上的准确率：0.761\n",
      "epoch: 22\n",
      "训练集上的损失：0.000\n",
      "训练集上的准确率：0.999\n",
      "验证集上的损失：0.012\n",
      "验证集上的准确率：0.767\n",
      "测试集上的损失：0.013\n",
      "测试集上的准确率：0.765\n",
      "epoch: 23\n",
      "训练集上的损失：0.000\n",
      "训练集上的准确率：1.000\n",
      "验证集上的损失：0.013\n",
      "验证集上的准确率：0.761\n",
      "测试集上的损失：0.013\n",
      "测试集上的准确率：0.770\n",
      "epoch: 24\n",
      "训练集上的损失：0.000\n",
      "训练集上的准确率：1.000\n",
      "验证集上的损失：0.012\n",
      "验证集上的准确率：0.767\n",
      "测试集上的损失：0.013\n",
      "测试集上的准确率：0.768\n",
      "epoch: 25\n",
      "训练集上的损失：0.000\n",
      "训练集上的准确率：1.000\n",
      "验证集上的损失：0.012\n",
      "验证集上的准确率：0.770\n",
      "测试集上的损失：0.013\n",
      "测试集上的准确率：0.769\n",
      "epoch: 26\n",
      "训练集上的损失：0.000\n",
      "训练集上的准确率：1.000\n",
      "验证集上的损失：0.012\n",
      "验证集上的准确率：0.770\n",
      "测试集上的损失：0.013\n",
      "测试集上的准确率：0.770\n",
      "epoch: 27\n",
      "训练集上的损失：0.000\n",
      "训练集上的准确率：1.000\n",
      "验证集上的损失：0.013\n",
      "验证集上的准确率：0.764\n",
      "测试集上的损失：0.013\n",
      "测试集上的准确率：0.771\n",
      "epoch: 28\n",
      "训练集上的损失：0.000\n",
      "训练集上的准确率：1.000\n",
      "验证集上的损失：0.013\n",
      "验证集上的准确率：0.767\n",
      "测试集上的损失：0.013\n",
      "测试集上的准确率：0.773\n",
      "epoch: 29\n",
      "训练集上的损失：0.000\n",
      "训练集上的准确率：1.000\n",
      "验证集上的损失：0.012\n",
      "验证集上的准确率：0.766\n",
      "测试集上的损失：0.013\n",
      "测试集上的准确率：0.773\n",
      "epoch: 30\n",
      "训练集上的损失：0.000\n",
      "训练集上的准确率：1.000\n",
      "验证集上的损失：0.013\n",
      "验证集上的准确率：0.766\n",
      "测试集上的损失：0.013\n",
      "测试集上的准确率：0.772\n",
      "epoch: 31\n",
      "训练集上的损失：0.000\n",
      "训练集上的准确率：1.000\n",
      "验证集上的损失：0.013\n",
      "验证集上的准确率：0.772\n",
      "测试集上的损失：0.013\n",
      "测试集上的准确率：0.772\n",
      "epoch: 32\n",
      "训练集上的损失：0.000\n",
      "训练集上的准确率：1.000\n",
      "验证集上的损失：0.013\n",
      "验证集上的准确率：0.771\n",
      "测试集上的损失：0.013\n",
      "测试集上的准确率：0.771\n",
      "epoch: 33\n",
      "训练集上的损失：0.000\n",
      "训练集上的准确率：1.000\n",
      "验证集上的损失：0.013\n",
      "验证集上的准确率：0.766\n",
      "测试集上的损失：0.013\n",
      "测试集上的准确率：0.772\n",
      "epoch: 34\n",
      "训练集上的损失：0.000\n",
      "训练集上的准确率：1.000\n",
      "验证集上的损失：0.013\n",
      "验证集上的准确率：0.770\n",
      "测试集上的损失：0.013\n",
      "测试集上的准确率：0.771\n",
      "epoch: 35\n",
      "训练集上的损失：0.000\n",
      "训练集上的准确率：1.000\n",
      "验证集上的损失：0.013\n",
      "验证集上的准确率：0.768\n",
      "测试集上的损失：0.013\n",
      "测试集上的准确率：0.772\n",
      "epoch: 36\n",
      "训练集上的损失：0.000\n",
      "训练集上的准确率：1.000\n",
      "验证集上的损失：0.013\n",
      "验证集上的准确率：0.769\n",
      "测试集上的损失：0.013\n",
      "测试集上的准确率：0.772\n",
      "epoch: 37\n",
      "训练集上的损失：0.000\n",
      "训练集上的准确率：1.000\n",
      "验证集上的损失：0.013\n",
      "验证集上的准确率：0.770\n",
      "测试集上的损失：0.013\n",
      "测试集上的准确率：0.772\n",
      "epoch: 38\n",
      "训练集上的损失：0.000\n",
      "训练集上的准确率：1.000\n",
      "验证集上的损失：0.013\n",
      "验证集上的准确率：0.766\n",
      "测试集上的损失：0.013\n",
      "测试集上的准确率：0.771\n",
      "epoch: 39\n",
      "训练集上的损失：0.000\n",
      "训练集上的准确率：1.000\n",
      "验证集上的损失：0.013\n",
      "验证集上的准确率：0.769\n",
      "测试集上的损失：0.013\n",
      "测试集上的准确率：0.771\n",
      "epoch: 40\n",
      "训练集上的损失：0.000\n",
      "训练集上的准确率：1.000\n",
      "验证集上的损失：0.013\n",
      "验证集上的准确率：0.765\n",
      "测试集上的损失：0.013\n",
      "测试集上的准确率：0.771\n"
     ]
    }
   ],
   "source": [
    "for epoch in range(num_epoches):\n",
    "    print('epoch:',epoch+1)\n",
    "\n",
    "    BN_model.train()\n",
    "    for _,data in enumerate(train_loader,0):\n",
    "        inputs, labels = data[0],data[1]\n",
    "        inputs = inputs.view(train_batch_size, -1, 32, 32)  \n",
    "        inputs, labels = inputs.to(device), labels.to(device)\n",
    "        optimizer.zero_grad() # 每次训练梯度清零\n",
    "        outputs = BN_model(inputs)\n",
    "        loss = criterion(outputs, labels)\n",
    "        loss.backward()\n",
    "        optimizer.step()\n",
    "\n",
    "\n",
    "    BN_model.eval()\n",
    "    running_loss = 0.0\n",
    "    correct = 0             \n",
    "    total = 0             \n",
    "    with torch.no_grad(): \n",
    "        for _,data in enumerate(train_loader,0):\n",
    "            inputs, labels = data\n",
    "            inputs = inputs.view(test_batch_size, -1, 32, 32)\n",
    "            inputs, labels = inputs.to(device), labels.to(device)\n",
    "            outputs = BN_model(inputs)\n",
    "            loss = criterion(outputs, labels)\n",
    "            running_loss += loss.item()\n",
    "            _, pred = torch.max(outputs.data, 1)      # 选取最大概率的那个标签为预测结果\n",
    "            total += labels.size(0)                   # 总样本个数加 1\n",
    "            correct += (pred == labels).sum().item()  # 如果预测正确，correct加 1\n",
    "    BN_train_loss.append(running_loss/total)\n",
    "    BN_train_acc.append(correct / total)\n",
    "    print(\"训练集上的损失：%.3f\" % (running_loss / total))\n",
    "    print(\"训练集上的准确率：%.3f\" % (correct / total))\n",
    "\n",
    "\n",
    "    BN_model.eval()\n",
    "    running_loss = 0.0\n",
    "    correct = 0             \n",
    "    total = 0             \n",
    "    with torch.no_grad(): \n",
    "        for _,data in enumerate(valid_loader,0):\n",
    "            inputs, labels = data\n",
    "            inputs = inputs.view(test_batch_size, -1, 32, 32)\n",
    "            inputs, labels = inputs.to(device), labels.to(device)\n",
    "            outputs = BN_model(inputs)\n",
    "            loss = criterion(outputs, labels)\n",
    "            running_loss += loss.item()\n",
    "            _, pred = torch.max(outputs.data, 1)      # 选取最大概率的那个标签为预测结果\n",
    "            total += labels.size(0)                   # 总样本个数加 1\n",
    "            correct += (pred == labels).sum().item()  # 如果预测正确，correct加 1\n",
    "    BN_valid_loss.append(running_loss / total)\n",
    "    BN_valid_acc.append(correct / total)\n",
    "    print(\"验证集上的损失：%.3f\" % (running_loss / total))\n",
    "    print(\"验证集上的准确率：%.3f\" % (correct / total))\n",
    "    \n",
    "    \n",
    "    BN_model.eval()\n",
    "    running_loss = 0.0\n",
    "    correct = 0            \n",
    "    total = 0             \n",
    "    with torch.no_grad(): \n",
    "        for _,data in enumerate(test_loader,0):\n",
    "            inputs, labels = data\n",
    "            inputs = inputs.view(test_batch_size, -1, 32, 32)\n",
    "            inputs, labels = inputs.to(device), labels.to(device)\n",
    "            outputs = BN_model(inputs)\n",
    "            loss = criterion(outputs, labels)\n",
    "            running_loss += loss.item()\n",
    "            _, pred = torch.max(outputs.data, 1)      # 选取最大概率的那个标签为预测结果\n",
    "            total += labels.size(0)                   # 总样本个数加 1\n",
    "            correct += (pred == labels).sum().item()  # 如果预测正确，correct加 1\n",
    "    BN_test_loss.append(running_loss / total)\n",
    "    BN_test_acc.append(correct / total)\n",
    "    print(\"测试集上的损失：%.3f\" % (running_loss / total))\n",
    "    print(\"测试集上的准确率：%.3f\" % (correct / total))"
   ]
  },
  {
   "cell_type": "code",
   "execution_count": 110,
   "metadata": {},
   "outputs": [
    {
     "data": {
      "text/plain": [
       "<matplotlib.legend.Legend at 0x20b823e3af0>"
      ]
     },
     "execution_count": 110,
     "metadata": {},
     "output_type": "execute_result"
    },
    {
     "data": {
      "image/png": "[encoded data removed]",
      "text/plain": [
       "<Figure size 432x288 with 1 Axes>"
      ]
     },
     "metadata": {
      "needs_background": "light"
     },
     "output_type": "display_data"
    }
   ],
   "source": [
    "plt.xlabel('epochs')\n",
    "plt.ylabel('loss')\n",
    "plt.plot(np.arange(len(BN_train_loss)), BN_train_loss)\n",
    "plt.plot(np.arange(len(BN_valid_loss)), BN_valid_loss)\n",
    "plt.plot(np.arange(len(BN_test_loss)), BN_test_loss)\n",
    "plt.legend(['Train Loss','Valid Loss','Test Loss'])"
   ]
  },
  {
   "cell_type": "code",
   "execution_count": 111,
   "metadata": {},
   "outputs": [
    {
     "data": {
      "text/plain": [
       "<matplotlib.legend.Legend at 0x20b80ee8d60>"
      ]
     },
     "execution_count": 111,
     "metadata": {},
     "output_type": "execute_result"
    },
    {
     "data": {
      "image/png": "[encoded data removed]",
      "text/plain": [
       "<Figure size 432x288 with 1 Axes>"
      ]
     },
     "metadata": {
      "needs_background": "light"
     },
     "output_type": "display_data"
    }
   ],
   "source": [
    "#准确率\n",
    "plt.xlabel('epochs')\n",
    "plt.ylabel('acc')\n",
    "plt.plot(np.arange(len(BN_train_acc)), BN_train_acc)\n",
    "plt.plot(np.arange(len(BN_valid_acc)), BN_valid_acc)\n",
    "plt.plot(np.arange(len(BN_test_acc)), BN_test_acc)\n",
    "plt.legend(['Train acc','valid acc','Test acc'])"
   ]
  },
  {
   "cell_type": "code",
   "execution_count": 112,
   "metadata": {},
   "outputs": [
    {
     "name": "stdout",
     "output_type": "stream",
     "text": [
      "验证集最高准确率:  0.772 \t索引: 30\n",
      "测试集最高准确率:  0.7731 \t索引: 27\n",
      "验证集最高准确率的模型对应的测试集准确率： 0.7718 \t索引: 30\n"
     ]
    }
   ],
   "source": [
    "print('验证集最高准确率: ', max(BN_valid_acc), '\\t索引:', BN_valid_acc.index(max(BN_valid_acc)))\n",
    "print('测试集最高准确率: ', max(BN_test_acc), '\\t索引:',BN_test_acc.index(max(BN_test_acc)))\n",
    "pos = BN_valid_acc.index(max(BN_valid_acc))\n",
    "BN_max_test_acc = BN_test_acc[pos]\n",
    "print('验证集最高准确率的模型对应的测试集准确率：', BN_max_test_acc, '\\t索引:', pos)"
   ]
  },
  {
   "cell_type": "markdown",
   "metadata": {},
   "source": [
    "# 不使用 BN"
   ]
  },
  {
   "cell_type": "code",
   "execution_count": 113,
   "metadata": {},
   "outputs": [],
   "source": [
    "class Net(nn.Module):\n",
    "    def __init__(self,num_classes=10):\n",
    "        super(Net,self).__init__()\n",
    "        self.features = nn.Sequential(  #打包\n",
    "            nn.Conv2d(3, 16, kernel_size=3, stride=1, padding=1),      # input[6, 32, 32]  output[16, 32, 32] \n",
    "            nn.ReLU(inplace=True),      \n",
    "            nn.MaxPool2d(kernel_size=2),                              # output[16, 16, 16] \n",
    "            nn.Conv2d(16, 48, kernel_size=3, stride=1, padding=1),     # output[48, 16, 16]\n",
    "            nn.ReLU(inplace=True),\n",
    "            nn.MaxPool2d(kernel_size=2),                              # output[16, 8, 8]\n",
    "            nn.Conv2d(48, 96, kernel_size=3, stride=1, padding=0),    # output[96, 6, 6]\n",
    "            nn.ReLU(inplace=True),\n",
    "            nn.MaxPool2d(kernel_size=2)                               # output[96, 3, 3]\n",
    "        )\n",
    "        self.classifier = nn.Sequential(\n",
    "            nn.Linear(96*3*3,1024),\n",
    "            nn.ReLU(inplace=True),\n",
    "            nn.Linear(1024,128),\n",
    "            nn.ReLU(inplace=True),\n",
    "            nn.Linear(128,num_classes)\n",
    "        )\n",
    "    def forward(self,x):\n",
    "        x = self.features(x)\n",
    "        x = torch.flatten(x, start_dim=1) \n",
    "        x = self.classifier(x)\n",
    "        return x\n",
    "        "
   ]
  },
  {
   "cell_type": "code",
   "execution_count": 114,
   "metadata": {},
   "outputs": [
    {
     "name": "stdout",
     "output_type": "stream",
     "text": [
      "Net(\n",
      "  (features): Sequential(\n",
      "    (0): Conv2d(3, 16, kernel_size=(3, 3), stride=(1, 1), padding=(1, 1))\n",
      "    (1): ReLU(inplace=True)\n",
      "    (2): MaxPool2d(kernel_size=2, stride=2, padding=0, dilation=1, ceil_mode=False)\n",
      "    (3): Conv2d(16, 48, kernel_size=(3, 3), stride=(1, 1), padding=(1, 1))\n",
      "    (4): ReLU(inplace=True)\n",
      "    (5): MaxPool2d(kernel_size=2, stride=2, padding=0, dilation=1, ceil_mode=False)\n",
      "    (6): Conv2d(48, 96, kernel_size=(3, 3), stride=(1, 1))\n",
      "    (7): ReLU(inplace=True)\n",
      "    (8): MaxPool2d(kernel_size=2, stride=2, padding=0, dilation=1, ceil_mode=False)\n",
      "  )\n",
      "  (classifier): Sequential(\n",
      "    (0): Linear(in_features=864, out_features=1024, bias=True)\n",
      "    (1): ReLU(inplace=True)\n",
      "    (2): Linear(in_features=1024, out_features=128, bias=True)\n",
      "    (3): ReLU(inplace=True)\n",
      "    (4): Linear(in_features=128, out_features=10, bias=True)\n",
      "  )\n",
      ")\n"
     ]
    }
   ],
   "source": [
    "device = torch.device(\"cuda:0\" if torch.cuda.is_available() else \"cpu\")\n",
    "model = Net()\n",
    "model = model.to(device)\n",
    "print(model)"
   ]
  },
  {
   "cell_type": "code",
   "execution_count": 115,
   "metadata": {},
   "outputs": [],
   "source": [
    "# 损失器\n",
    "criterion = nn.CrossEntropyLoss().to(device)\n",
    "# 优化器\n",
    "optimizer = optim.SGD(model.parameters(), lr=learning_rate, momentum=0.9,weight_decay=0) "
   ]
  },
  {
   "cell_type": "code",
   "execution_count": 116,
   "metadata": {},
   "outputs": [],
   "source": [
    "train_loss = []        \n",
    "valid_loss = []  \n",
    "test_loss = []\n",
    "train_acc  = []    \n",
    "valid_acc = [] \n",
    "test_acc  = []     "
   ]
  },
  {
   "cell_type": "code",
   "execution_count": 117,
   "metadata": {},
   "outputs": [
    {
     "name": "stdout",
     "output_type": "stream",
     "text": [
      "epoch: 1\n",
      "训练集上的损失：0.015\n",
      "训练集上的准确率：0.427\n",
      "验证集上的损失：0.015\n",
      "验证集上的准确率：0.421\n",
      "测试集上的损失：0.015\n",
      "测试集上的准确率：0.430\n",
      "epoch: 2\n",
      "训练集上的损失：0.011\n",
      "训练集上的准确率：0.608\n",
      "验证集上的损失：0.011\n",
      "验证集上的准确率：0.578\n",
      "测试集上的损失：0.011\n",
      "测试集上的准确率：0.592\n",
      "epoch: 3\n",
      "训练集上的损失：0.010\n",
      "训练集上的准确率：0.654\n",
      "验证集上的损失：0.010\n",
      "验证集上的准确率：0.624\n",
      "测试集上的损失：0.010\n",
      "测试集上的准确率：0.627\n",
      "epoch: 4\n",
      "训练集上的损失：0.008\n",
      "训练集上的准确率：0.714\n",
      "验证集上的损失：0.009\n",
      "验证集上的准确率：0.672\n",
      "测试集上的损失：0.009\n",
      "测试集上的准确率：0.670\n",
      "epoch: 5\n",
      "训练集上的损失：0.007\n",
      "训练集上的准确率：0.758\n",
      "验证集上的损失：0.009\n",
      "验证集上的准确率：0.687\n",
      "测试集上的损失：0.009\n",
      "测试集上的准确率：0.693\n",
      "epoch: 6\n",
      "训练集上的损失：0.006\n",
      "训练集上的准确率：0.807\n",
      "验证集上的损失：0.008\n",
      "验证集上的准确率：0.707\n",
      "测试集上的损失：0.008\n",
      "测试集上的准确率：0.710\n",
      "epoch: 7\n",
      "训练集上的损失：0.005\n",
      "训练集上的准确率：0.825\n",
      "验证集上的损失：0.009\n",
      "验证集上的准确率：0.704\n",
      "测试集上的损失：0.009\n",
      "测试集上的准确率：0.707\n",
      "epoch: 8\n",
      "训练集上的损失：0.004\n",
      "训练集上的准确率：0.872\n",
      "验证集上的损失：0.008\n",
      "验证集上的准确率：0.722\n",
      "测试集上的损失：0.008\n",
      "测试集上的准确率：0.726\n",
      "epoch: 9\n",
      "训练集上的损失：0.003\n",
      "训练集上的准确率：0.909\n",
      "验证集上的损失：0.009\n",
      "验证集上的准确率：0.727\n",
      "测试集上的损失：0.009\n",
      "测试集上的准确率：0.732\n",
      "epoch: 10\n",
      "训练集上的损失：0.002\n",
      "训练集上的准确率：0.925\n",
      "验证集上的损失：0.009\n",
      "验证集上的准确率：0.730\n",
      "测试集上的损失：0.009\n",
      "测试集上的准确率：0.727\n",
      "epoch: 11\n",
      "训练集上的损失：0.002\n",
      "训练集上的准确率：0.935\n",
      "验证集上的损失：0.010\n",
      "验证集上的准确率：0.726\n",
      "测试集上的损失：0.011\n",
      "测试集上的准确率：0.728\n",
      "epoch: 12\n",
      "训练集上的损失：0.001\n",
      "训练集上的准确率：0.954\n",
      "验证集上的损失：0.011\n",
      "验证集上的准确率：0.721\n",
      "测试集上的损失：0.011\n",
      "测试集上的准确率：0.736\n",
      "epoch: 13\n",
      "训练集上的损失：0.001\n",
      "训练集上的准确率：0.961\n",
      "验证集上的损失：0.011\n",
      "验证集上的准确率：0.728\n",
      "测试集上的损失：0.012\n",
      "测试集上的准确率：0.733\n",
      "epoch: 14\n",
      "训练集上的损失：0.001\n",
      "训练集上的准确率：0.959\n",
      "验证集上的损失：0.012\n",
      "验证集上的准确率：0.722\n",
      "测试集上的损失：0.012\n",
      "测试集上的准确率：0.722\n",
      "epoch: 15\n",
      "训练集上的损失：0.001\n",
      "训练集上的准确率：0.975\n",
      "验证集上的损失：0.013\n",
      "验证集上的准确率：0.727\n",
      "测试集上的损失：0.013\n",
      "测试集上的准确率：0.732\n",
      "epoch: 16\n",
      "训练集上的损失：0.001\n",
      "训练集上的准确率：0.980\n",
      "验证集上的损失：0.014\n",
      "验证集上的准确率：0.731\n",
      "测试集上的损失：0.013\n",
      "测试集上的准确率：0.738\n",
      "epoch: 17\n",
      "训练集上的损失：0.001\n",
      "训练集上的准确率：0.982\n",
      "验证集上的损失：0.015\n",
      "验证集上的准确率：0.724\n",
      "测试集上的损失：0.014\n",
      "测试集上的准确率：0.735\n",
      "epoch: 18\n",
      "训练集上的损失：0.001\n",
      "训练集上的准确率：0.969\n",
      "验证集上的损失：0.015\n",
      "验证集上的准确率：0.714\n",
      "测试集上的损失：0.015\n",
      "测试集上的准确率：0.725\n",
      "epoch: 19\n",
      "训练集上的损失：0.000\n",
      "训练集上的准确率：0.986\n",
      "验证集上的损失：0.015\n",
      "验证集上的准确率：0.727\n",
      "测试集上的损失：0.015\n",
      "测试集上的准确率：0.734\n",
      "epoch: 20\n",
      "训练集上的损失：0.001\n",
      "训练集上的准确率：0.982\n",
      "验证集上的损失：0.017\n",
      "验证集上的准确率：0.725\n",
      "测试集上的损失：0.017\n",
      "测试集上的准确率：0.736\n",
      "epoch: 21\n",
      "训练集上的损失：0.000\n",
      "训练集上的准确率：0.985\n",
      "验证集上的损失：0.015\n",
      "验证集上的准确率：0.722\n",
      "测试集上的损失：0.015\n",
      "测试集上的准确率：0.730\n",
      "epoch: 22\n",
      "训练集上的损失：0.000\n",
      "训练集上的准确率：0.984\n",
      "验证集上的损失：0.016\n",
      "验证集上的准确率：0.728\n",
      "测试集上的损失：0.016\n",
      "测试集上的准确率：0.731\n",
      "epoch: 23\n",
      "训练集上的损失：0.000\n",
      "训练集上的准确率：0.987\n",
      "验证集上的损失：0.017\n",
      "验证集上的准确率：0.729\n",
      "测试集上的损失：0.017\n",
      "测试集上的准确率：0.728\n",
      "epoch: 24\n",
      "训练集上的损失：0.000\n",
      "训练集上的准确率：0.986\n",
      "验证集上的损失：0.016\n",
      "验证集上的准确率：0.729\n",
      "测试集上的损失：0.016\n",
      "测试集上的准确率：0.730\n",
      "epoch: 25\n",
      "训练集上的损失：0.000\n",
      "训练集上的准确率：0.989\n",
      "验证集上的损失：0.017\n",
      "验证集上的准确率：0.736\n",
      "测试集上的损失：0.017\n",
      "测试集上的准确率：0.743\n",
      "epoch: 26\n",
      "训练集上的损失：0.000\n",
      "训练集上的准确率：0.988\n",
      "验证集上的损失：0.018\n",
      "验证集上的准确率：0.727\n",
      "测试集上的损失：0.018\n",
      "测试集上的准确率：0.734\n",
      "epoch: 27\n",
      "训练集上的损失：0.000\n",
      "训练集上的准确率：0.988\n",
      "验证集上的损失：0.018\n",
      "验证集上的准确率：0.733\n",
      "测试集上的损失：0.018\n",
      "测试集上的准确率：0.740\n",
      "epoch: 28\n",
      "训练集上的损失：0.000\n",
      "训练集上的准确率：0.993\n",
      "验证集上的损失：0.018\n",
      "验证集上的准确率：0.728\n",
      "测试集上的损失：0.018\n",
      "测试集上的准确率：0.742\n",
      "epoch: 29\n",
      "训练集上的损失：0.000\n",
      "训练集上的准确率：0.992\n",
      "验证集上的损失：0.019\n",
      "验证集上的准确率：0.726\n",
      "测试集上的损失：0.019\n",
      "测试集上的准确率：0.739\n",
      "epoch: 30\n",
      "训练集上的损失：0.000\n",
      "训练集上的准确率：0.990\n",
      "验证集上的损失：0.020\n",
      "验证集上的准确率：0.728\n",
      "测试集上的损失：0.019\n",
      "测试集上的准确率：0.737\n",
      "epoch: 31\n",
      "训练集上的损失：0.000\n",
      "训练集上的准确率：0.988\n",
      "验证集上的损失：0.020\n",
      "验证集上的准确率：0.720\n",
      "测试集上的损失：0.020\n",
      "测试集上的准确率：0.725\n",
      "epoch: 32\n",
      "训练集上的损失：0.000\n",
      "训练集上的准确率：0.993\n",
      "验证集上的损失：0.020\n",
      "验证集上的准确率：0.732\n",
      "测试集上的损失：0.020\n",
      "测试集上的准确率：0.740\n",
      "epoch: 33\n",
      "训练集上的损失：0.000\n",
      "训练集上的准确率：0.991\n",
      "验证集上的损失：0.021\n",
      "验证集上的准确率：0.726\n",
      "测试集上的损失：0.021\n",
      "测试集上的准确率：0.734\n",
      "epoch: 34\n",
      "训练集上的损失：0.000\n",
      "训练集上的准确率：0.990\n",
      "验证集上的损失：0.020\n",
      "验证集上的准确率：0.720\n",
      "测试集上的损失：0.020\n",
      "测试集上的准确率：0.732\n",
      "epoch: 35\n",
      "训练集上的损失：0.000\n",
      "训练集上的准确率：0.990\n",
      "验证集上的损失：0.020\n",
      "验证集上的准确率：0.724\n",
      "测试集上的损失：0.020\n",
      "测试集上的准确率：0.735\n",
      "epoch: 36\n",
      "训练集上的损失：0.000\n",
      "训练集上的准确率：0.993\n",
      "验证集上的损失：0.020\n",
      "验证集上的准确率：0.735\n",
      "测试集上的损失：0.021\n",
      "测试集上的准确率：0.736\n",
      "epoch: 37\n",
      "训练集上的损失：0.000\n",
      "训练集上的准确率：0.990\n",
      "验证集上的损失：0.021\n",
      "验证集上的准确率：0.730\n",
      "测试集上的损失：0.022\n",
      "测试集上的准确率：0.730\n",
      "epoch: 38\n",
      "训练集上的损失：0.000\n",
      "训练集上的准确率：0.994\n",
      "验证集上的损失：0.021\n",
      "验证集上的准确率：0.729\n",
      "测试集上的损失：0.020\n",
      "测试集上的准确率：0.740\n",
      "epoch: 39\n",
      "训练集上的损失：0.000\n",
      "训练集上的准确率：0.998\n",
      "验证集上的损失：0.019\n",
      "验证集上的准确率：0.741\n",
      "测试集上的损失：0.019\n",
      "测试集上的准确率：0.749\n",
      "epoch: 40\n",
      "训练集上的损失：0.000\n",
      "训练集上的准确率：0.997\n",
      "验证集上的损失：0.022\n",
      "验证集上的准确率：0.735\n",
      "测试集上的损失：0.022\n",
      "测试集上的准确率：0.746\n"
     ]
    }
   ],
   "source": [
    "for epoch in range(num_epoches):\n",
    "    print('epoch:',epoch+1)\n",
    "\n",
    "    model.train()\n",
    "    for _,data in enumerate(train_loader,0):\n",
    "        inputs, labels = data[0],data[1]\n",
    "        inputs = inputs.view(train_batch_size, -1, 32, 32)  \n",
    "        inputs, labels = inputs.to(device), labels.to(device)\n",
    "        optimizer.zero_grad() # 每次训练梯度清零\n",
    "        outputs = model(inputs)\n",
    "        loss = criterion(outputs, labels)\n",
    "        loss.backward()\n",
    "        optimizer.step()\n",
    "\n",
    "\n",
    "    model.eval()\n",
    "    running_loss = 0.0\n",
    "    correct = 0             \n",
    "    total = 0             \n",
    "    with torch.no_grad(): \n",
    "        for _,data in enumerate(train_loader,0):\n",
    "            inputs, labels = data\n",
    "            inputs = inputs.view(test_batch_size, -1, 32, 32)\n",
    "            inputs, labels = inputs.to(device), labels.to(device)\n",
    "            outputs = model(inputs)\n",
    "            loss = criterion(outputs, labels)\n",
    "            running_loss += loss.item()\n",
    "            _, pred = torch.max(outputs.data, 1)      # 选取最大概率的那个标签为预测结果\n",
    "            total += labels.size(0)                   # 总样本个数加 1\n",
    "            correct += (pred == labels).sum().item()  # 如果预测正确，correct加 1\n",
    "    train_loss.append(running_loss/total)\n",
    "    train_acc.append(correct / total)\n",
    "    print(\"训练集上的损失：%.3f\" % (running_loss / total))\n",
    "    print(\"训练集上的准确率：%.3f\" % (correct / total))\n",
    "\n",
    "\n",
    "    model.eval()\n",
    "    running_loss = 0.0\n",
    "    correct = 0             \n",
    "    total = 0             \n",
    "    with torch.no_grad(): \n",
    "        for _,data in enumerate(valid_loader,0):\n",
    "            inputs, labels = data\n",
    "            inputs = inputs.view(test_batch_size, -1, 32, 32)\n",
    "            inputs, labels = inputs.to(device), labels.to(device)\n",
    "            outputs = model(inputs)\n",
    "            loss = criterion(outputs, labels)\n",
    "            running_loss += loss.item()\n",
    "            _, pred = torch.max(outputs.data, 1)      # 选取最大概率的那个标签为预测结果\n",
    "            total += labels.size(0)                   # 总样本个数加 1\n",
    "            correct += (pred == labels).sum().item()  # 如果预测正确，correct加 1\n",
    "    valid_loss.append(running_loss / total)\n",
    "    valid_acc.append(correct / total)\n",
    "    print(\"验证集上的损失：%.3f\" % (running_loss / total))\n",
    "    print(\"验证集上的准确率：%.3f\" % (correct / total))\n",
    "    \n",
    "    \n",
    "    model.eval()\n",
    "    running_loss = 0.0\n",
    "    correct = 0            \n",
    "    total = 0             \n",
    "    with torch.no_grad(): \n",
    "        for _,data in enumerate(test_loader,0):\n",
    "            inputs, labels = data\n",
    "            inputs = inputs.view(test_batch_size, -1, 32, 32)\n",
    "            inputs, labels = inputs.to(device), labels.to(device)\n",
    "            outputs = model(inputs)\n",
    "            loss = criterion(outputs, labels)\n",
    "            running_loss += loss.item()\n",
    "            _, pred = torch.max(outputs.data, 1)      # 选取最大概率的那个标签为预测结果\n",
    "            total += labels.size(0)                   # 总样本个数加 1\n",
    "            correct += (pred == labels).sum().item()  # 如果预测正确，correct加 1\n",
    "    test_loss.append(running_loss / total)\n",
    "    test_acc.append(correct / total)\n",
    "    print(\"测试集上的损失：%.3f\" % (running_loss / total))\n",
    "    print(\"测试集上的准确率：%.3f\" % (correct / total))"
   ]
  },
  {
   "cell_type": "code",
   "execution_count": 118,
   "metadata": {},
   "outputs": [
    {
     "data": {
      "text/plain": [
       "<matplotlib.legend.Legend at 0x20b811552b0>"
      ]
     },
     "execution_count": 118,
     "metadata": {},
     "output_type": "execute_result"
    },
    {
     "data": {
      "image/png": "[encoded data removed]",
      "text/plain": [
       "<Figure size 432x288 with 1 Axes>"
      ]
     },
     "metadata": {
      "needs_background": "light"
     },
     "output_type": "display_data"
    }
   ],
   "source": [
    "plt.xlabel('epochs')\n",
    "plt.ylabel('loss')\n",
    "plt.plot(np.arange(len(train_loss)), train_loss)\n",
    "plt.plot(np.arange(len(valid_loss)), valid_loss)\n",
    "plt.plot(np.arange(len(test_loss)), test_loss)\n",
    "plt.legend(['Train Loss','Valid Loss','Test Loss'])"
   ]
  },
  {
   "cell_type": "code",
   "execution_count": 119,
   "metadata": {},
   "outputs": [
    {
     "data": {
      "text/plain": [
       "<matplotlib.legend.Legend at 0x20b81189fa0>"
      ]
     },
     "execution_count": 119,
     "metadata": {},
     "output_type": "execute_result"
    },
    {
     "data": {
      "image/png": "[encoded data removed]",
      "text/plain": [
       "<Figure size 432x288 with 1 Axes>"
      ]
     },
     "metadata": {
      "needs_background": "light"
     },
     "output_type": "display_data"
    }
   ],
   "source": [
    "#准确率\n",
    "plt.xlabel('epochs')\n",
    "plt.ylabel('acc')\n",
    "plt.plot(np.arange(len(train_acc)), train_acc)\n",
    "plt.plot(np.arange(len(valid_acc)), valid_acc)\n",
    "plt.plot(np.arange(len(test_acc)), test_acc)\n",
    "plt.legend(['Train acc','valid acc','Test acc'])"
   ]
  },
  {
   "cell_type": "code",
   "execution_count": 120,
   "metadata": {},
   "outputs": [
    {
     "name": "stdout",
     "output_type": "stream",
     "text": [
      "验证集最高准确率:  0.7406 \t索引: 38\n",
      "测试集最高准确率:  0.749 \t索引: 38\n",
      "验证集最高准确率的模型对应的测试集准确率： 0.749 \t索引: 38\n"
     ]
    }
   ],
   "source": [
    "print('验证集最高准确率: ', max(valid_acc), '\\t索引:', valid_acc.index(max(valid_acc)))\n",
    "print('测试集最高准确率: ', max(test_acc), '\\t索引:',test_acc.index(max(test_acc)))\n",
    "pos = valid_acc.index(max(valid_acc))\n",
    "max_test_acc = test_acc[pos]\n",
    "print('验证集最高准确率的模型对应的测试集准确率：', max_test_acc, '\\t索引:', pos)"
   ]
  },
  {
   "cell_type": "markdown",
   "metadata": {},
   "source": [
    "# 对比有无 BN 情况下的 loss 和 acc"
   ]
  },
  {
   "cell_type": "code",
   "execution_count": 121,
   "metadata": {},
   "outputs": [
    {
     "data": {
      "text/plain": [
       "<matplotlib.legend.Legend at 0x20b811a6160>"
      ]
     },
     "execution_count": 121,
     "metadata": {},
     "output_type": "execute_result"
    },
    {
     "data": {
      "image/png": "[encoded data removed]",
      "text/plain": [
       "<Figure size 432x288 with 1 Axes>"
      ]
     },
     "metadata": {
      "needs_background": "light"
     },
     "output_type": "display_data"
    }
   ],
   "source": [
    "# 对比训练集loss\n",
    "plt.xlabel('epochs')\n",
    "plt.ylabel('Train Loss')\n",
    "plt.plot(np.arange(len(BN_train_loss)), BN_train_loss)\n",
    "plt.plot(np.arange(len(train_loss)), train_loss)\n",
    "plt.legend(['BN','no BN'])"
   ]
  },
  {
   "cell_type": "code",
   "execution_count": 122,
   "metadata": {},
   "outputs": [
    {
     "data": {
      "text/plain": [
       "<matplotlib.legend.Legend at 0x20b80ff7c40>"
      ]
     },
     "execution_count": 122,
     "metadata": {},
     "output_type": "execute_result"
    },
    {
     "data": {
      "image/png": "[encoded data removed]",
      "text/plain": [
       "<Figure size 432x288 with 1 Axes>"
      ]
     },
     "metadata": {
      "needs_background": "light"
     },
     "output_type": "display_data"
    }
   ],
   "source": [
    "# 对比验证集loss\n",
    "plt.xlabel('epochs')\n",
    "plt.ylabel('Valid Loss')\n",
    "plt.plot(np.arange(len(BN_valid_loss)), BN_valid_loss)\n",
    "plt.plot(np.arange(len(valid_loss)), valid_loss)\n",
    "plt.legend(['BN','no BN'])"
   ]
  },
  {
   "cell_type": "code",
   "execution_count": 123,
   "metadata": {},
   "outputs": [
    {
     "data": {
      "text/plain": [
       "<matplotlib.legend.Legend at 0x20b810a74f0>"
      ]
     },
     "execution_count": 123,
     "metadata": {},
     "output_type": "execute_result"
    },
    {
     "data": {
      "image/png": "[encoded data removed]",
      "text/plain": [
       "<Figure size 432x288 with 1 Axes>"
      ]
     },
     "metadata": {
      "needs_background": "light"
     },
     "output_type": "display_data"
    }
   ],
   "source": [
    "# 对比测试集acc\n",
    "plt.xlabel('epochs')\n",
    "plt.ylabel('Test Acc')\n",
    "plt.plot(np.arange(len(BN_test_acc)), BN_test_acc)\n",
    "plt.plot(np.arange(len(test_acc)), test_acc)\n",
    "plt.legend(['BN','no BN'])"
   ]
  },
  {
   "cell_type": "code",
   "execution_count": 124,
   "metadata": {},
   "outputs": [
    {
     "name": "stdout",
     "output_type": "stream",
     "text": [
      "有 BN 测试集最高准确率: 0.7731\n",
      "无 BN 测试集最高准确率: 0.749\n"
     ]
    }
   ],
   "source": [
    "print(\"有 BN 测试集最高准确率:\",max(BN_test_acc))\n",
    "print(\"无 BN 测试集最高准确率:\",max(test_acc))"
   ]
  },
  {
   "cell_type": "code",
   "execution_count": null,
   "metadata": {},
   "outputs": [],
   "source": []
  }
 ],
 "metadata": {
  "interpreter": {
   "hash": "6429919fe5eee10fa3db4376c75d0431aac4ee64633f3fde6de3e71a7b7c5c41"
  },
  "kernelspec": {
   "display_name": "Python 3.8.8 ('base')",
   "language": "python",
   "name": "python3"
  },
  "language_info": {
   "codemirror_mode": {
    "name": "ipython",
    "version": 3
   },
   "file_extension": ".py",
   "mimetype": "text/x-python",
   "name": "python",
   "nbconvert_exporter": "python",
   "pygments_lexer": "ipython3",
   "version": "3.8.8"
  },
  "orig_nbformat": 4
 },
 "nbformat": 4,
 "nbformat_minor": 2
}
