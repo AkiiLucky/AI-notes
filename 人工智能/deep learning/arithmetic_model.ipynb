{
 "cells": [
  {
   "cell_type": "markdown",
   "id": "14cd43be-509f-4021-bcf3-9afabe5b0df5",
   "metadata": {},
   "source": [
    "# 算术式预测"
   ]
  },
  {
   "cell_type": "markdown",
   "id": "abd0908c-89e6-4556-ba57-b0b3d15fe25e",
   "metadata": {},
   "source": [
    "## 首先，导入必要的模块"
   ]
  },
  {
   "cell_type": "code",
   "execution_count": 1,
   "id": "b8b70388-bd6e-4a4e-ba0e-84c1c3f9044b",
   "metadata": {},
   "outputs": [],
   "source": [
    "import numpy as np\n",
    "import torch\n",
    " \n",
    "import torchvision.datasets\n",
    "# 导入预处理模块\n",
    "import torchvision.transforms as transforms\n",
    "from torch.utils.data import DataLoader\n",
    "# 导入nn及优化器\n",
    "import torch.nn.functional as F\n",
    "import torch.optim as optim\n",
    "from torch import nn"
   ]
  },
  {
   "cell_type": "markdown",
   "id": "e41d2a9e-84c0-4902-b9b0-717102be0616",
   "metadata": {},
   "source": [
    "## 定义超参数"
   ]
  },
  {
   "cell_type": "code",
   "execution_count": 2,
   "id": "685b3567-ac15-4019-81d7-f856f370b813",
   "metadata": {},
   "outputs": [],
   "source": [
    "train_batch_size = 60   #每批处理的训练集数据\n",
    "test_batch_size = 100   #每批处理的测试集数据\n",
    "learning_rate = 0.01    #学习率\n",
    "num_epoches = 20        #训练数据集的轮次\n",
    "lr = 0.01               #学习率\n",
    "momentum = 0.5          #动量"
   ]
  },
  {
   "cell_type": "markdown",
   "id": "e7ed86be-8d5c-4166-ba78-af70fa66b61f",
   "metadata": {},
   "source": [
    "## 加载及预处理数据"
   ]
  },
  {
   "cell_type": "code",
   "execution_count": 3,
   "id": "62f9322e-f17b-483d-9e8a-c0a8da8a9513",
   "metadata": {
    "tags": []
   },
   "outputs": [
    {
     "name": "stderr",
     "output_type": "stream",
     "text": [
      "C:\\Users\\Sion\\AppData\\Local\\Temp/ipykernel_4176/2701498331.py:12: UserWarning: To copy construct from a tensor, it is recommended to use sourceTensor.clone().detach() or sourceTensor.clone().detach().requires_grad_(True), rather than torch.tensor(sourceTensor).\n",
      "  b = torch.tensor(b, dtype=torch.uint8)          # 转换为 uint8 格式\n",
      "C:\\Users\\Sion\\AppData\\Local\\Temp/ipykernel_4176/2701498331.py:19: UserWarning: To copy construct from a tensor, it is recommended to use sourceTensor.clone().detach() or sourceTensor.clone().detach().requires_grad_(True), rather than torch.tensor(sourceTensor).\n",
      "  b = torch.tensor(b, dtype=torch.uint8)         # 转换为 uint8 格式\n"
     ]
    }
   ],
   "source": [
    "# 构建 transform, 对图像做处理\n",
    "transform = transforms.Compose([\n",
    "    transforms.ToTensor(),              # 将图片转换为tensor\n",
    "    transforms.Normalize([0.5], [0.5])  # 正则化，降低模型复杂度\n",
    "])\n",
    "\n",
    "#训练集\n",
    "train_dataset = torch.load(\"datasets_arithmetic/arithmetic_train.pt\")\n",
    "a = torch.zeros(28, 84)  # 28 * 84 的全为零元素的张量\n",
    "for i in range(60000):\n",
    "    b = torch.cat((a, train_dataset[i][0], a))      # 用 0 填充，使图片形状为 84*84\n",
    "    b = torch.tensor(b, dtype=torch.uint8)          # 转换为 uint8 格式\n",
    "    train_dataset[i] = (b,) + train_dataset[i][1:]  # 替代原来的数据\n",
    "    \n",
    "#测试集\n",
    "test_dataset = torch.load(\"datasets_arithmetic/arithmetic_test.pt\")\n",
    "for i in range(10000):\n",
    "    b = torch.cat((a, test_dataset[i][0], a))      # 用 0 填充，使图片形状为 84*84\n",
    "    b = torch.tensor(b, dtype=torch.uint8)         # 转换为 uint8 格式\n",
    "    test_dataset[i] = (b,) + test_dataset[i][1:]   # 替代原来的数据\n",
    "    \n",
    "    \n",
    "#加载数据\n",
    "train_loader = DataLoader(train_dataset, batch_size=train_batch_size, shuffle=True)\n",
    "test_loader = DataLoader(test_dataset, batch_size=test_batch_size, shuffle=False)"
   ]
  },
  {
   "cell_type": "code",
   "execution_count": 4,
   "id": "c28057da-fc2c-48ca-a03b-f2021fb98e6c",
   "metadata": {},
   "outputs": [
    {
     "data": {
      "text/plain": [
       "(tensor([[0, 0, 0,  ..., 0, 0, 0],\n",
       "         [0, 0, 0,  ..., 0, 0, 0],\n",
       "         [0, 0, 0,  ..., 0, 0, 0],\n",
       "         ...,\n",
       "         [0, 0, 0,  ..., 0, 0, 0],\n",
       "         [0, 0, 0,  ..., 0, 0, 0],\n",
       "         [0, 0, 0,  ..., 0, 0, 0]], dtype=torch.uint8),\n",
       " 5)"
      ]
     },
     "execution_count": 4,
     "metadata": {},
     "output_type": "execute_result"
    }
   ],
   "source": [
    "train_dataset[0] # 训练集第一个元素"
   ]
  },
  {
   "cell_type": "code",
   "execution_count": 5,
   "id": "8ec1eaef-a80c-4324-a1a8-f2568dd91919",
   "metadata": {},
   "outputs": [
    {
     "data": {
      "text/plain": [
       "torch.Size([84, 84])"
      ]
     },
     "execution_count": 5,
     "metadata": {},
     "output_type": "execute_result"
    }
   ],
   "source": [
    "train_dataset[0][0].size()  # 输入网络的图片大小为 84*84"
   ]
  },
  {
   "cell_type": "markdown",
   "id": "ed2b6f2a-0d93-458d-a2b4-751c51132703",
   "metadata": {},
   "source": [
    "## 可视化源数据"
   ]
  },
  {
   "cell_type": "code",
   "execution_count": 6,
   "id": "e0f2447e-d7fc-4f15-8a5d-4a2f784671d8",
   "metadata": {},
   "outputs": [
    {
     "data": {
      "image/png": "[encoded data removed]",
      "text/plain": [
       "<Figure size 432x288 with 16 Axes>"
      ]
     },
     "metadata": {},
     "output_type": "display_data"
    }
   ],
   "source": [
    "import matplotlib.pyplot as plt\n",
    "%matplotlib inline\n",
    "\n",
    "examples = enumerate(test_loader)\n",
    "batch_idx, (example_data, example_targets) = next(examples)\n",
    "\n",
    "# 抽取 16 张手写数字图片\n",
    "fig = plt.figure()\n",
    "for i in range(16):\n",
    "    plt.subplot(4,4,i+1)\n",
    "    plt.imshow(example_data[i], cmap='gray', interpolation='none') # 显示图片\n",
    "    plt.xticks([])\n",
    "    plt.yticks([])"
   ]
  },
  {
   "cell_type": "markdown",
   "id": "e593bc8a-a771-44c6-bf56-553367fcee67",
   "metadata": {},
   "source": [
    "## 构建模型 (LeNet-5网络)"
   ]
  },
  {
   "cell_type": "code",
   "execution_count": 7,
   "id": "41fa4e9d-a36c-4e2f-b279-aa45c83ba859",
   "metadata": {},
   "outputs": [],
   "source": [
    "class Net(nn.Module):\n",
    "    def __init__(self):\n",
    "        super(Net, self).__init__()\n",
    "        # 1个输入图片通道，6个输出通道，5*5的卷积核，步长为 1，padding填充为 0\n",
    "        self.conv1 = nn.Conv2d(1, 6, 5, 1, 0)    # 输出形状为 80*80 (84-5+1)\n",
    "        # max pooling, 2*2\n",
    "        self.pool1 = nn.MaxPool2d(2, 2)          # 输出形状为 40*40\n",
    "        # 6个输入图片通道，16个输出通道，5*5的卷积核，步长为 1，padding填充为 0\n",
    "        self.conv2 = nn.Conv2d(6, 16, 5, 1, 0)   # 输出形状为 36*36 (40-5+1)\n",
    "        # max pooling, 2*2\n",
    "        self.pool2 = nn.MaxPool2d(2, 2)          # 输出形状为 18*18\n",
    "        # 拉伸成一维向量，全连接层\n",
    "        self.fc1 = nn.Linear(16 * 18 * 18, 120)\n",
    "        # 全连接层\n",
    "        self.fc2 = nn.Linear(120, 84)\n",
    "        # 全连接层，输出层 Softmax，10 个数字\n",
    "        self.fc3 = nn.Linear(84, 10)\n",
    "        \n",
    "    def forward(self, x):\n",
    "        x = F.relu(self.conv1(x)) # 用relu函数激活经过第一层卷积的结果\n",
    "        x = self.pool1(x)         # 第一个池化层\n",
    "        x = F.relu(self.conv2(x)) # 用relu函数激活经过第二层卷积的结果\n",
    "        x = self.pool2(x)         # 第二个池化层\n",
    "        # 拉伸成一维向量\n",
    "        x = x.view(-1, 16 * 18 * 18)  # -1 代表自动判断维数\n",
    "        x = F.relu(self.fc1(x))   # 激活第一个全连接层\n",
    "        x = F.relu(self.fc2(x))   # 激活第二个全连接层\n",
    "        x = self.fc3(x)           # 输出层\n",
    "        return x  "
   ]
  },
  {
   "cell_type": "markdown",
   "id": "1cccc051-26ac-405c-828f-129b473d101d",
   "metadata": {},
   "source": [
    "## 实例化网络"
   ]
  },
  {
   "cell_type": "code",
   "execution_count": 8,
   "id": "2cf09a8d-a3db-454c-88a2-4064649564cb",
   "metadata": {},
   "outputs": [
    {
     "name": "stdout",
     "output_type": "stream",
     "text": [
      "Net(\n",
      "  (conv1): Conv2d(1, 6, kernel_size=(5, 5), stride=(1, 1))\n",
      "  (pool1): MaxPool2d(kernel_size=2, stride=2, padding=0, dilation=1, ceil_mode=False)\n",
      "  (conv2): Conv2d(6, 16, kernel_size=(5, 5), stride=(1, 1))\n",
      "  (pool2): MaxPool2d(kernel_size=2, stride=2, padding=0, dilation=1, ceil_mode=False)\n",
      "  (fc1): Linear(in_features=5184, out_features=120, bias=True)\n",
      "  (fc2): Linear(in_features=120, out_features=84, bias=True)\n",
      "  (fc3): Linear(in_features=84, out_features=10, bias=True)\n",
      ")\n"
     ]
    }
   ],
   "source": [
    "device = torch.device(\"cuda:0\" if torch.cuda.is_available() else \"cpu\")\n",
    "# 实例化网络\n",
    "net = Net()\n",
    "net = net.to(device)\n",
    "print(net)"
   ]
  },
  {
   "cell_type": "markdown",
   "id": "bcefd0c6-49d6-4d2f-9f7b-485ece3c195a",
   "metadata": {},
   "source": [
    "## 定义损失函数"
   ]
  },
  {
   "cell_type": "code",
   "execution_count": 9,
   "id": "0ffdaf66-f808-44ae-8bf2-a7b8ce8c5af2",
   "metadata": {},
   "outputs": [],
   "source": [
    "# 定义损失函数和优化器\n",
    "criterion = nn.CrossEntropyLoss()\n",
    "optimizer = optim.SGD(net.parameters(), lr=lr, momentum=momentum)  # 优化器，用于更新参数"
   ]
  },
  {
   "cell_type": "markdown",
   "id": "3f9c8491-1357-4ad9-994d-bc55e1a5ea05",
   "metadata": {},
   "source": [
    "## 训练模型"
   ]
  },
  {
   "cell_type": "code",
   "execution_count": 10,
   "id": "d8541193-a502-4616-a326-962dd7934b47",
   "metadata": {
    "tags": []
   },
   "outputs": [
    {
     "name": "stdout",
     "output_type": "stream",
     "text": [
      "[epoch: 1, mini-batch:  1000] loss: 1.019\n",
      "[epoch: 2, mini-batch:  1000] loss: 0.204\n",
      "[epoch: 3, mini-batch:  1000] loss: 0.125\n",
      "[epoch: 4, mini-batch:  1000] loss: 0.091\n",
      "[epoch: 5, mini-batch:  1000] loss: 0.070\n",
      "[epoch: 6, mini-batch:  1000] loss: 0.058\n",
      "[epoch: 7, mini-batch:  1000] loss: 0.047\n",
      "[epoch: 8, mini-batch:  1000] loss: 0.044\n",
      "[epoch: 9, mini-batch:  1000] loss: 0.038\n",
      "[epoch: 10, mini-batch:  1000] loss: 0.032\n",
      "[epoch: 11, mini-batch:  1000] loss: 0.035\n",
      "[epoch: 12, mini-batch:  1000] loss: 0.027\n",
      "[epoch: 13, mini-batch:  1000] loss: 0.020\n",
      "[epoch: 14, mini-batch:  1000] loss: 0.024\n",
      "[epoch: 15, mini-batch:  1000] loss: 0.017\n",
      "[epoch: 16, mini-batch:  1000] loss: 0.020\n",
      "[epoch: 17, mini-batch:  1000] loss: 0.019\n",
      "[epoch: 18, mini-batch:  1000] loss: 0.021\n",
      "[epoch: 19, mini-batch:  1000] loss: 0.020\n",
      "[epoch: 20, mini-batch:  1000] loss: 0.012\n"
     ]
    }
   ],
   "source": [
    "cost = []  # 损失函数累加\n",
    "net.train()\n",
    "for epoch in range(num_epoches):\n",
    "    running_loss = 0.0\n",
    "    for i, data in enumerate(train_loader, 0):\n",
    "        # 输入样本和标签\n",
    "        inputs, labels = data[0],data[1]\n",
    "        inputs = inputs.view(train_batch_size, -1, 84, 84)  #转化为 4 维，第 2 维自动判断\n",
    "        inputs, labels = inputs.to(device), labels.to(device)\n",
    "        \n",
    "        # 每次训练梯度清零\n",
    "        optimizer.zero_grad()\n",
    "        \n",
    "        # 正向传播\n",
    "        outputs = net(inputs.float())  # 这里的输入是 4 维的\n",
    "        loss = criterion(outputs, labels)\n",
    "        # 反向传播\n",
    "        loss.backward()\n",
    "        optimizer.step()\n",
    "        # 记录误差\n",
    "        running_loss += loss.item()\n",
    "        # 打印训练情况\n",
    "        if (i+1) % 1000 == 0:\n",
    "            print(\"[epoch: %d, mini-batch: %5d] loss: %.3f\" % \n",
    "                  (epoch + 1, i + 1, running_loss / 1000))  # 每训练 1000 个样本打印一次平均误差\n",
    "            cost.append(running_loss / 1000)\n",
    "            running_loss = 0.0"
   ]
  },
  {
   "cell_type": "markdown",
   "id": "f35e10e9-67d5-41f7-8874-ab7387acd5a5",
   "metadata": {},
   "source": [
    "## 可视化训练及测试损失值"
   ]
  },
  {
   "cell_type": "code",
   "execution_count": 11,
   "id": "831ea276-bdfc-432c-80ac-392bdc071eff",
   "metadata": {},
   "outputs": [
    {
     "data": {
      "text/plain": [
       "<matplotlib.legend.Legend at 0x1f613b85e50>"
      ]
     },
     "execution_count": 11,
     "metadata": {},
     "output_type": "execute_result"
    },
    {
     "data": {
      "image/png": "[encoded data removed]",
      "text/plain": [
       "<Figure size 432x288 with 1 Axes>"
      ]
     },
     "metadata": {
      "needs_background": "light"
     },
     "output_type": "display_data"
    }
   ],
   "source": [
    "import matplotlib.pyplot as plt\n",
    "%matplotlib inline\n",
    "\n",
    "plt.title('train loss')\n",
    "plt.plot(np.arange(len(cost)), cost)\n",
    "plt.legend(['Train Loss'], loc='upper right')"
   ]
  },
  {
   "cell_type": "markdown",
   "id": "b04ce01f-a18c-452f-bce3-e7731828a26a",
   "metadata": {},
   "source": [
    "## 测试模型"
   ]
  },
  {
   "cell_type": "markdown",
   "id": "4d6e0502-0969-4532-821c-24815c28a5de",
   "metadata": {},
   "source": [
    "### 验证模型在训练集上的效果"
   ]
  },
  {
   "cell_type": "code",
   "execution_count": 12,
   "id": "ab993f42-e9f9-4b38-88e3-95501c062cb6",
   "metadata": {
    "tags": []
   },
   "outputs": [
    {
     "name": "stdout",
     "output_type": "stream",
     "text": [
      "训练集上的准确率：0.996\n"
     ]
    }
   ],
   "source": [
    "correct = 0  # 预测正确的个数\n",
    "total = 0    # 总样本个数\n",
    "\n",
    "with torch.no_grad(): # 关闭梯度\n",
    "    for data in train_loader:\n",
    "        inputs, labels = data\n",
    "        inputs = inputs.view(train_batch_size, -1, 84, 84)\n",
    "        inputs, labels = inputs.to(device), labels.to(device)\n",
    "        \n",
    "        outputs = net(inputs.float())\n",
    "        _, pred = torch.max(outputs.data, 1)      # 选取最大概率的那个标签为预测结果\n",
    "        total += labels.size(0)                   # 总样本个数加 1\n",
    "        correct += (pred == labels).sum().item()  # 如果预测正确，correct加 1\n",
    "\n",
    "print(\"训练集上的准确率：%.3f\" % (correct / total))"
   ]
  },
  {
   "cell_type": "markdown",
   "id": "6a0af6c1-1828-47f9-b1a4-9f342a162b90",
   "metadata": {},
   "source": [
    "### 验证模型在测试集上的效果"
   ]
  },
  {
   "cell_type": "code",
   "execution_count": 13,
   "id": "159838f7-5e35-4c0a-a61e-63a0ce93825d",
   "metadata": {},
   "outputs": [
    {
     "name": "stdout",
     "output_type": "stream",
     "text": [
      "测试集上的准确率：0.977\n"
     ]
    }
   ],
   "source": [
    "correct = 0  # 预测正确的个数\n",
    "total = 0    # 总样本个数\n",
    "\n",
    "with torch.no_grad(): # 关闭梯度\n",
    "    for data in test_loader:\n",
    "        inputs, labels = data\n",
    "        inputs = inputs.view(test_batch_size, -1, 84, 84)\n",
    "        inputs, labels = inputs.to(device), labels.to(device)\n",
    "        \n",
    "        outputs = net(inputs.float())\n",
    "        _, pred = torch.max(outputs.data, 1)      # 选取最大概率的那个标签为预测结果\n",
    "        total += labels.size(0)                   # 总样本个数加 1\n",
    "        correct += (pred == labels).sum().item()  # 如果预测正确，correct加 1\n",
    "\n",
    "print(\"测试集上的准确率：%.3f\" % (correct / total))"
   ]
  },
  {
   "cell_type": "markdown",
   "id": "290174a3-a686-44db-a2ea-99dffe1babc9",
   "metadata": {},
   "source": [
    "# 实验总结"
   ]
  },
  {
   "cell_type": "markdown",
   "id": "c0145c6e-d812-48cb-8a72-b0ab74de0422",
   "metadata": {},
   "source": [
    "## 本次实验采用手写算术式为样本集，对运算结果进行预测。使用 60000 个样本作为训练集，使用 10000 个样本作为测试集。通过构建卷积神经网络模型(LeNet-5)，通过 Dataloader 将样本分批进行训练，训练集上每批处理 60 个样本数据，测试集上每批处理 100 个样本数据。迭代 20 次后，模型在训练集上的准确率为 0.996，在测试集上的准确率为 0.977。\n"
   ]
  }
 ],
 "metadata": {
  "kernelspec": {
   "display_name": "Python 3 (ipykernel)",
   "language": "python",
   "name": "python3"
  },
  "language_info": {
   "codemirror_mode": {
    "name": "ipython",
    "version": 3
   },
   "file_extension": ".py",
   "mimetype": "text/x-python",
   "name": "python",
   "nbconvert_exporter": "python",
   "pygments_lexer": "ipython3",
   "version": "3.8.8"
  }
 },
 "nbformat": 4,
 "nbformat_minor": 5
}
