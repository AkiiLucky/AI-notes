{
 "cells": [
  {
   "cell_type": "code",
   "execution_count": 185,
   "metadata": {},
   "outputs": [],
   "source": [
    "import torch\n",
    "from torch import nn\n",
    "import numpy as np\n",
    "import matplotlib.pyplot as plt"
   ]
  },
  {
   "cell_type": "code",
   "execution_count": 186,
   "metadata": {},
   "outputs": [],
   "source": [
    "# 超参设置\n",
    "max_T = 100               # RNN 输入的最大时间步长\n",
    "learning_rate = 0.001     # 初始学习率\n",
    "num_epochs = 20           # 训练回数\n",
    "train_batch_size = 1      #每批处理的训练集数据\n",
    "test_batch_size = 1       #每批处理的测试集数据"
   ]
  },
  {
   "cell_type": "code",
   "execution_count": 187,
   "metadata": {},
   "outputs": [],
   "source": [
    "# 生成数据集\n",
    "def Generator_data(m,max_T):\n",
    "    dataset = []\n",
    "    for i in range(m):\n",
    "        T = np.random.randint(low=2,high=(max_T+1))\n",
    "        x = np.random.rand(T)\n",
    "        mask = np.zeros(T)\n",
    "        mask[0] = 1\n",
    "        mask[1] = 1\n",
    "        np.random.shuffle(mask)\n",
    "        X = np.vstack((x,mask))\n",
    "        y = 0\n",
    "        for i in range(T):\n",
    "            if (mask[i] == 1):\n",
    "                y += x[i]\n",
    "        dataset.append([X,y])\n",
    "    return dataset"
   ]
  },
  {
   "cell_type": "code",
   "execution_count": 188,
   "metadata": {},
   "outputs": [],
   "source": [
    "train_dataset = Generator_data(10000,max_T)     #生成训练集\n",
    "test_dataset = Generator_data(1000,max_T)       #生成测试集"
   ]
  },
  {
   "cell_type": "code",
   "execution_count": 189,
   "metadata": {},
   "outputs": [
    {
     "data": {
      "text/plain": [
       "((2, 75), (2, 10))"
      ]
     },
     "execution_count": 189,
     "metadata": {},
     "output_type": "execute_result"
    }
   ],
   "source": [
    "train_dataset[0][0].shape, train_dataset[-1][0].shape"
   ]
  },
  {
   "cell_type": "code",
   "execution_count": 190,
   "metadata": {},
   "outputs": [],
   "source": [
    "class RNN(nn.Module):\n",
    "    def __init__(self):\n",
    "        super(RNN, self).__init__()\n",
    "        self.rnn = nn.RNN(\n",
    "            input_size=2,\n",
    "            hidden_size=32,  # RNN隐藏神经元个数\n",
    "            num_layers=1,    # RNN隐藏层个数\n",
    "        )\n",
    "        self.out = nn.Linear(32, 1)\n",
    "\n",
    "    def forward(self, x, h):\n",
    "        # x (time_step, batch_size, input_size)\n",
    "        # h (n_layers, batch, hidden_size)\n",
    "        # out (time_step, batch_size, hidden_size)\n",
    "        out, h = self.rnn(x, h)\n",
    "        prediction = self.out(out)\n",
    "        return prediction, h"
   ]
  },
  {
   "cell_type": "code",
   "execution_count": 191,
   "metadata": {},
   "outputs": [
    {
     "name": "stdout",
     "output_type": "stream",
     "text": [
      "RNN(\n",
      "  (rnn): RNN(2, 32)\n",
      "  (out): Linear(in_features=32, out_features=1, bias=True)\n",
      ")\n"
     ]
    }
   ],
   "source": [
    "device = torch.device(\"cuda:0\" if torch.cuda.is_available() else \"cpu\")\n",
    "rnn = RNN()\n",
    "rnn = rnn.to(device)\n",
    "print(rnn)"
   ]
  },
  {
   "cell_type": "code",
   "execution_count": 192,
   "metadata": {},
   "outputs": [],
   "source": [
    "optimizer = torch.optim.Adam(rnn.parameters(),lr=learning_rate)\n",
    "criterion = nn.MSELoss()\n",
    "h_state = None  # 初始化隐藏层"
   ]
  },
  {
   "cell_type": "code",
   "execution_count": 193,
   "metadata": {},
   "outputs": [],
   "source": [
    "train_loss = []     #训练集损失\n",
    "test_loss = []      #测试集损失\n",
    "train_error = []    #训练集相对误差\n",
    "test_error = []     #测试集相对误差"
   ]
  },
  {
   "cell_type": "code",
   "execution_count": 194,
   "metadata": {},
   "outputs": [
    {
     "name": "stdout",
     "output_type": "stream",
     "text": [
      "epoch:0 train loss:0.0924 train error:0.4289\n",
      "epoch:0 test loss:0.0877 test error:0.4064\n",
      "epoch:1 train loss:0.0455 train error:0.2884\n",
      "epoch:1 test loss:0.0427 test error:0.2913\n",
      "epoch:2 train loss:0.0275 train error:0.2171\n",
      "epoch:2 test loss:0.0255 test error:0.2126\n",
      "epoch:3 train loss:0.0213 train error:0.1759\n",
      "epoch:3 test loss:0.0203 test error:0.1722\n",
      "epoch:4 train loss:0.0178 train error:0.1474\n",
      "epoch:4 test loss:0.0171 test error:0.1414\n",
      "epoch:5 train loss:0.0145 train error:0.1431\n",
      "epoch:5 test loss:0.0138 test error:0.1386\n",
      "epoch:6 train loss:0.0130 train error:0.1447\n",
      "epoch:6 test loss:0.0123 test error:0.1413\n",
      "epoch:7 train loss:0.0106 train error:0.1341\n",
      "epoch:7 test loss:0.0102 test error:0.1326\n",
      "epoch:8 train loss:0.0104 train error:0.1317\n",
      "epoch:8 test loss:0.0103 test error:0.1327\n",
      "epoch:9 train loss:0.0101 train error:0.1053\n",
      "epoch:9 test loss:0.0097 test error:0.0972\n",
      "epoch:10 train loss:0.0117 train error:0.1415\n",
      "epoch:10 test loss:0.0120 test error:0.1403\n",
      "epoch:11 train loss:0.0041 train error:0.0786\n",
      "epoch:11 test loss:0.0041 test error:0.0765\n",
      "epoch:12 train loss:0.0037 train error:0.0722\n",
      "epoch:12 test loss:0.0036 test error:0.0698\n",
      "epoch:13 train loss:0.0023 train error:0.0612\n",
      "epoch:13 test loss:0.0022 test error:0.0600\n",
      "epoch:14 train loss:0.0021 train error:0.0533\n",
      "epoch:14 test loss:0.0020 test error:0.0515\n",
      "epoch:15 train loss:0.0016 train error:0.0471\n",
      "epoch:15 test loss:0.0015 test error:0.0452\n",
      "epoch:16 train loss:0.0013 train error:0.0413\n",
      "epoch:16 test loss:0.0012 test error:0.0400\n",
      "epoch:17 train loss:0.0016 train error:0.0467\n",
      "epoch:17 test loss:0.0015 test error:0.0434\n",
      "epoch:18 train loss:0.0044 train error:0.0801\n",
      "epoch:18 test loss:0.0043 test error:0.0798\n",
      "epoch:19 train loss:0.0017 train error:0.0550\n",
      "epoch:19 test loss:0.0016 test error:0.0532\n"
     ]
    }
   ],
   "source": [
    "for epoch in range(num_epochs):\n",
    "    rnn.train()\n",
    "    for i in range(len(train_dataset)):\n",
    "        T = train_dataset[i][0].shape[1]\n",
    "        input = torch.from_numpy(train_dataset[i][0]).T.view(T,train_batch_size,2) # 尺寸大小为(time_step, batch, input_size)\n",
    "        label = torch.tensor(train_dataset[i][1]).view(1,1)\n",
    "        input, label = input.to(device), label.to(device)\n",
    "        prediction, h_state = rnn(input.float(),h_state) # RNN输出（预测结果，隐藏状态）\n",
    "        h_state = h_state.detach()  # 将每一次输出的中间状态传递下去(不带梯度)\n",
    "        y_pred = torch.sum(prediction).view(1,1) #对T个输出求和作为模型预测结果\n",
    "        loss = criterion(y_pred, label.float())\n",
    "        optimizer.zero_grad()\n",
    "        loss.backward()\n",
    "        optimizer.step()\n",
    "\n",
    "    rnn.eval()\n",
    "    with torch.no_grad(): \n",
    "        running_loss = 0.0\n",
    "        running_error = 0.0\n",
    "        for i in range(len(train_dataset)):\n",
    "            T = train_dataset[i][0].shape[1]\n",
    "            input = torch.from_numpy(train_dataset[i][0]).T.view(T,train_batch_size,2) # 尺寸大小为(time_step, batch, input_size)\n",
    "            label = torch.tensor(train_dataset[i][1]).view(1,1)\n",
    "            input, label = input.to(device), label.to(device)\n",
    "            prediction, h_state = rnn(input.float(),h_state) # RNN输出（预测结果，隐藏状态）\n",
    "            h_state = h_state.detach()  # 将每一次输出的中间状态传递下去(不带梯度)\n",
    "            y_pred = torch.sum(prediction).view(1,1)\n",
    "            loss = criterion(y_pred, label.float())\n",
    "            running_loss += loss.item()\n",
    "            running_error += float(abs((y_pred-label)/label))\n",
    "        train_loss.append(running_loss/len(train_dataset))\n",
    "        train_error.append(running_error/len(train_dataset))\n",
    "        print(\"epoch:%d train loss:%.4f train error:%.4f\" % (epoch, running_loss/len(train_dataset), running_error/len(train_dataset)))\n",
    "\n",
    "    rnn.eval()\n",
    "    with torch.no_grad(): \n",
    "        running_loss = 0.0\n",
    "        running_error = 0.0\n",
    "        for i in range(len(test_dataset)):\n",
    "            T = test_dataset[i][0].shape[1]\n",
    "            input = torch.from_numpy(test_dataset[i][0]).T.view(T,test_batch_size,2) # 尺寸大小为(time_step, batch, input_size)\n",
    "            label = torch.tensor(test_dataset[i][1]).view(1,1)\n",
    "            input, label = input.to(device), label.to(device)\n",
    "            prediction, h_state = rnn(input.float(),h_state) # RNN输出（预测结果，隐藏状态）\n",
    "            h_state = h_state.detach()  # 将每一次输出的中间状态传递下去(不带梯度)\n",
    "            y_pred = torch.sum(prediction).view(1,1) \n",
    "            loss = criterion(y_pred, label.float())\n",
    "            running_loss += loss.item()\n",
    "            running_error += float(abs((y_pred-label)/label))\n",
    "        test_loss.append(running_loss/len(test_dataset))\n",
    "        test_error.append(running_error/len(test_dataset))\n",
    "        print(\"epoch:%d test loss:%.4f test error:%.4f\" % (epoch, running_loss/len(test_dataset), running_error/len(test_dataset)))\n",
    "        "
   ]
  },
  {
   "cell_type": "code",
   "execution_count": 195,
   "metadata": {},
   "outputs": [
    {
     "data": {
      "text/plain": [
       "<matplotlib.legend.Legend at 0x1e74025e8b0>"
      ]
     },
     "execution_count": 195,
     "metadata": {},
     "output_type": "execute_result"
    },
    {
     "data": {
      "image/png": "[encoded data removed]",
      "text/plain": [
       "<Figure size 432x288 with 1 Axes>"
      ]
     },
     "metadata": {
      "needs_background": "light"
     },
     "output_type": "display_data"
    }
   ],
   "source": [
    "# 损失函数曲线\n",
    "plt.xlabel('epochs')\n",
    "plt.ylabel('loss')\n",
    "plt.plot(np.arange(len(train_loss)), train_loss)\n",
    "plt.plot(np.arange(len(test_loss)), test_loss)\n",
    "plt.legend(['Train Loss','Test Loss'])"
   ]
  },
  {
   "cell_type": "code",
   "execution_count": 196,
   "metadata": {},
   "outputs": [
    {
     "data": {
      "text/plain": [
       "<matplotlib.legend.Legend at 0x1e794ecdc70>"
      ]
     },
     "execution_count": 196,
     "metadata": {},
     "output_type": "execute_result"
    },
    {
     "data": {
      "image/png": "[encoded data removed]",
      "text/plain": [
       "<Figure size 432x288 with 1 Axes>"
      ]
     },
     "metadata": {
      "needs_background": "light"
     },
     "output_type": "display_data"
    }
   ],
   "source": [
    "# 误差曲线\n",
    "plt.xlabel('epochs')\n",
    "plt.ylabel('error')\n",
    "plt.plot(np.arange(len(train_error)), train_error)\n",
    "plt.plot(np.arange(len(test_error)), test_error)\n",
    "plt.legend(['Train Error','Test Error'])"
   ]
  },
  {
   "cell_type": "code",
   "execution_count": 198,
   "metadata": {},
   "outputs": [
    {
     "name": "stdout",
     "output_type": "stream",
     "text": [
      "测试集最小误差:  0.03996036428988907 \t索引: 16\n"
     ]
    }
   ],
   "source": [
    "print('测试集最小误差: ', min(test_error), '\\t索引:',test_error.index(min(test_error)))"
   ]
  },
  {
   "cell_type": "code",
   "execution_count": null,
   "metadata": {},
   "outputs": [],
   "source": []
  }
 ],
 "metadata": {
  "interpreter": {
   "hash": "6429919fe5eee10fa3db4376c75d0431aac4ee64633f3fde6de3e71a7b7c5c41"
  },
  "kernelspec": {
   "display_name": "Python 3.8.8 ('base')",
   "language": "python",
   "name": "python3"
  },
  "language_info": {
   "codemirror_mode": {
    "name": "ipython",
    "version": 3
   },
   "file_extension": ".py",
   "mimetype": "text/x-python",
   "name": "python",
   "nbconvert_exporter": "python",
   "pygments_lexer": "ipython3",
   "version": "3.8.8"
  },
  "orig_nbformat": 4
 },
 "nbformat": 4,
 "nbformat_minor": 2
}
