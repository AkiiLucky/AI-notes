{
 "cells": [
  {
   "cell_type": "markdown",
   "id": "b15585a1-9caf-4ab0-a7da-4df4fb2003e8",
   "metadata": {},
   "source": [
    "# 手写数字识别 (传统神经网络)"
   ]
  },
  {
   "cell_type": "markdown",
   "id": "965723b4-5318-4542-b7a5-81d9e164dcfd",
   "metadata": {},
   "source": [
    "## 导入必要的模块"
   ]
  },
  {
   "cell_type": "code",
   "execution_count": 1,
   "id": "3ecc9e7e-ce6a-44a4-ba60-7013f21e2621",
   "metadata": {},
   "outputs": [],
   "source": [
    "import numpy as np\n",
    "import torch\n",
    "\n",
    "from torchvision.datasets import mnist\n",
    "#导入预处理模块\n",
    "import torchvision.transforms as transforms\n",
    "from torch.utils.data import DataLoader\n",
    "#导入nn及优化器\n",
    "import torch.nn.functional as F\n",
    "import torch.optim as optim\n",
    "from torch import nn"
   ]
  },
  {
   "cell_type": "markdown",
   "id": "2887014c-c235-4375-8efd-d442c3932c73",
   "metadata": {},
   "source": [
    "## 定义超参数"
   ]
  },
  {
   "cell_type": "code",
   "execution_count": 2,
   "id": "e653ff88-0632-491d-a667-4bdf93eed30b",
   "metadata": {},
   "outputs": [],
   "source": [
    "train_batch_size = 64   #每批处理的训练集数据\n",
    "test_batch_size = 128   #每批处理的测试集数据\n",
    "learning_rate = 0.01\n",
    "num_epoches = 20        # 训练数据集的轮次\n",
    "lr = 0.01\n",
    "momentum = 0.5"
   ]
  },
  {
   "cell_type": "markdown",
   "id": "148b4f0b-103c-4b3c-80ba-a87990db63f0",
   "metadata": {},
   "source": [
    "## 加载及预处理数据"
   ]
  },
  {
   "cell_type": "code",
   "execution_count": 3,
   "id": "7fe5466a-058d-4ef4-ab8b-cdc808c25a0f",
   "metadata": {
    "tags": []
   },
   "outputs": [
    {
     "name": "stdout",
     "output_type": "stream",
     "text": [
      "Downloading http://yann.lecun.com/exdb/mnist/train-images-idx3-ubyte.gz\n",
      "Downloading http://yann.lecun.com/exdb/mnist/train-images-idx3-ubyte.gz to data\\MNIST\\raw\\train-images-idx3-ubyte.gz\n"
     ]
    },
    {
     "data": {
      "application/vnd.jupyter.widget-view+json": {
       "model_id": "5e3c018d39da4027b4280b57e09dc723",
       "version_major": 2,
       "version_minor": 0
      },
      "text/plain": [
       "  0%|          | 0/9912422 [00:00<?, ?it/s]"
      ]
     },
     "metadata": {},
     "output_type": "display_data"
    },
    {
     "name": "stdout",
     "output_type": "stream",
     "text": [
      "Extracting data\\MNIST\\raw\\train-images-idx3-ubyte.gz to data\\MNIST\\raw\n",
      "\n",
      "Downloading http://yann.lecun.com/exdb/mnist/train-labels-idx1-ubyte.gz\n",
      "Downloading http://yann.lecun.com/exdb/mnist/train-labels-idx1-ubyte.gz to data\\MNIST\\raw\\train-labels-idx1-ubyte.gz\n"
     ]
    },
    {
     "data": {
      "application/vnd.jupyter.widget-view+json": {
       "model_id": "639a5980a0614e8282aa7c001d57a732",
       "version_major": 2,
       "version_minor": 0
      },
      "text/plain": [
       "  0%|          | 0/28881 [00:00<?, ?it/s]"
      ]
     },
     "metadata": {},
     "output_type": "display_data"
    },
    {
     "name": "stdout",
     "output_type": "stream",
     "text": [
      "Extracting data\\MNIST\\raw\\train-labels-idx1-ubyte.gz to data\\MNIST\\raw\n",
      "\n",
      "Downloading http://yann.lecun.com/exdb/mnist/t10k-images-idx3-ubyte.gz\n",
      "Downloading http://yann.lecun.com/exdb/mnist/t10k-images-idx3-ubyte.gz to data\\MNIST\\raw\\t10k-images-idx3-ubyte.gz\n"
     ]
    },
    {
     "data": {
      "application/vnd.jupyter.widget-view+json": {
       "model_id": "b8e06256704542de9579ba602785b9e6",
       "version_major": 2,
       "version_minor": 0
      },
      "text/plain": [
       "  0%|          | 0/1648877 [00:00<?, ?it/s]"
      ]
     },
     "metadata": {},
     "output_type": "display_data"
    },
    {
     "name": "stdout",
     "output_type": "stream",
     "text": [
      "Extracting data\\MNIST\\raw\\t10k-images-idx3-ubyte.gz to data\\MNIST\\raw\n",
      "\n",
      "Downloading http://yann.lecun.com/exdb/mnist/t10k-labels-idx1-ubyte.gz\n",
      "Downloading http://yann.lecun.com/exdb/mnist/t10k-labels-idx1-ubyte.gz to data\\MNIST\\raw\\t10k-labels-idx1-ubyte.gz\n"
     ]
    },
    {
     "data": {
      "application/vnd.jupyter.widget-view+json": {
       "model_id": "f70168ab8ad646d9a0558ca86f3d681f",
       "version_major": 2,
       "version_minor": 0
      },
      "text/plain": [
       "  0%|          | 0/4542 [00:00<?, ?it/s]"
      ]
     },
     "metadata": {},
     "output_type": "display_data"
    },
    {
     "name": "stdout",
     "output_type": "stream",
     "text": [
      "Extracting data\\MNIST\\raw\\t10k-labels-idx1-ubyte.gz to data\\MNIST\\raw\n",
      "\n"
     ]
    },
    {
     "name": "stderr",
     "output_type": "stream",
     "text": [
      "E:\\Software\\Anaconda\\lib\\site-packages\\torchvision\\datasets\\mnist.py:498: UserWarning: The given NumPy array is not writeable, and PyTorch does not support non-writeable tensors. This means you can write to the underlying (supposedly non-writeable) NumPy array using the tensor. You may want to copy the array to protect its data or make it writeable before converting it to a tensor. This type of warning will be suppressed for the rest of this program. (Triggered internally at  ..\\torch\\csrc\\utils\\tensor_numpy.cpp:180.)\n",
      "  return torch.from_numpy(parsed.astype(m[2], copy=False)).view(*s)\n"
     ]
    }
   ],
   "source": [
    "# 构建 transform, 对图像做处理\n",
    "transform = transforms.Compose([\n",
    "    transforms.ToTensor(), # 将图片转换为tensor\n",
    "    transforms.Normalize([0.5], [0.5]) # 正则化，降低模型复杂度\n",
    "])\n",
    "\n",
    "#下载数据，并对数据进行预处理\n",
    "#训练集\n",
    "train_dataset = mnist.MNIST('data', train=True, transform=transform, download=True)\n",
    "#测试集\n",
    "test_dataset = mnist.MNIST('data', train=False, transform=transform, download=True)\n",
    "#加载数据\n",
    "train_loader = DataLoader(train_dataset, batch_size=train_batch_size, shuffle=True)\n",
    "test_loader = DataLoader(test_dataset, batch_size=test_batch_size, shuffle=False)"
   ]
  },
  {
   "cell_type": "code",
   "execution_count": 4,
   "id": "a3e7c5df-39e2-426c-98a0-a8032d139a41",
   "metadata": {
    "tags": []
   },
   "outputs": [
    {
     "name": "stdout",
     "output_type": "stream",
     "text": [
      "Dataset MNIST\n",
      "    Number of datapoints: 60000\n",
      "    Root location: data\n",
      "    Split: Train\n",
      "    StandardTransform\n",
      "Transform: Compose(\n",
      "               ToTensor()\n",
      "               Normalize(mean=[0.5], std=[0.5])\n",
      "           )\n"
     ]
    }
   ],
   "source": [
    "print(train_dataset)"
   ]
  },
  {
   "cell_type": "code",
   "execution_count": 5,
   "id": "36548f19-d053-4c12-a7d3-d45b833ea214",
   "metadata": {
    "tags": []
   },
   "outputs": [
    {
     "name": "stdout",
     "output_type": "stream",
     "text": [
      "Dataset MNIST\n",
      "    Number of datapoints: 10000\n",
      "    Root location: data\n",
      "    Split: Test\n",
      "    StandardTransform\n",
      "Transform: Compose(\n",
      "               ToTensor()\n",
      "               Normalize(mean=[0.5], std=[0.5])\n",
      "           )\n"
     ]
    }
   ],
   "source": [
    "print(test_dataset)"
   ]
  },
  {
   "cell_type": "markdown",
   "id": "d0bf07a7-4114-42ae-ba6d-125a5967d36f",
   "metadata": {},
   "source": [
    "## 可视化源数据"
   ]
  },
  {
   "cell_type": "code",
   "execution_count": 14,
   "id": "90be674a-4ce7-4d85-8b98-76c2dc4ab291",
   "metadata": {},
   "outputs": [
    {
     "data": {
      "image/png": "[encoded data removed]",
      "text/plain": [
       "<Figure size 432x288 with 16 Axes>"
      ]
     },
     "metadata": {},
     "output_type": "display_data"
    }
   ],
   "source": [
    "import matplotlib.pyplot as plt\n",
    "%matplotlib inline\n",
    "\n",
    "examples = enumerate(test_loader)\n",
    "batch_idx, (example_data, example_targets) = next(examples)\n",
    "\n",
    "# 抽取 16 张手写数字图片\n",
    "fig = plt.figure()\n",
    "for i in range(16):\n",
    "    plt.subplot(4,4,i+1)\n",
    "    plt.imshow(example_data[i][0], cmap='gray', interpolation='none')\n",
    "    plt.xticks([])\n",
    "    plt.yticks([])"
   ]
  },
  {
   "cell_type": "markdown",
   "id": "bb0de2cb-d28f-48a9-84fc-57411a33e569",
   "metadata": {},
   "source": [
    "## 构建模型"
   ]
  },
  {
   "cell_type": "code",
   "execution_count": 16,
   "id": "2c06d81b-3316-410e-82aa-298ea362bfc6",
   "metadata": {},
   "outputs": [],
   "source": [
    "class Net(nn.Module):\n",
    "    def __init__(self, in_dim, n_hidden_1, out_dim):\n",
    "        super(Net, self).__init__()\n",
    "        self.layer1 = nn.Sequential(nn.Linear(in_dim, n_hidden_1), nn.BatchNorm1d(n_hidden_1))\n",
    "        self.layer2 = nn.Sequential(nn.Linear(n_hidden_1, out_dim))\n",
    "        \n",
    "    def forward(self, x):\n",
    "        x = torch.relu(self.layer1(x))\n",
    "        x = torch.sigmoid(self.layer2(x))\n",
    "        return x"
   ]
  },
  {
   "cell_type": "markdown",
   "id": "a88de8e4-5947-42b6-bedf-039578afdc23",
   "metadata": {},
   "source": [
    "## 定义损失函数"
   ]
  },
  {
   "cell_type": "code",
   "execution_count": 19,
   "id": "e22eb606-2d8b-4baa-911f-3852d8568f96",
   "metadata": {},
   "outputs": [],
   "source": [
    "device = torch.device(\"cuda:0\" if torch.cuda.is_available() else \"cpu\")\n",
    "# 实例化网络\n",
    "model = Net(28 * 28, 300, 10)\n",
    "model.to(device)\n",
    "\n",
    "# 定义损失函数和优化器\n",
    "criterion = nn.CrossEntropyLoss()\n",
    "optimizer = optim.SGD(model.parameters(), lr=lr, momentum=momentum)  # 优化器，用于更新参数"
   ]
  },
  {
   "cell_type": "markdown",
   "id": "e9d9c71c-eecd-4784-9158-06bcb16ada47",
   "metadata": {},
   "source": [
    "## 训练模型"
   ]
  },
  {
   "cell_type": "code",
   "execution_count": 21,
   "id": "47f613a7-b3fa-49ee-a794-648c791df7d0",
   "metadata": {},
   "outputs": [],
   "source": [
    "# 开始训练\n",
    "losses = []\n",
    "acces = []\n",
    "eval_losses = []\n",
    "eval_acces = []"
   ]
  },
  {
   "cell_type": "code",
   "execution_count": 24,
   "id": "1a570407-4bb4-456f-ab72-077e6e312077",
   "metadata": {},
   "outputs": [
    {
     "name": "stdout",
     "output_type": "stream",
     "text": [
      "epoch: 0, Train Loss: 1.6360, Train Acc: 0.8907, Test Loss: 1.6020, Test Acc: 0.9115\n",
      "epoch: 1, Train Loss: 1.6019, Train Acc: 0.9022, Test Loss: 1.5796, Test Acc: 0.9194\n",
      "epoch: 2, Train Loss: 1.5840, Train Acc: 0.9109, Test Loss: 1.5670, Test Acc: 0.9237\n",
      "epoch: 3, Train Loss: 1.5726, Train Acc: 0.9165, Test Loss: 1.5585, Test Acc: 0.9284\n",
      "epoch: 4, Train Loss: 1.5646, Train Acc: 0.9213, Test Loss: 1.5526, Test Acc: 0.9322\n",
      "epoch: 5, Train Loss: 1.5584, Train Acc: 0.9247, Test Loss: 1.5468, Test Acc: 0.9342\n",
      "epoch: 6, Train Loss: 1.5535, Train Acc: 0.9277, Test Loss: 1.5435, Test Acc: 0.9369\n",
      "epoch: 7, Train Loss: 1.5496, Train Acc: 0.9309, Test Loss: 1.5400, Test Acc: 0.9386\n",
      "epoch: 8, Train Loss: 1.5459, Train Acc: 0.9339, Test Loss: 1.5368, Test Acc: 0.9410\n",
      "epoch: 9, Train Loss: 1.5426, Train Acc: 0.9359, Test Loss: 1.5346, Test Acc: 0.9423\n",
      "epoch: 10, Train Loss: 1.5404, Train Acc: 0.9379, Test Loss: 1.5335, Test Acc: 0.9427\n",
      "epoch: 11, Train Loss: 1.5375, Train Acc: 0.9395, Test Loss: 1.5311, Test Acc: 0.9447\n",
      "epoch: 12, Train Loss: 1.5359, Train Acc: 0.9411, Test Loss: 1.5290, Test Acc: 0.9448\n",
      "epoch: 13, Train Loss: 1.5338, Train Acc: 0.9429, Test Loss: 1.5272, Test Acc: 0.9464\n",
      "epoch: 14, Train Loss: 1.5320, Train Acc: 0.9448, Test Loss: 1.5256, Test Acc: 0.9481\n",
      "epoch: 15, Train Loss: 1.5303, Train Acc: 0.9458, Test Loss: 1.5245, Test Acc: 0.9484\n",
      "epoch: 16, Train Loss: 1.5289, Train Acc: 0.9467, Test Loss: 1.5232, Test Acc: 0.9496\n",
      "epoch: 17, Train Loss: 1.5274, Train Acc: 0.9483, Test Loss: 1.5225, Test Acc: 0.9505\n",
      "epoch: 18, Train Loss: 1.5261, Train Acc: 0.9495, Test Loss: 1.5217, Test Acc: 0.9514\n",
      "epoch: 19, Train Loss: 1.5249, Train Acc: 0.9502, Test Loss: 1.5199, Test Acc: 0.9533\n"
     ]
    }
   ],
   "source": [
    "for epoch in range(num_epoches):\n",
    "    train_loss = 0\n",
    "    train_acc = 0\n",
    "    model.train()\n",
    "    # 动态修改参数学习率\n",
    "    if epoch%5 == 0:\n",
    "        optimizer.param_groups[0]['lr'] *= 0.9\n",
    "        \n",
    "    for img, label in train_loader:\n",
    "        img = img.to(device)\n",
    "        label = label.to(device)\n",
    "        img = img.view(img.size(0), -1) # 拉平\n",
    "        # 正向传播\n",
    "        out = model(img)\n",
    "        loss = criterion(out, label)\n",
    "        # 反向传播\n",
    "        optimizer.zero_grad()\n",
    "        loss.backward()\n",
    "        optimizer.step()\n",
    "        # 记录误差\n",
    "        train_loss += loss.item()\n",
    "        # 计算分类的准确率\n",
    "        _, pred = out.max(1)\n",
    "        num_correct = (pred == label).sum().item()\n",
    "        acc = num_correct / img.shape[0]\n",
    "        train_acc += acc\n",
    "        \n",
    "    losses.append(train_loss / len(train_loader))\n",
    "    acces.append(train_acc / len(train_loader))\n",
    "    \n",
    "    # 在测试集上检验效果\n",
    "    eval_loss = 0\n",
    "    eval_acc = 0\n",
    "    # 将模式改为预测模式\n",
    "    model.eval()\n",
    "    for img, label in test_loader:\n",
    "        img = img.to(device)\n",
    "        label = label.to(device)\n",
    "        img = img.view(img.size(0), -1) \n",
    "        out = model(img)\n",
    "        loss = criterion(out, label)\n",
    "        # 记录误差\n",
    "        eval_loss += loss.item()\n",
    "        # 记录准确率\n",
    "        _, pred = out.max(1)\n",
    "        num_correct = (pred == label).sum().item()\n",
    "        acc = num_correct / img.shape[0]\n",
    "        eval_acc += acc \n",
    "        \n",
    "    eval_losses.append(eval_loss / len(test_loader))\n",
    "    eval_acces.append(eval_acc / len(test_loader))\n",
    "    \n",
    "    print('epoch: {}, Train Loss: {:.4f}, Train Acc: {:.4f}, Test Loss: {:.4f}, Test Acc: {:.4f}'\n",
    "          .format(epoch,train_loss / len(train_loader),train_acc / len(train_loader),\n",
    "                  eval_loss / len(test_loader), eval_acc / len(test_loader)))"
   ]
  },
  {
   "cell_type": "markdown",
   "id": "7cf63893-be1d-4c42-9125-fc04a74178da",
   "metadata": {},
   "source": [
    "## 可视化训练及测试损失值"
   ]
  },
  {
   "cell_type": "code",
   "execution_count": 25,
   "id": "779d79b6-12d0-4cf3-bc6c-3e861afdcdf3",
   "metadata": {},
   "outputs": [
    {
     "data": {
      "text/plain": [
       "<matplotlib.legend.Legend at 0x27b04846220>"
      ]
     },
     "execution_count": 25,
     "metadata": {},
     "output_type": "execute_result"
    },
    {
     "data": {
      "image/png": "[encoded data removed]",
      "text/plain": [
       "<Figure size 432x288 with 1 Axes>"
      ]
     },
     "metadata": {
      "needs_background": "light"
     },
     "output_type": "display_data"
    }
   ],
   "source": [
    "plt.title('train loss')\n",
    "plt.plot(np.arange(len(losses)), losses)\n",
    "plt.legend(['Train Loss'], loc='upper right')"
   ]
  },
  {
   "cell_type": "code",
   "execution_count": 26,
   "id": "eacc641f-ecb7-4a33-91bc-95284d2fd44f",
   "metadata": {},
   "outputs": [
    {
     "data": {
      "text/plain": [
       "True"
      ]
     },
     "execution_count": 26,
     "metadata": {},
     "output_type": "execute_result"
    }
   ],
   "source": [
    "torch.cuda.is_available()"
   ]
  },
  {
   "cell_type": "code",
   "execution_count": null,
   "id": "91a64fbe-312d-48ae-95a5-6bd75acce00a",
   "metadata": {},
   "outputs": [],
   "source": []
  }
 ],
 "metadata": {
  "kernelspec": {
   "display_name": "Python 3 (ipykernel)",
   "language": "python",
   "name": "python3"
  },
  "language_info": {
   "codemirror_mode": {
    "name": "ipython",
    "version": 3
   },
   "file_extension": ".py",
   "mimetype": "text/x-python",
   "name": "python",
   "nbconvert_exporter": "python",
   "pygments_lexer": "ipython3",
   "version": "3.8.8"
  }
 },
 "nbformat": 4,
 "nbformat_minor": 5
}
